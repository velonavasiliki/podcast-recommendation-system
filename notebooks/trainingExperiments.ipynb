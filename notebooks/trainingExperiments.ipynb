{
  "cells": [
    {
      "cell_type": "markdown",
      "metadata": {
        "id": "WXGqxrZ1z_lO"
      },
      "source": [
        "# Podcast Recommendation System with Hybrid Neural Collaborative Filtering\n"
      ]
    },
    {
      "cell_type": "markdown",
      "metadata": {
        "id": "LQg03SrRjkd0"
      },
      "source": [
        "We will train our model using three different data splits:\n",
        "\n",
        "1. **Temporal 80–20% split among active users** (users with 3 or more reviews)  \n",
        "2. **Random 80–20% split among active users**  \n",
        "3. **Active-user stratified 80–20% split**, where each active user has at least 2 reviews in the training set and at least 1 review in the test set  \n",
        "\n",
        "**Reminder:**  \n",
        "In the `dataPreprocessing.ipynb` notebook, we started with a dataset of over 5 million reviews and filtered it down to 2.9 million reviews from active users only.  \n",
        "\n",
        "We currently have:  \n",
        "- Temporal 80–20% train and test splits saved in **Parquet** format (including BERT-based review embeddings as features)  \n",
        "- Pickled encoders for **`author_id`** and **`podcast_id`**\n"
      ]
    },
    {
      "cell_type": "markdown",
      "metadata": {
        "id": "JXQnXY66z_lQ"
      },
      "source": [
        "---\n",
        "## 1. Setup and Data Loading"
      ]
    },
    {
      "cell_type": "code",
      "execution_count": 1,
      "metadata": {
        "id": "WMB8wzXuz_lR"
      },
      "outputs": [],
      "source": [
        "import tensorflow as tf\n",
        "import pandas as pd\n",
        "import numpy as np\n",
        "import pickle\n",
        "import sys\n",
        "import gc\n",
        "import time\n",
        "from pathlib import Path\n",
        "from tensorflow.keras.optimizers import Adam\n",
        "from tensorflow.keras.callbacks import EarlyStopping, ReduceLROnPlateau\n",
        "from sklearn.metrics import mean_absolute_error, mean_squared_error, r2_score\n",
        "from scipy.stats import spearmanr\n",
        "import matplotlib.pyplot as plt\n",
        "import seaborn as sns\n",
        "\n",
        "# Import config and models\n",
        "from config import Config\n",
        "sys.path.insert(0, str(Config.DATA_DIR.parent))\n",
        "from models import HybridNCF, create_model\n",
        "\n",
        "# Set style\n",
        "sns.set_style('whitegrid')\n",
        "plt.rcParams['figure.figsize'] = (12, 6)"
      ]
    },
    {
      "cell_type": "code",
      "execution_count": 2,
      "metadata": {
        "colab": {
          "base_uri": "https://localhost:8080/"
        },
        "id": "L4jdnQbIz_lS",
        "outputId": "04e2c5b1-2643-4b4f-e899-5fbcc54c0bf9"
      },
      "outputs": [
        {
          "name": "stdout",
          "output_type": "stream",
          "text": [
            "  Train samples: 1,833,084\n",
            "  Test samples: 458,271\n",
            "  Unique users: 376,288\n",
            "  Unique podcasts: 162,118\n",
            "  BERT embedding dim: 384\n"
          ]
        }
      ],
      "source": [
        "# Load Data\n",
        "DATA_DIR = Config.DATA_DIR.parent\n",
        "\n",
        "with open(DATA_DIR / 'encoders.pkl', 'rb') as f:\n",
        "    encoders = pickle.load(f)\n",
        "    user_encoder = encoders['user_encoder']\n",
        "    podcast_encoder = encoders['podcast_encoder']\n",
        "\n",
        "columns_to_load = ['auth_id_encoded', 'podcast_id_encoded', 'rating', 'bert_embedding_all-MiniLM-L6-v2']\n",
        "\n",
        "train_df = pd.read_parquet(DATA_DIR / 'train.parquet', columns=columns_to_load)\n",
        "test_df = pd.read_parquet(DATA_DIR / 'test.parquet', columns=columns_to_load)\n",
        "\n",
        "print(f\"  Train samples: {len(train_df):,}\")\n",
        "print(f\"  Test samples: {len(test_df):,}\")\n",
        "print(f\"  Unique users: {train_df['auth_id_encoded'].nunique():,}\")\n",
        "print(f\"  Unique podcasts: {train_df['podcast_id_encoded'].nunique():,}\")\n",
        "print(f\"  BERT embedding dim: {len(train_df['bert_embedding_all-MiniLM-L6-v2'].iloc[0])}\")"
      ]
    },
    {
      "cell_type": "markdown",
      "metadata": {
        "id": "OTKoGnW3z_lU"
      },
      "source": [
        "## 2. Model Architecture\n",
        "\n",
        "### Hybrid Neural Collaborative Filtering (NCF)\n",
        "\n",
        "The model combines **collaborative filtering**, **content-based filtering**, and a **deep fusion network**:\n",
        "\n",
        "- **Collaborative filtering:** user and item embeddings with interaction terms and bias embeddings  \n",
        "- **Content-based filtering:** 384-dimensional BERT embeddings from *all-MiniLM-L6-v2* projected to 64 dimensions  \n",
        "- **Deep fusion network:** two MLP layers (128 → 64 units) with ReLU activation, batch normalization, dropout (0.2), and L2 regularization (1e-5)  \n",
        "\n",
        "**Training configuration:**\n",
        "- Optimizer: Adam (learning rate = 0.0002, gradient clipping)\n",
        "- Loss: Mean Squared Error (MSE)\n",
        "- Early stopping: patience = 5\n",
        "- Learning rate reduction on plateau: factor = 0.5, patience = 4  \n",
        "\n",
        "This hybrid approach enables the model to generate recommendations based on both user behavior patterns and podcast content characteristics, while capturing complex non-linear relationships between these signals.\n"
      ]
    },
    {
      "cell_type": "markdown",
      "metadata": {
        "id": "rijdeOh9uyXJ"
      },
      "source": [
        "## 2.1 Temporal Split"
      ]
    },
    {
      "cell_type": "code",
      "execution_count": 3,
      "metadata": {
        "colab": {
          "base_uri": "https://localhost:8080/"
        },
        "id": "XocTrfedz_lU",
        "outputId": "c24707a8-60a4-488b-ef58-893c3f6e9a98"
      },
      "outputs": [
        {
          "name": "stdout",
          "output_type": "stream",
          "text": [
            "\n",
            "Processing 1,833,084 rows in 4 chunks...\n",
            "  Processed 1,000,000/1,833,084 rows...\n",
            "  Processed 1,833,084/1,833,084 rows...\n",
            "  Shape: (182005, 384)\n",
            "  Memory: 266.6 MB\n",
            "  Podcasts with embeddings: 162,118\n"
          ]
        }
      ],
      "source": [
        "# Aggregate BERT Embeddings by Podcast\n",
        "n_podcasts = train_df['podcast_id_encoded'].max() + 1\n",
        "embedding_dim = len(train_df['bert_embedding_all-MiniLM-L6-v2'].iloc[0])\n",
        "\n",
        "pretrained_podcast_embeddings = np.zeros((n_podcasts, embedding_dim), dtype=np.float32)\n",
        "embedding_counts = np.zeros(n_podcasts, dtype=np.int32)\n",
        "\n",
        "# Process in chunks to manage memory\n",
        "chunk_size = 500000\n",
        "n_chunks = (len(train_df) + chunk_size - 1) // chunk_size\n",
        "\n",
        "print(f\"\\nProcessing {len(train_df):,} rows in {n_chunks} chunks...\")\n",
        "for i in range(n_chunks):\n",
        "    start_idx = i * chunk_size\n",
        "    end_idx = min((i + 1) * chunk_size, len(train_df))\n",
        "\n",
        "    chunk_embeddings = np.stack(train_df['bert_embedding_all-MiniLM-L6-v2'].iloc[start_idx:end_idx].values)\n",
        "    chunk_podcast_ids = train_df['podcast_id_encoded'].iloc[start_idx:end_idx].values\n",
        "\n",
        "    # Vectorized accumulation (faster than Python loop)\n",
        "    np.add.at(pretrained_podcast_embeddings, chunk_podcast_ids, chunk_embeddings)\n",
        "    np.add.at(embedding_counts, chunk_podcast_ids, 1)\n",
        "\n",
        "    del chunk_embeddings, chunk_podcast_ids\n",
        "\n",
        "    if (i + 1) % 2 == 0 or i == n_chunks - 1:\n",
        "        print(f\"  Processed {min(end_idx, len(train_df)):,}/{len(train_df):,} rows...\")\n",
        "        gc.collect()\n",
        "\n",
        "# Average embeddings\n",
        "mask = embedding_counts > 0\n",
        "pretrained_podcast_embeddings[mask] /= embedding_counts[mask, np.newaxis]\n",
        "\n",
        "del embedding_counts, mask\n",
        "gc.collect()\n",
        "\n",
        "print(f\"  Shape: {pretrained_podcast_embeddings.shape}\")\n",
        "print(f\"  Memory: {pretrained_podcast_embeddings.nbytes / 1024**2:.1f} MB\")\n",
        "print(f\"  Podcasts with embeddings: {(pretrained_podcast_embeddings.sum(axis=1) != 0).sum():,}\")"
      ]
    },
    {
      "cell_type": "code",
      "execution_count": 4,
      "metadata": {
        "id": "ogioAANXz_lU"
      },
      "outputs": [],
      "source": [
        "# Prepare Training Data\n",
        "n_users = train_df['auth_id_encoded'].max() + 1\n",
        "n_podcasts = train_df['podcast_id_encoded'].max() + 1\n",
        "\n",
        "# Use int32 instead of int64 to save memory\n",
        "X_train = {\n",
        "    'user': train_df['auth_id_encoded'].values.astype(np.int32),\n",
        "    'item': train_df['podcast_id_encoded'].values.astype(np.int32)\n",
        "}\n",
        "y_train = train_df['rating'].values.astype(np.float32)\n",
        "\n",
        "X_test = {\n",
        "    'user': test_df['auth_id_encoded'].values.astype(np.int32),\n",
        "    'item': test_df['podcast_id_encoded'].values.astype(np.int32)\n",
        "}\n",
        "y_test = test_df['rating'].values.astype(np.float32)\n",
        "\n"
      ]
    },
    {
      "cell_type": "code",
      "execution_count": 5,
      "metadata": {
        "id": "IsdXxQvhz_lV"
      },
      "outputs": [],
      "source": [
        "# Define Model Configuration\n",
        "config = {\n",
        "    'name': 'Hybrid NCF',\n",
        "    'embedding_dim': 64,\n",
        "    'mlp_layers': [128, 64],\n",
        "    'dropout_rate': 0.2,\n",
        "    'freeze_pretrained': False,\n",
        "    'l2_reg': 1e-5,\n",
        "    'learning_rate': 0.0002\n",
        "}"
      ]
    },
    {
      "cell_type": "code",
      "execution_count": 6,
      "metadata": {
        "id": "mPmMhqF_z_lV"
      },
      "outputs": [],
      "source": [
        "# Create model\n",
        "model = create_model(n_users, n_podcasts, pretrained_podcast_embeddings, config)\n",
        "\n",
        "optimizer = Adam(\n",
        "    learning_rate=config['learning_rate'],\n",
        "    clipnorm=1.0\n",
        ")\n",
        "\n",
        "model.compile(\n",
        "    optimizer=optimizer,\n",
        "    loss='mse',\n",
        "    metrics=['mae']\n",
        ")"
      ]
    },
    {
      "cell_type": "code",
      "execution_count": 7,
      "metadata": {
        "colab": {
          "base_uri": "https://localhost:8080/",
          "height": 1000
        },
        "id": "PXdm43UQz_lV",
        "outputId": "2691f4e6-bf69-4070-c91b-d2d223e22262"
      },
      "outputs": [
        {
          "name": "stdout",
          "output_type": "stream",
          "text": [
            "Epoch 1/30\n",
            "\u001b[1m761/761\u001b[0m \u001b[32m━━━━━━━━━━━━━━━━━━━━\u001b[0m\u001b[37m\u001b[0m \u001b[1m36s\u001b[0m 31ms/step - loss: 18.3397 - mae: 4.0349 - val_loss: 4.0053 - val_mae: 1.9190 - learning_rate: 2.0000e-04\n",
            "Epoch 2/30\n",
            "\u001b[1m761/761\u001b[0m \u001b[32m━━━━━━━━━━━━━━━━━━━━\u001b[0m\u001b[37m\u001b[0m \u001b[1m18s\u001b[0m 23ms/step - loss: 2.7998 - mae: 1.3272 - val_loss: 0.8380 - val_mae: 0.5883 - learning_rate: 2.0000e-04\n",
            "Epoch 3/30\n",
            "\u001b[1m761/761\u001b[0m \u001b[32m━━━━━━━━━━━━━━━━━━━━\u001b[0m\u001b[37m\u001b[0m \u001b[1m18s\u001b[0m 23ms/step - loss: 1.2955 - mae: 0.8210 - val_loss: 0.8330 - val_mae: 0.5703 - learning_rate: 2.0000e-04\n",
            "Epoch 4/30\n",
            "\u001b[1m761/761\u001b[0m \u001b[32m━━━━━━━━━━━━━━━━━━━━\u001b[0m\u001b[37m\u001b[0m \u001b[1m18s\u001b[0m 23ms/step - loss: 0.9607 - mae: 0.6856 - val_loss: 0.8317 - val_mae: 0.5352 - learning_rate: 2.0000e-04\n",
            "Epoch 5/30\n",
            "\u001b[1m761/761\u001b[0m \u001b[32m━━━━━━━━━━━━━━━━━━━━\u001b[0m\u001b[37m\u001b[0m \u001b[1m18s\u001b[0m 23ms/step - loss: 0.7635 - mae: 0.5993 - val_loss: 0.8472 - val_mae: 0.5237 - learning_rate: 2.0000e-04\n",
            "Epoch 6/30\n",
            "\u001b[1m761/761\u001b[0m \u001b[32m━━━━━━━━━━━━━━━━━━━━\u001b[0m\u001b[37m\u001b[0m \u001b[1m17s\u001b[0m 23ms/step - loss: 0.6274 - mae: 0.5350 - val_loss: 0.8630 - val_mae: 0.4997 - learning_rate: 2.0000e-04\n",
            "Epoch 7/30\n",
            "\u001b[1m761/761\u001b[0m \u001b[32m━━━━━━━━━━━━━━━━━━━━\u001b[0m\u001b[37m\u001b[0m \u001b[1m18s\u001b[0m 23ms/step - loss: 0.5270 - mae: 0.4843 - val_loss: 0.8645 - val_mae: 0.4873 - learning_rate: 2.0000e-04\n",
            "Epoch 8/30\n",
            "\u001b[1m760/761\u001b[0m \u001b[32m━━━━━━━━━━━━━━━━━━━\u001b[0m\u001b[37m━\u001b[0m \u001b[1m0s\u001b[0m 22ms/step - loss: 0.4544 - mae: 0.4434\n",
            "Epoch 8: ReduceLROnPlateau reducing learning rate to 9.999999747378752e-05.\n",
            "\u001b[1m761/761\u001b[0m \u001b[32m━━━━━━━━━━━━━━━━━━━━\u001b[0m\u001b[37m\u001b[0m \u001b[1m18s\u001b[0m 23ms/step - loss: 0.4545 - mae: 0.4434 - val_loss: 0.8741 - val_mae: 0.4819 - learning_rate: 2.0000e-04\n",
            "Epoch 9/30\n",
            "\u001b[1m761/761\u001b[0m \u001b[32m━━━━━━━━━━━━━━━━━━━━\u001b[0m\u001b[37m\u001b[0m \u001b[1m18s\u001b[0m 23ms/step - loss: 0.3850 - mae: 0.4052 - val_loss: 0.8836 - val_mae: 0.4925 - learning_rate: 1.0000e-04\n",
            "Epoch 9: early stopping\n",
            "Restoring model weights from the end of the best epoch: 4.\n",
            "Training complete! Time: 177.8s (3.0 min)\n"
          ]
        },
        {
          "data": {
            "text/html": [
              "<pre style=\"white-space:pre;overflow-x:auto;line-height:normal;font-family:Menlo,'DejaVu Sans Mono',consolas,'Courier New',monospace\"><span style=\"font-weight: bold\">Model: \"hybrid_ncf\"</span>\n",
              "</pre>\n"
            ],
            "text/plain": [
              "\u001b[1mModel: \"hybrid_ncf\"\u001b[0m\n"
            ]
          },
          "metadata": {},
          "output_type": "display_data"
        },
        {
          "data": {
            "text/html": [
              "<pre style=\"white-space:pre;overflow-x:auto;line-height:normal;font-family:Menlo,'DejaVu Sans Mono',consolas,'Courier New',monospace\">┏━━━━━━━━━━━━━━━━━━━━━━━━━━━━━━━━━┳━━━━━━━━━━━━━━━━━━━━━━━━┳━━━━━━━━━━━━━━━┓\n",
              "┃<span style=\"font-weight: bold\"> Layer (type)                    </span>┃<span style=\"font-weight: bold\"> Output Shape           </span>┃<span style=\"font-weight: bold\">       Param # </span>┃\n",
              "┡━━━━━━━━━━━━━━━━━━━━━━━━━━━━━━━━━╇━━━━━━━━━━━━━━━━━━━━━━━━╇━━━━━━━━━━━━━━━┩\n",
              "│ embedding (<span style=\"color: #0087ff; text-decoration-color: #0087ff\">Embedding</span>)           │ (<span style=\"color: #00d7ff; text-decoration-color: #00d7ff\">None</span>, <span style=\"color: #00af00; text-decoration-color: #00af00\">1</span>)              │       <span style=\"color: #00af00; text-decoration-color: #00af00\">398,209</span> │\n",
              "├─────────────────────────────────┼────────────────────────┼───────────────┤\n",
              "│ embedding_1 (<span style=\"color: #0087ff; text-decoration-color: #0087ff\">Embedding</span>)         │ (<span style=\"color: #00d7ff; text-decoration-color: #00d7ff\">None</span>, <span style=\"color: #00af00; text-decoration-color: #00af00\">1</span>)              │       <span style=\"color: #00af00; text-decoration-color: #00af00\">182,005</span> │\n",
              "├─────────────────────────────────┼────────────────────────┼───────────────┤\n",
              "│ user_cf_embedding (<span style=\"color: #0087ff; text-decoration-color: #0087ff\">Embedding</span>)   │ (<span style=\"color: #00d7ff; text-decoration-color: #00d7ff\">None</span>, <span style=\"color: #00af00; text-decoration-color: #00af00\">64</span>)             │    <span style=\"color: #00af00; text-decoration-color: #00af00\">25,485,376</span> │\n",
              "├─────────────────────────────────┼────────────────────────┼───────────────┤\n",
              "│ item_cf_embedding (<span style=\"color: #0087ff; text-decoration-color: #0087ff\">Embedding</span>)   │ (<span style=\"color: #00d7ff; text-decoration-color: #00d7ff\">None</span>, <span style=\"color: #00af00; text-decoration-color: #00af00\">64</span>)             │    <span style=\"color: #00af00; text-decoration-color: #00af00\">11,648,320</span> │\n",
              "├─────────────────────────────────┼────────────────────────┼───────────────┤\n",
              "│ item_content_embedding          │ (<span style=\"color: #00d7ff; text-decoration-color: #00d7ff\">None</span>, <span style=\"color: #00af00; text-decoration-color: #00af00\">384</span>)            │    <span style=\"color: #00af00; text-decoration-color: #00af00\">69,889,920</span> │\n",
              "│ (<span style=\"color: #0087ff; text-decoration-color: #0087ff\">Embedding</span>)                     │                        │               │\n",
              "├─────────────────────────────────┼────────────────────────┼───────────────┤\n",
              "│ content_projection (<span style=\"color: #0087ff; text-decoration-color: #0087ff\">Dense</span>)      │ (<span style=\"color: #00d7ff; text-decoration-color: #00d7ff\">None</span>, <span style=\"color: #00af00; text-decoration-color: #00af00\">64</span>)             │        <span style=\"color: #00af00; text-decoration-color: #00af00\">24,640</span> │\n",
              "├─────────────────────────────────┼────────────────────────┼───────────────┤\n",
              "│ fusion_dense_0 (<span style=\"color: #0087ff; text-decoration-color: #0087ff\">Dense</span>)          │ (<span style=\"color: #00d7ff; text-decoration-color: #00d7ff\">None</span>, <span style=\"color: #00af00; text-decoration-color: #00af00\">128</span>)            │        <span style=\"color: #00af00; text-decoration-color: #00af00\">32,896</span> │\n",
              "├─────────────────────────────────┼────────────────────────┼───────────────┤\n",
              "│ fusion_bn_0                     │ (<span style=\"color: #00d7ff; text-decoration-color: #00d7ff\">None</span>, <span style=\"color: #00af00; text-decoration-color: #00af00\">128</span>)            │           <span style=\"color: #00af00; text-decoration-color: #00af00\">512</span> │\n",
              "│ (<span style=\"color: #0087ff; text-decoration-color: #0087ff\">BatchNormalization</span>)            │                        │               │\n",
              "├─────────────────────────────────┼────────────────────────┼───────────────┤\n",
              "│ fusion_dropout_0 (<span style=\"color: #0087ff; text-decoration-color: #0087ff\">Dropout</span>)      │ ?                      │             <span style=\"color: #00af00; text-decoration-color: #00af00\">0</span> │\n",
              "├─────────────────────────────────┼────────────────────────┼───────────────┤\n",
              "│ fusion_dense_1 (<span style=\"color: #0087ff; text-decoration-color: #0087ff\">Dense</span>)          │ (<span style=\"color: #00d7ff; text-decoration-color: #00d7ff\">None</span>, <span style=\"color: #00af00; text-decoration-color: #00af00\">64</span>)             │         <span style=\"color: #00af00; text-decoration-color: #00af00\">8,256</span> │\n",
              "├─────────────────────────────────┼────────────────────────┼───────────────┤\n",
              "│ fusion_bn_1                     │ (<span style=\"color: #00d7ff; text-decoration-color: #00d7ff\">None</span>, <span style=\"color: #00af00; text-decoration-color: #00af00\">64</span>)             │           <span style=\"color: #00af00; text-decoration-color: #00af00\">256</span> │\n",
              "│ (<span style=\"color: #0087ff; text-decoration-color: #0087ff\">BatchNormalization</span>)            │                        │               │\n",
              "├─────────────────────────────────┼────────────────────────┼───────────────┤\n",
              "│ fusion_dropout_1 (<span style=\"color: #0087ff; text-decoration-color: #0087ff\">Dropout</span>)      │ ?                      │             <span style=\"color: #00af00; text-decoration-color: #00af00\">0</span> │\n",
              "├─────────────────────────────────┼────────────────────────┼───────────────┤\n",
              "│ output (<span style=\"color: #0087ff; text-decoration-color: #0087ff\">Dense</span>)                  │ (<span style=\"color: #00d7ff; text-decoration-color: #00d7ff\">None</span>, <span style=\"color: #00af00; text-decoration-color: #00af00\">1</span>)              │            <span style=\"color: #00af00; text-decoration-color: #00af00\">65</span> │\n",
              "└─────────────────────────────────┴────────────────────────┴───────────────┘\n",
              "</pre>\n"
            ],
            "text/plain": [
              "┏━━━━━━━━━━━━━━━━━━━━━━━━━━━━━━━━━┳━━━━━━━━━━━━━━━━━━━━━━━━┳━━━━━━━━━━━━━━━┓\n",
              "┃\u001b[1m \u001b[0m\u001b[1mLayer (type)                   \u001b[0m\u001b[1m \u001b[0m┃\u001b[1m \u001b[0m\u001b[1mOutput Shape          \u001b[0m\u001b[1m \u001b[0m┃\u001b[1m \u001b[0m\u001b[1m      Param #\u001b[0m\u001b[1m \u001b[0m┃\n",
              "┡━━━━━━━━━━━━━━━━━━━━━━━━━━━━━━━━━╇━━━━━━━━━━━━━━━━━━━━━━━━╇━━━━━━━━━━━━━━━┩\n",
              "│ embedding (\u001b[38;5;33mEmbedding\u001b[0m)           │ (\u001b[38;5;45mNone\u001b[0m, \u001b[38;5;34m1\u001b[0m)              │       \u001b[38;5;34m398,209\u001b[0m │\n",
              "├─────────────────────────────────┼────────────────────────┼───────────────┤\n",
              "│ embedding_1 (\u001b[38;5;33mEmbedding\u001b[0m)         │ (\u001b[38;5;45mNone\u001b[0m, \u001b[38;5;34m1\u001b[0m)              │       \u001b[38;5;34m182,005\u001b[0m │\n",
              "├─────────────────────────────────┼────────────────────────┼───────────────┤\n",
              "│ user_cf_embedding (\u001b[38;5;33mEmbedding\u001b[0m)   │ (\u001b[38;5;45mNone\u001b[0m, \u001b[38;5;34m64\u001b[0m)             │    \u001b[38;5;34m25,485,376\u001b[0m │\n",
              "├─────────────────────────────────┼────────────────────────┼───────────────┤\n",
              "│ item_cf_embedding (\u001b[38;5;33mEmbedding\u001b[0m)   │ (\u001b[38;5;45mNone\u001b[0m, \u001b[38;5;34m64\u001b[0m)             │    \u001b[38;5;34m11,648,320\u001b[0m │\n",
              "├─────────────────────────────────┼────────────────────────┼───────────────┤\n",
              "│ item_content_embedding          │ (\u001b[38;5;45mNone\u001b[0m, \u001b[38;5;34m384\u001b[0m)            │    \u001b[38;5;34m69,889,920\u001b[0m │\n",
              "│ (\u001b[38;5;33mEmbedding\u001b[0m)                     │                        │               │\n",
              "├─────────────────────────────────┼────────────────────────┼───────────────┤\n",
              "│ content_projection (\u001b[38;5;33mDense\u001b[0m)      │ (\u001b[38;5;45mNone\u001b[0m, \u001b[38;5;34m64\u001b[0m)             │        \u001b[38;5;34m24,640\u001b[0m │\n",
              "├─────────────────────────────────┼────────────────────────┼───────────────┤\n",
              "│ fusion_dense_0 (\u001b[38;5;33mDense\u001b[0m)          │ (\u001b[38;5;45mNone\u001b[0m, \u001b[38;5;34m128\u001b[0m)            │        \u001b[38;5;34m32,896\u001b[0m │\n",
              "├─────────────────────────────────┼────────────────────────┼───────────────┤\n",
              "│ fusion_bn_0                     │ (\u001b[38;5;45mNone\u001b[0m, \u001b[38;5;34m128\u001b[0m)            │           \u001b[38;5;34m512\u001b[0m │\n",
              "│ (\u001b[38;5;33mBatchNormalization\u001b[0m)            │                        │               │\n",
              "├─────────────────────────────────┼────────────────────────┼───────────────┤\n",
              "│ fusion_dropout_0 (\u001b[38;5;33mDropout\u001b[0m)      │ ?                      │             \u001b[38;5;34m0\u001b[0m │\n",
              "├─────────────────────────────────┼────────────────────────┼───────────────┤\n",
              "│ fusion_dense_1 (\u001b[38;5;33mDense\u001b[0m)          │ (\u001b[38;5;45mNone\u001b[0m, \u001b[38;5;34m64\u001b[0m)             │         \u001b[38;5;34m8,256\u001b[0m │\n",
              "├─────────────────────────────────┼────────────────────────┼───────────────┤\n",
              "│ fusion_bn_1                     │ (\u001b[38;5;45mNone\u001b[0m, \u001b[38;5;34m64\u001b[0m)             │           \u001b[38;5;34m256\u001b[0m │\n",
              "│ (\u001b[38;5;33mBatchNormalization\u001b[0m)            │                        │               │\n",
              "├─────────────────────────────────┼────────────────────────┼───────────────┤\n",
              "│ fusion_dropout_1 (\u001b[38;5;33mDropout\u001b[0m)      │ ?                      │             \u001b[38;5;34m0\u001b[0m │\n",
              "├─────────────────────────────────┼────────────────────────┼───────────────┤\n",
              "│ output (\u001b[38;5;33mDense\u001b[0m)                  │ (\u001b[38;5;45mNone\u001b[0m, \u001b[38;5;34m1\u001b[0m)              │            \u001b[38;5;34m65\u001b[0m │\n",
              "└─────────────────────────────────┴────────────────────────┴───────────────┘\n"
            ]
          },
          "metadata": {},
          "output_type": "display_data"
        },
        {
          "data": {
            "text/html": [
              "<pre style=\"white-space:pre;overflow-x:auto;line-height:normal;font-family:Menlo,'DejaVu Sans Mono',consolas,'Courier New',monospace\"><span style=\"font-weight: bold\"> Total params: </span><span style=\"color: #00af00; text-decoration-color: #00af00\">323,010,599</span> (1.20 GB)\n",
              "</pre>\n"
            ],
            "text/plain": [
              "\u001b[1m Total params: \u001b[0m\u001b[38;5;34m323,010,599\u001b[0m (1.20 GB)\n"
            ]
          },
          "metadata": {},
          "output_type": "display_data"
        },
        {
          "data": {
            "text/html": [
              "<pre style=\"white-space:pre;overflow-x:auto;line-height:normal;font-family:Menlo,'DejaVu Sans Mono',consolas,'Courier New',monospace\"><span style=\"font-weight: bold\"> Trainable params: </span><span style=\"color: #00af00; text-decoration-color: #00af00\">107,670,071</span> (410.73 MB)\n",
              "</pre>\n"
            ],
            "text/plain": [
              "\u001b[1m Trainable params: \u001b[0m\u001b[38;5;34m107,670,071\u001b[0m (410.73 MB)\n"
            ]
          },
          "metadata": {},
          "output_type": "display_data"
        },
        {
          "data": {
            "text/html": [
              "<pre style=\"white-space:pre;overflow-x:auto;line-height:normal;font-family:Menlo,'DejaVu Sans Mono',consolas,'Courier New',monospace\"><span style=\"font-weight: bold\"> Non-trainable params: </span><span style=\"color: #00af00; text-decoration-color: #00af00\">384</span> (1.50 KB)\n",
              "</pre>\n"
            ],
            "text/plain": [
              "\u001b[1m Non-trainable params: \u001b[0m\u001b[38;5;34m384\u001b[0m (1.50 KB)\n"
            ]
          },
          "metadata": {},
          "output_type": "display_data"
        },
        {
          "data": {
            "text/html": [
              "<pre style=\"white-space:pre;overflow-x:auto;line-height:normal;font-family:Menlo,'DejaVu Sans Mono',consolas,'Courier New',monospace\"><span style=\"font-weight: bold\"> Optimizer params: </span><span style=\"color: #00af00; text-decoration-color: #00af00\">215,340,144</span> (821.46 MB)\n",
              "</pre>\n"
            ],
            "text/plain": [
              "\u001b[1m Optimizer params: \u001b[0m\u001b[38;5;34m215,340,144\u001b[0m (821.46 MB)\n"
            ]
          },
          "metadata": {},
          "output_type": "display_data"
        }
      ],
      "source": [
        "# Setup callbacks\n",
        "\n",
        "early_stopping = EarlyStopping(\n",
        "    monitor='val_loss',\n",
        "    patience=5,\n",
        "    restore_best_weights=True,\n",
        "    min_delta=0.0001,\n",
        "    verbose=1\n",
        ")\n",
        "\n",
        "reduce_lr = ReduceLROnPlateau(\n",
        "    monitor='val_loss',\n",
        "    factor=0.5,\n",
        "    patience=4,\n",
        "    min_lr=1e-7,\n",
        "    verbose=1\n",
        ")\n",
        "\n",
        "callbacks = [early_stopping, reduce_lr]\n",
        "\n",
        "start_time = time.time()\n",
        "\n",
        "history = model.fit(\n",
        "    X_train, y_train,\n",
        "    batch_size=2048,\n",
        "    epochs=30,\n",
        "    validation_split=0.15,\n",
        "    callbacks=callbacks,\n",
        "    verbose=1\n",
        ")\n",
        "\n",
        "training_time = time.time() - start_time\n",
        "\n",
        "print(f\"Training complete! Time: {training_time:.1f}s ({training_time/60:.1f} min)\")\n",
        "model.summary()"
      ]
    },
    {
      "cell_type": "markdown",
      "metadata": {
        "id": "sA77w3i9rrR9"
      },
      "source": [
        "Model Evaluation:"
      ]
    },
    {
      "cell_type": "code",
      "execution_count": 8,
      "metadata": {
        "colab": {
          "base_uri": "https://localhost:8080/"
        },
        "id": "z9rjelcvz_lW",
        "outputId": "876f2589-93ea-4f40-f854-9a4ec274b8fe"
      },
      "outputs": [
        {
          "name": "stdout",
          "output_type": "stream",
          "text": [
            "\n",
            "Test Set Performance:\n",
            "  RMSE: 1.2390\n",
            "  MAE:  0.8443\n",
            "  MSE:  1.5572\n",
            "  R²:   0.1383\n"
          ]
        }
      ],
      "source": [
        "test_loss, test_mae = model.evaluate(X_test, y_test, verbose=0)\n",
        "predictions = model.predict(X_test, batch_size=2048, verbose=0).flatten()\n",
        "rmse = np.sqrt(mean_squared_error(y_test, predictions))\n",
        "r2 = r2_score(y_test, predictions)\n",
        "\n",
        "print(f\"\\nTest Set Performance:\")\n",
        "print(f\"  RMSE: {rmse:.4f}\")\n",
        "print(f\"  MAE:  {test_mae:.4f}\")\n",
        "print(f\"  MSE:  {test_loss:.4f}\")\n",
        "print(f\"  R²:   {r2:.4f}\")\n"
      ]
    },
    {
      "cell_type": "markdown",
      "metadata": {
        "id": "LPm4mYUHvBXv"
      },
      "source": [
        "## 2.2 Random Split"
      ]
    },
    {
      "cell_type": "code",
      "execution_count": 9,
      "metadata": {
        "colab": {
          "base_uri": "https://localhost:8080/"
        },
        "id": "co2r47SAqhHd",
        "outputId": "6a528942-746b-4e4e-810e-8da9680c3ca6"
      },
      "outputs": [
        {
          "name": "stdout",
          "output_type": "stream",
          "text": [
            "  Processed 1,000,000/1,833,084 rows...\n",
            "  Processed 1,833,084/1,833,084 rows...\n",
            "Epoch 1/30\n",
            "\u001b[1m761/761\u001b[0m \u001b[32m━━━━━━━━━━━━━━━━━━━━\u001b[0m\u001b[37m\u001b[0m \u001b[1m34s\u001b[0m 30ms/step - loss: 18.2132 - mae: 3.9938 - val_loss: 3.2100 - val_mae: 1.6949 - learning_rate: 2.0000e-04\n",
            "Epoch 2/30\n",
            "\u001b[1m761/761\u001b[0m \u001b[32m━━━━━━━━━━━━━━━━━━━━\u001b[0m\u001b[37m\u001b[0m \u001b[1m18s\u001b[0m 23ms/step - loss: 2.7400 - mae: 1.3050 - val_loss: 0.9892 - val_mae: 0.6170 - learning_rate: 2.0000e-04\n",
            "Epoch 3/30\n",
            "\u001b[1m761/761\u001b[0m \u001b[32m━━━━━━━━━━━━━━━━━━━━\u001b[0m\u001b[37m\u001b[0m \u001b[1m18s\u001b[0m 23ms/step - loss: 1.3352 - mae: 0.8365 - val_loss: 0.9715 - val_mae: 0.5759 - learning_rate: 2.0000e-04\n",
            "Epoch 4/30\n",
            "\u001b[1m761/761\u001b[0m \u001b[32m━━━━━━━━━━━━━━━━━━━━\u001b[0m\u001b[37m\u001b[0m \u001b[1m18s\u001b[0m 23ms/step - loss: 0.9802 - mae: 0.6949 - val_loss: 0.9804 - val_mae: 0.5700 - learning_rate: 2.0000e-04\n",
            "Epoch 5/30\n",
            "\u001b[1m761/761\u001b[0m \u001b[32m━━━━━━━━━━━━━━━━━━━━\u001b[0m\u001b[37m\u001b[0m \u001b[1m17s\u001b[0m 23ms/step - loss: 0.7819 - mae: 0.6077 - val_loss: 0.9969 - val_mae: 0.5467 - learning_rate: 2.0000e-04\n",
            "Epoch 6/30\n",
            "\u001b[1m761/761\u001b[0m \u001b[32m━━━━━━━━━━━━━━━━━━━━\u001b[0m\u001b[37m\u001b[0m \u001b[1m18s\u001b[0m 23ms/step - loss: 0.6403 - mae: 0.5414 - val_loss: 1.0184 - val_mae: 0.5383 - learning_rate: 2.0000e-04\n",
            "Epoch 7/30\n",
            "\u001b[1m760/761\u001b[0m \u001b[32m━━━━━━━━━━━━━━━━━━━\u001b[0m\u001b[37m━\u001b[0m \u001b[1m0s\u001b[0m 22ms/step - loss: 0.5344 - mae: 0.4882\n",
            "Epoch 7: ReduceLROnPlateau reducing learning rate to 9.999999747378752e-05.\n",
            "\u001b[1m761/761\u001b[0m \u001b[32m━━━━━━━━━━━━━━━━━━━━\u001b[0m\u001b[37m\u001b[0m \u001b[1m17s\u001b[0m 23ms/step - loss: 0.5344 - mae: 0.4882 - val_loss: 1.0314 - val_mae: 0.5309 - learning_rate: 2.0000e-04\n",
            "Epoch 8/30\n",
            "\u001b[1m761/761\u001b[0m \u001b[32m━━━━━━━━━━━━━━━━━━━━\u001b[0m\u001b[37m\u001b[0m \u001b[1m18s\u001b[0m 23ms/step - loss: 0.4412 - mae: 0.4407 - val_loss: 1.0369 - val_mae: 0.5161 - learning_rate: 1.0000e-04\n",
            "Epoch 8: early stopping\n",
            "Restoring model weights from the end of the best epoch: 3.\n",
            "\n",
            "Random Split Performance:\n",
            "  RMSE: 0.9985\n",
            "  MAE: 0.6008\n",
            "  R²: 0.2918\n"
          ]
        }
      ],
      "source": [
        "# Combine temporal test and train files into one dataset\n",
        "full_data = pd.concat([train_df, test_df], ignore_index=True)\n",
        "\n",
        "from sklearn.model_selection import train_test_split\n",
        "\n",
        "# Random split\n",
        "train_df_random, test_df_random = train_test_split(\n",
        "    full_data,\n",
        "    test_size=0.2,\n",
        "    random_state=42,\n",
        "    shuffle=True\n",
        ")\n",
        "\n",
        "# Aggregate BERT embeddings (from random train set)\n",
        "\n",
        "n_podcasts_random = full_data['podcast_id_encoded'].max() + 1\n",
        "embedding_dim_random = len(full_data['bert_embedding_all-MiniLM-L6-v2'].iloc[0])\n",
        "\n",
        "pretrained_podcast_embeddings_random = np.zeros((n_podcasts_random, embedding_dim_random), dtype=np.float32)\n",
        "embedding_counts_random = np.zeros(n_podcasts_random, dtype=np.int32)\n",
        "\n",
        "# Aggregate from random train set\n",
        "chunk_size = 500000\n",
        "n_chunks = (len(train_df_random) + chunk_size - 1) // chunk_size\n",
        "\n",
        "for i in range(n_chunks):\n",
        "    start_idx = i * chunk_size\n",
        "    end_idx = min((i + 1) * chunk_size, len(train_df_random))\n",
        "\n",
        "    chunk_embeddings = np.stack(train_df_random['bert_embedding_all-MiniLM-L6-v2'].iloc[start_idx:end_idx].values)\n",
        "    chunk_podcast_ids = train_df_random['podcast_id_encoded'].iloc[start_idx:end_idx].values\n",
        "\n",
        "    np.add.at(pretrained_podcast_embeddings_random, chunk_podcast_ids, chunk_embeddings)\n",
        "    np.add.at(embedding_counts_random, chunk_podcast_ids, 1)\n",
        "\n",
        "    del chunk_embeddings, chunk_podcast_ids\n",
        "\n",
        "    if (i + 1) % 2 == 0 or i == n_chunks - 1:\n",
        "        print(f\"  Processed {min(end_idx, len(train_df_random)):,}/{len(train_df_random):,} rows...\")\n",
        "        gc.collect()\n",
        "\n",
        "# Average\n",
        "mask_random = embedding_counts_random > 0\n",
        "pretrained_podcast_embeddings_random[mask_random] /= embedding_counts_random[mask_random, np.newaxis]\n",
        "\n",
        "del embedding_counts_random, mask_random\n",
        "gc.collect()\n",
        "\n",
        "# Prepare training arrays\n",
        "\n",
        "n_users_random = full_data['auth_id_encoded'].max() + 1\n",
        "n_podcasts_random = full_data['podcast_id_encoded'].max() + 1\n",
        "\n",
        "X_train_random = {\n",
        "    'user': train_df_random['auth_id_encoded'].values.astype(np.int32),\n",
        "    'item': train_df_random['podcast_id_encoded'].values.astype(np.int32)\n",
        "}\n",
        "y_train_random = train_df_random['rating'].values.astype(np.float32)\n",
        "\n",
        "X_test_random = {\n",
        "    'user': test_df_random['auth_id_encoded'].values.astype(np.int32),\n",
        "    'item': test_df_random['podcast_id_encoded'].values.astype(np.int32)\n",
        "}\n",
        "y_test_random = test_df_random['rating'].values.astype(np.float32)\n",
        "\n",
        "# Free memory\n",
        "del train_df_random, test_df_random\n",
        "\n",
        "tf.keras.backend.clear_session()\n",
        "gc.collect()\n",
        "\n",
        "model_random = create_model(\n",
        "    n_users_random,\n",
        "    n_podcasts_random,\n",
        "    pretrained_podcast_embeddings_random,\n",
        "    config\n",
        ")\n",
        "\n",
        "optimizer_random = Adam(\n",
        "    learning_rate=config['learning_rate'],\n",
        "    clipnorm=1.0\n",
        ")\n",
        "\n",
        "model_random.compile(optimizer=optimizer_random, loss='mse', metrics=['mae'])\n",
        "\n",
        "# Setup callbacks\n",
        "\n",
        "early_stopping = EarlyStopping(\n",
        "    monitor='val_loss',\n",
        "    patience=5,\n",
        "    restore_best_weights=True,\n",
        "    min_delta=0.0001,\n",
        "    verbose=1\n",
        ")\n",
        "\n",
        "reduce_lr = ReduceLROnPlateau(\n",
        "    monitor='val_loss',\n",
        "    factor=0.5,\n",
        "    patience=4,\n",
        "    min_lr=1e-7,\n",
        "    verbose=1\n",
        ")\n",
        "\n",
        "callbacks = [early_stopping, reduce_lr]\n",
        "\n",
        "start_time = time.time()\n",
        "\n",
        "history_random = model_random.fit(\n",
        "    X_train_random, y_train_random,\n",
        "    batch_size=2048,\n",
        "    epochs=30,\n",
        "    validation_split=0.15,\n",
        "    callbacks=callbacks,\n",
        "    verbose=1\n",
        ")\n",
        "\n",
        "training_time_random = time.time() - start_time\n",
        "\n",
        "\n",
        "predictions_random = model_random.predict(X_test_random, batch_size=2048, verbose=0).flatten()\n",
        "rmse_random = np.sqrt(mean_squared_error(y_test_random, predictions_random))\n",
        "mae_random = mean_absolute_error(y_test_random, predictions_random)\n",
        "r2_random = r2_score(y_test_random, predictions_random)\n",
        "\n",
        "print(f\"\\nRandom Split Performance:\")\n",
        "print(f\"  RMSE: {rmse_random:.4f}\")\n",
        "print(f\"  MAE: {mae_random:.4f}\")\n",
        "print(f\"  R²: {r2_random:.4f}\")\n"
      ]
    },
    {
      "cell_type": "markdown",
      "metadata": {
        "id": "2v1SJrwGxyqR"
      },
      "source": [
        "## 2.3 User-stratified\n"
      ]
    },
    {
      "cell_type": "code",
      "execution_count": 10,
      "metadata": {
        "colab": {
          "base_uri": "https://localhost:8080/"
        },
        "id": "-wTPXiz3uNFb",
        "outputId": "3acd02d9-51c7-45cb-cb14-d9272e0ac193"
      },
      "outputs": [
        {
          "name": "stdout",
          "output_type": "stream",
          "text": [
            "  Processed 1,000,000/1,790,848 rows...\n",
            "  Processed 1,790,848/1,790,848 rows...\n",
            "Epoch 1/30\n",
            "\u001b[1m744/744\u001b[0m \u001b[32m━━━━━━━━━━━━━━━━━━━━\u001b[0m\u001b[37m\u001b[0m \u001b[1m34s\u001b[0m 30ms/step - loss: 18.3585 - mae: 4.0389 - val_loss: 3.8047 - val_mae: 1.8618 - learning_rate: 2.0000e-04\n",
            "Epoch 2/30\n",
            "\u001b[1m744/744\u001b[0m \u001b[32m━━━━━━━━━━━━━━━━━━━━\u001b[0m\u001b[37m\u001b[0m \u001b[1m18s\u001b[0m 24ms/step - loss: 3.0236 - mae: 1.3970 - val_loss: 1.2240 - val_mae: 0.6619 - learning_rate: 2.0000e-04\n",
            "Epoch 3/30\n",
            "\u001b[1m744/744\u001b[0m \u001b[32m━━━━━━━━━━━━━━━━━━━━\u001b[0m\u001b[37m\u001b[0m \u001b[1m18s\u001b[0m 24ms/step - loss: 1.3351 - mae: 0.8424 - val_loss: 1.2155 - val_mae: 0.6457 - learning_rate: 2.0000e-04\n",
            "Epoch 4/30\n",
            "\u001b[1m744/744\u001b[0m \u001b[32m━━━━━━━━━━━━━━━━━━━━\u001b[0m\u001b[37m\u001b[0m \u001b[1m18s\u001b[0m 24ms/step - loss: 0.9985 - mae: 0.7053 - val_loss: 1.2138 - val_mae: 0.6438 - learning_rate: 2.0000e-04\n",
            "Epoch 5/30\n",
            "\u001b[1m744/744\u001b[0m \u001b[32m━━━━━━━━━━━━━━━━━━━━\u001b[0m\u001b[37m\u001b[0m \u001b[1m17s\u001b[0m 23ms/step - loss: 0.8105 - mae: 0.6198 - val_loss: 1.2259 - val_mae: 0.6213 - learning_rate: 2.0000e-04\n",
            "Epoch 6/30\n",
            "\u001b[1m744/744\u001b[0m \u001b[32m━━━━━━━━━━━━━━━━━━━━\u001b[0m\u001b[37m\u001b[0m \u001b[1m17s\u001b[0m 23ms/step - loss: 0.6722 - mae: 0.5551 - val_loss: 1.2374 - val_mae: 0.6190 - learning_rate: 2.0000e-04\n",
            "Epoch 7/30\n",
            "\u001b[1m744/744\u001b[0m \u001b[32m━━━━━━━━━━━━━━━━━━━━\u001b[0m\u001b[37m\u001b[0m \u001b[1m17s\u001b[0m 23ms/step - loss: 0.5682 - mae: 0.5032 - val_loss: 1.2638 - val_mae: 0.5945 - learning_rate: 2.0000e-04\n",
            "Epoch 8/30\n",
            "\u001b[1m742/744\u001b[0m \u001b[32m━━━━━━━━━━━━━━━━━━━\u001b[0m\u001b[37m━\u001b[0m \u001b[1m0s\u001b[0m 22ms/step - loss: 0.4860 - mae: 0.4600\n",
            "Epoch 8: ReduceLROnPlateau reducing learning rate to 9.999999747378752e-05.\n",
            "\u001b[1m744/744\u001b[0m \u001b[32m━━━━━━━━━━━━━━━━━━━━\u001b[0m\u001b[37m\u001b[0m \u001b[1m17s\u001b[0m 23ms/step - loss: 0.4861 - mae: 0.4600 - val_loss: 1.2738 - val_mae: 0.5978 - learning_rate: 2.0000e-04\n",
            "Epoch 9/30\n",
            "\u001b[1m744/744\u001b[0m \u001b[32m━━━━━━━━━━━━━━━━━━━━\u001b[0m\u001b[37m\u001b[0m \u001b[1m17s\u001b[0m 23ms/step - loss: 0.4130 - mae: 0.4213 - val_loss: 1.2920 - val_mae: 0.5774 - learning_rate: 1.0000e-04\n",
            "Epoch 9: early stopping\n",
            "Restoring model weights from the end of the best epoch: 4.\n",
            "\n",
            "User-Stratified Split Performance:\n",
            "  RMSE: 1.0429\n",
            "  MAE: 0.6222\n",
            "  R²: 0.2323\n"
          ]
        }
      ],
      "source": [
        "# Create user-stratified split\n",
        "user_groups = full_data.groupby('auth_id_encoded')\n",
        "\n",
        "train_indices = []\n",
        "test_indices = []\n",
        "\n",
        "users_kept = 0\n",
        "users_dropped = 0\n",
        "total_train_samples = 0\n",
        "total_test_samples = 0\n",
        "\n",
        "for user_id, group_df in user_groups:\n",
        "    n_samples = len(group_df)\n",
        "    n_test = max(1, int(n_samples * 0.2))\n",
        "    n_train = n_samples - n_test\n",
        "\n",
        "    # Split indices\n",
        "    train_indices.extend(group_df.index.values[:n_train])\n",
        "    test_indices.extend(group_df.index.values[n_train:])\n",
        "\n",
        "    users_kept += 1\n",
        "    total_train_samples += n_train\n",
        "    total_test_samples += n_test\n",
        "\n",
        "\n",
        "train_df_stratified = full_data.loc[train_indices].copy()\n",
        "test_df_stratified = full_data.loc[test_indices].copy()\n",
        "\n",
        "\n",
        "# Aggregate BERT embeddings\n",
        "n_podcasts_strat = full_data['podcast_id_encoded'].max() + 1\n",
        "embedding_dim_strat = len(full_data['bert_embedding_all-MiniLM-L6-v2'].iloc[0])\n",
        "\n",
        "pretrained_podcast_embeddings_strat = np.zeros((n_podcasts_strat, embedding_dim_strat), dtype=np.float32)\n",
        "embedding_counts_strat = np.zeros(n_podcasts_strat, dtype=np.int32)\n",
        "\n",
        "chunk_size = 500000\n",
        "n_chunks = (len(train_df_stratified) + chunk_size - 1) // chunk_size\n",
        "\n",
        "for i in range(n_chunks):\n",
        "    start_idx = i * chunk_size\n",
        "    end_idx = min((i + 1) * chunk_size, len(train_df_stratified))\n",
        "\n",
        "    chunk_embeddings = np.stack(train_df_stratified['bert_embedding_all-MiniLM-L6-v2'].iloc[start_idx:end_idx].values)\n",
        "    chunk_podcast_ids = train_df_stratified['podcast_id_encoded'].iloc[start_idx:end_idx].values\n",
        "\n",
        "    np.add.at(pretrained_podcast_embeddings_strat, chunk_podcast_ids, chunk_embeddings)\n",
        "    np.add.at(embedding_counts_strat, chunk_podcast_ids, 1)\n",
        "\n",
        "    del chunk_embeddings, chunk_podcast_ids\n",
        "\n",
        "    if (i + 1) % 2 == 0 or i == n_chunks - 1:\n",
        "        print(f\"  Processed {min(end_idx, len(train_df_stratified)):,}/{len(train_df_stratified):,} rows...\")\n",
        "        gc.collect()\n",
        "\n",
        "mask_strat = embedding_counts_strat > 0\n",
        "pretrained_podcast_embeddings_strat[mask_strat] /= embedding_counts_strat[mask_strat, np.newaxis]\n",
        "\n",
        "del embedding_counts_strat, mask_strat\n",
        "gc.collect()\n",
        "\n",
        "# Prepare training arrays\n",
        "n_users_strat = full_data['auth_id_encoded'].max() + 1\n",
        "n_podcasts_strat = full_data['podcast_id_encoded'].max() + 1\n",
        "\n",
        "X_train_strat = {\n",
        "    'user': train_df_stratified['auth_id_encoded'].values.astype(np.int32),\n",
        "    'item': train_df_stratified['podcast_id_encoded'].values.astype(np.int32)\n",
        "}\n",
        "y_train_strat = train_df_stratified['rating'].values.astype(np.float32)\n",
        "\n",
        "X_test_strat = {\n",
        "    'user': test_df_stratified['auth_id_encoded'].values.astype(np.int32),\n",
        "    'item': test_df_stratified['podcast_id_encoded'].values.astype(np.int32)\n",
        "}\n",
        "y_test_strat = test_df_stratified['rating'].values.astype(np.float32)\n",
        "\n",
        "# Free memory\n",
        "del train_df_stratified, test_df_stratified\n",
        "gc.collect()\n",
        "\n",
        "# Train\n",
        "tf.keras.backend.clear_session()\n",
        "gc.collect()\n",
        "\n",
        "model_strat = create_model(\n",
        "    n_users_strat,\n",
        "    n_podcasts_strat,\n",
        "    pretrained_podcast_embeddings_strat,\n",
        "    config)\n",
        "\n",
        "optimizer_strat = Adam(\n",
        "    learning_rate=config['learning_rate'],\n",
        "    clipnorm=1.0\n",
        ")\n",
        "\n",
        "model_strat.compile(optimizer=optimizer_strat, loss='mse', metrics=['mae'])\n",
        "\n",
        "# Callbacks\n",
        "early_stopping = EarlyStopping(\n",
        "    monitor='val_loss',\n",
        "    patience=5,\n",
        "    restore_best_weights=True,\n",
        "    min_delta=0.0001,\n",
        "    verbose=1\n",
        ")\n",
        "\n",
        "reduce_lr = ReduceLROnPlateau(\n",
        "    monitor='val_loss',\n",
        "    factor=0.5,\n",
        "    patience=4,\n",
        "    min_lr=1e-7,\n",
        "    verbose=1\n",
        ")\n",
        "\n",
        "callbacks = [early_stopping, reduce_lr]\n",
        "start_time = time.time()\n",
        "\n",
        "history_strat = model_strat.fit(\n",
        "    X_train_strat, y_train_strat,\n",
        "    batch_size=2048,\n",
        "    epochs=30,\n",
        "    validation_split=0.15,\n",
        "    callbacks=callbacks,\n",
        "    verbose=1\n",
        ")\n",
        "\n",
        "training_time_strat = time.time() - start_time\n",
        "\n",
        "# Evaluate\n",
        "predictions_strat = model_strat.predict(X_test_strat, batch_size=2048, verbose=0).flatten()\n",
        "rmse_strat = np.sqrt(mean_squared_error(y_test_strat, predictions_strat))\n",
        "mae_strat = mean_absolute_error(y_test_strat, predictions_strat)\n",
        "r2_strat = r2_score(y_test_strat, predictions_strat)\n",
        "\n",
        "print(f\"\\nUser-Stratified Split Performance:\")\n",
        "print(f\"  RMSE: {rmse_strat:.4f}\")\n",
        "print(f\"  MAE: {mae_strat:.4f}\")\n",
        "print(f\"  R²: {r2_strat:.4f}\")\n",
        "\n"
      ]
    },
    {
      "cell_type": "markdown",
      "metadata": {
        "id": "2rH46iO_-Jeg"
      },
      "source": [
        "## 3. Performance comparison across split strategies"
      ]
    },
    {
      "cell_type": "code",
      "execution_count": 11,
      "metadata": {
        "colab": {
          "base_uri": "https://localhost:8080/",
          "height": 685
        },
        "id": "bJEY2npv9yvR",
        "outputId": "5c4293d4-5611-4d96-a564-eb80aa311be5"
      },
      "outputs": [
        {
          "name": "stdout",
          "output_type": "stream",
          "text": [
            "\n",
            "============================================================\n",
            "PERFORMANCE COMPARISON ACROSS SPLIT STRATEGIES\n",
            "============================================================\n",
            " Split Strategy     RMSE      MAE       R²\n",
            "       Temporal 1.238955 0.844251 0.138349\n",
            "         Random 0.998544 0.600789 0.291787\n",
            "User-Stratified 1.042931 0.622211 0.232264\n",
            "============================================================\n"
          ]
        },
        {
          "data": {
            "image/png": "[encoded data removed]",
            "text/plain": [
              "<Figure size 1500x500 with 3 Axes>"
            ]
          },
          "metadata": {},
          "output_type": "display_data"
        },
        {
          "name": "stdout",
          "output_type": "stream",
          "text": [
            "\n",
            "============================================================\n",
            "PERFORMANCE IMPROVEMENTS vs. TEMPORAL SPLIT\n",
            "============================================================\n",
            "\n",
            "Random:\n",
            "  RMSE: +19.40% improvement\n",
            "  MAE:  +28.84% improvement\n",
            "  R²:   +110.91% improvement\n",
            "\n",
            "User-Stratified:\n",
            "  RMSE: +15.82% improvement\n",
            "  MAE:  +26.30% improvement\n",
            "  R²:   +67.88% improvement\n",
            "============================================================\n"
          ]
        }
      ],
      "source": [
        "results = pd.DataFrame({\n",
        "    'Split Strategy': ['Temporal', 'Random', 'User-Stratified'],\n",
        "    'RMSE': [rmse, rmse_random, rmse_strat],\n",
        "    'MAE': [test_mae, mae_random, mae_strat],\n",
        "    'R²': [r2, r2_random, r2_strat]\n",
        "})\n",
        "\n",
        "print(\"\\n\" + \"=\"*60)\n",
        "print(\"PERFORMANCE COMPARISON ACROSS SPLIT STRATEGIES\")\n",
        "print(\"=\"*60)\n",
        "print(results.to_string(index=False))\n",
        "print(\"=\"*60)\n",
        "\n",
        "# Visualize comparison\n",
        "fig, axes = plt.subplots(1, 3, figsize=(15, 5))\n",
        "\n",
        "metrics = ['RMSE', 'MAE', 'R²']\n",
        "colors = ['#FF6B6B', '#4ECDC4', '#45B7D1']\n",
        "\n",
        "for idx, metric in enumerate(metrics):\n",
        "    ax = axes[idx]\n",
        "    values = results[metric].values\n",
        "    bars = ax.bar(results['Split Strategy'], values, color=colors, alpha=0.7, edgecolor='black')\n",
        "\n",
        "    # Add value labels on bars\n",
        "    for bar in bars:\n",
        "        height = bar.get_height()\n",
        "        ax.text(bar.get_x() + bar.get_width()/2., height,\n",
        "                f'{height:.4f}',\n",
        "                ha='center', va='bottom', fontweight='bold', fontsize=10)\n",
        "\n",
        "    ax.set_ylabel(metric, fontsize=12, fontweight='bold')\n",
        "    ax.set_title(f'{metric} by Split Strategy', fontsize=13, fontweight='bold')\n",
        "    ax.grid(axis='y', alpha=0.3)\n",
        "    ax.set_ylim(0, max(values) * 1.15)\n",
        "\n",
        "plt.tight_layout()\n",
        "plt.show()\n",
        "\n",
        "# Calculate percentage improvements\n",
        "print(\"\\n\" + \"=\"*60)\n",
        "print(\"PERFORMANCE IMPROVEMENTS vs. TEMPORAL SPLIT\")\n",
        "print(\"=\"*60)\n",
        "for split_name, rmse_val, mae_val, r2_val in zip(results['Split Strategy'][1:],\n",
        "                                                   results['RMSE'][1:],\n",
        "                                                   results['MAE'][1:],\n",
        "                                                   results['R²'][1:]):\n",
        "    rmse_improvement = ((rmse - rmse_val) / rmse) * 100\n",
        "    mae_improvement = ((test_mae - mae_val) / test_mae) * 100\n",
        "    r2_improvement = ((r2_val - r2) / abs(r2)) * 100\n",
        "\n",
        "    print(f\"\\n{split_name}:\")\n",
        "    print(f\"  RMSE: {rmse_improvement:+.2f}% improvement\")\n",
        "    print(f\"  MAE:  {mae_improvement:+.2f}% improvement\")\n",
        "    print(f\"  R²:   {r2_improvement:+.2f}% improvement\")\n",
        "print(\"=\"*60)"
      ]
    }
  ],
  "metadata": {
    "accelerator": "GPU",
    "colab": {
      "gpuType": "T4",
      "machine_shape": "hm",
      "provenance": []
    },
    "kernelspec": {
      "display_name": "Python 3",
      "name": "python3"
    },
    "language_info": {
      "codemirror_mode": {
        "name": "ipython",
        "version": 3
      },
      "file_extension": ".py",
      "name": "python",
      "nbconvert_exporter": "python",
      "version": "3.8.0"
    }
  },
  "nbformat": 4,
  "nbformat_minor": 0
}
