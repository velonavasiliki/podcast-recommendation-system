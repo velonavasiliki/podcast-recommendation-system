{
 "cells": [
  {
   "cell_type": "markdown",
   "metadata": {
    "id": "naKJPaKG5azC"
   },
   "source": [
    "# Podcast Reviews: Data Exploration and Feature Engineering\n",
    "\n",
    "This notebook performs exploratory data analysis and feature engineering on the [Podcast Reviews dataset from Kaggle](https://www.kaggle.com/datasets/thoughtvector/podcastreviews). The preprocessed data will be used to build a collaborative filtering recommendation system in a separate notebook.\n",
    "\n",
    "## Approach\n",
    "\n",
    "Our methodology consists of the following steps:\n",
    "\n",
    "1. **Exploratory Data Analysis (EDA)** - Examine the dataset structure, identify active users, and understand review distribution patterns\n",
    "2. **Data Preprocessing** - Filter active users (3+ reviews) and encode categorical variables\n",
    "3. **Feature Engineering** - Generate semantic embeddings using BERT-based sentence transformers to capture review sentiment and content\n",
    "4. **Train/Test Split** - Create temporal data splits and save processed data for model training\n",
    "\n",
    "## Dataset\n",
    "\n",
    "The Podcast Reviews dataset contains over 5 million reviews with the following attributes:\n",
    "- User reviews and review titles\n",
    "- User ratings\n",
    "- Podcast and user identifiers  \n",
    "- Review timestamps\n"
   ]
  },
  {
   "cell_type": "code",
   "execution_count": null,
   "metadata": {
    "id": "pfNx_KGCsX2s"
   },
   "outputs": [],
   "source": [
    "import pandas as pd\n",
    "import numpy as np\n",
    "import duckdb\n",
    "from pathlib import Path\n",
    "import matplotlib.pyplot as plt\n",
    "from sklearn.preprocessing import LabelEncoder\n",
    "from sentence_transformers import SentenceTransformer\n",
    "from huggingface_hub import login\n",
    "import pyarrow.parquet as pq\n",
    "import pyarrow as pa\n",
    "import gc\n",
    "import shutil\n",
    "import pickle\n",
    "import os\n",
    "\n",
    "from config import Config"
   ]
  },
  {
   "cell_type": "markdown",
   "metadata": {
    "id": "CUe1-WXSsX2t"
   },
   "source": [
    "## 1. Exploratory Data Analysis and Data Loading"
   ]
  },
  {
   "cell_type": "code",
   "execution_count": null,
   "metadata": {
    "id": "vyRWGxKQg0sl"
   },
   "outputs": [],
   "source": [
    "# Create DuckDB connection\n",
    "conn = duckdb.connect()"
   ]
  },
  {
   "cell_type": "code",
   "execution_count": null,
   "metadata": {
    "colab": {
     "base_uri": "https://localhost:8080/",
     "height": 237
    },
    "id": "c5SngEgz-XwH",
    "outputId": "09bffa1a-bd9e-44ff-a18d-217e78a1e6df"
   },
   "outputs": [
    {
     "data": {
      "application/vnd.google.colaboratory.intrinsic+json": {
       "repr_error": "Out of range float values are not JSON compliant: nan",
       "type": "dataframe"
      },
      "text/html": [
       "\n",
       "  <div id=\"df-18743a5b-9aee-473a-b9d9-f7753a72df55\" class=\"colab-df-container\">\n",
       "    <div>\n",
       "<style scoped>\n",
       "    .dataframe tbody tr th:only-of-type {\n",
       "        vertical-align: middle;\n",
       "    }\n",
       "\n",
       "    .dataframe tbody tr th {\n",
       "        vertical-align: top;\n",
       "    }\n",
       "\n",
       "    .dataframe thead th {\n",
       "        text-align: right;\n",
       "    }\n",
       "</style>\n",
       "<table border=\"1\" class=\"dataframe\">\n",
       "  <thead>\n",
       "    <tr style=\"text-align: right;\">\n",
       "      <th></th>\n",
       "      <th>column_name</th>\n",
       "      <th>column_type</th>\n",
       "      <th>null</th>\n",
       "      <th>key</th>\n",
       "      <th>default</th>\n",
       "      <th>extra</th>\n",
       "    </tr>\n",
       "  </thead>\n",
       "  <tbody>\n",
       "    <tr>\n",
       "      <th>0</th>\n",
       "      <td>podcast_id</td>\n",
       "      <td>VARCHAR</td>\n",
       "      <td>YES</td>\n",
       "      <td>None</td>\n",
       "      <td>None</td>\n",
       "      <td>None</td>\n",
       "    </tr>\n",
       "    <tr>\n",
       "      <th>1</th>\n",
       "      <td>title</td>\n",
       "      <td>VARCHAR</td>\n",
       "      <td>YES</td>\n",
       "      <td>None</td>\n",
       "      <td>None</td>\n",
       "      <td>None</td>\n",
       "    </tr>\n",
       "    <tr>\n",
       "      <th>2</th>\n",
       "      <td>content</td>\n",
       "      <td>VARCHAR</td>\n",
       "      <td>YES</td>\n",
       "      <td>None</td>\n",
       "      <td>None</td>\n",
       "      <td>None</td>\n",
       "    </tr>\n",
       "    <tr>\n",
       "      <th>3</th>\n",
       "      <td>rating</td>\n",
       "      <td>BIGINT</td>\n",
       "      <td>YES</td>\n",
       "      <td>None</td>\n",
       "      <td>None</td>\n",
       "      <td>None</td>\n",
       "    </tr>\n",
       "    <tr>\n",
       "      <th>4</th>\n",
       "      <td>author_id</td>\n",
       "      <td>VARCHAR</td>\n",
       "      <td>YES</td>\n",
       "      <td>None</td>\n",
       "      <td>None</td>\n",
       "      <td>None</td>\n",
       "    </tr>\n",
       "    <tr>\n",
       "      <th>5</th>\n",
       "      <td>created_at</td>\n",
       "      <td>VARCHAR</td>\n",
       "      <td>YES</td>\n",
       "      <td>None</td>\n",
       "      <td>None</td>\n",
       "      <td>None</td>\n",
       "    </tr>\n",
       "  </tbody>\n",
       "</table>\n",
       "</div>\n",
       "    <div class=\"colab-df-buttons\">\n",
       "\n",
       "  <div class=\"colab-df-container\">\n",
       "    <button class=\"colab-df-convert\" onclick=\"convertToInteractive('df-18743a5b-9aee-473a-b9d9-f7753a72df55')\"\n",
       "            title=\"Convert this dataframe to an interactive table.\"\n",
       "            style=\"display:none;\">\n",
       "\n",
       "  <svg xmlns=\"http://www.w3.org/2000/svg\" height=\"24px\" viewBox=\"0 -960 960 960\">\n",
       "    <path d=\"M120-120v-720h720v720H120Zm60-500h600v-160H180v160Zm220 220h160v-160H400v160Zm0 220h160v-160H400v160ZM180-400h160v-160H180v160Zm440 0h160v-160H620v160ZM180-180h160v-160H180v160Zm440 0h160v-160H620v160Z\"/>\n",
       "  </svg>\n",
       "    </button>\n",
       "\n",
       "  <style>\n",
       "    .colab-df-container {\n",
       "      display:flex;\n",
       "      gap: 12px;\n",
       "    }\n",
       "\n",
       "    .colab-df-convert {\n",
       "      background-color: #E8F0FE;\n",
       "      border: none;\n",
       "      border-radius: 50%;\n",
       "      cursor: pointer;\n",
       "      display: none;\n",
       "      fill: #1967D2;\n",
       "      height: 32px;\n",
       "      padding: 0 0 0 0;\n",
       "      width: 32px;\n",
       "    }\n",
       "\n",
       "    .colab-df-convert:hover {\n",
       "      background-color: #E2EBFA;\n",
       "      box-shadow: 0px 1px 2px rgba(60, 64, 67, 0.3), 0px 1px 3px 1px rgba(60, 64, 67, 0.15);\n",
       "      fill: #174EA6;\n",
       "    }\n",
       "\n",
       "    .colab-df-buttons div {\n",
       "      margin-bottom: 4px;\n",
       "    }\n",
       "\n",
       "    [theme=dark] .colab-df-convert {\n",
       "      background-color: #3B4455;\n",
       "      fill: #D2E3FC;\n",
       "    }\n",
       "\n",
       "    [theme=dark] .colab-df-convert:hover {\n",
       "      background-color: #434B5C;\n",
       "      box-shadow: 0px 1px 3px 1px rgba(0, 0, 0, 0.15);\n",
       "      filter: drop-shadow(0px 1px 2px rgba(0, 0, 0, 0.3));\n",
       "      fill: #FFFFFF;\n",
       "    }\n",
       "  </style>\n",
       "\n",
       "    <script>\n",
       "      const buttonEl =\n",
       "        document.querySelector('#df-18743a5b-9aee-473a-b9d9-f7753a72df55 button.colab-df-convert');\n",
       "      buttonEl.style.display =\n",
       "        google.colab.kernel.accessAllowed ? 'block' : 'none';\n",
       "\n",
       "      async function convertToInteractive(key) {\n",
       "        const element = document.querySelector('#df-18743a5b-9aee-473a-b9d9-f7753a72df55');\n",
       "        const dataTable =\n",
       "          await google.colab.kernel.invokeFunction('convertToInteractive',\n",
       "                                                    [key], {});\n",
       "        if (!dataTable) return;\n",
       "\n",
       "        const docLinkHtml = 'Like what you see? Visit the ' +\n",
       "          '<a target=\"_blank\" href=https://colab.research.google.com/notebooks/data_table.ipynb>data table notebook</a>'\n",
       "          + ' to learn more about interactive tables.';\n",
       "        element.innerHTML = '';\n",
       "        dataTable['output_type'] = 'display_data';\n",
       "        await google.colab.output.renderOutput(dataTable, element);\n",
       "        const docLink = document.createElement('div');\n",
       "        docLink.innerHTML = docLinkHtml;\n",
       "        element.appendChild(docLink);\n",
       "      }\n",
       "    </script>\n",
       "  </div>\n",
       "\n",
       "\n",
       "    <div id=\"df-3160c082-6369-4779-bb95-7851717fa200\">\n",
       "      <button class=\"colab-df-quickchart\" onclick=\"quickchart('df-3160c082-6369-4779-bb95-7851717fa200')\"\n",
       "                title=\"Suggest charts\"\n",
       "                style=\"display:none;\">\n",
       "\n",
       "<svg xmlns=\"http://www.w3.org/2000/svg\" height=\"24px\"viewBox=\"0 0 24 24\"\n",
       "     width=\"24px\">\n",
       "    <g>\n",
       "        <path d=\"M19 3H5c-1.1 0-2 .9-2 2v14c0 1.1.9 2 2 2h14c1.1 0 2-.9 2-2V5c0-1.1-.9-2-2-2zM9 17H7v-7h2v7zm4 0h-2V7h2v10zm4 0h-2v-4h2v4z\"/>\n",
       "    </g>\n",
       "</svg>\n",
       "      </button>\n",
       "\n",
       "<style>\n",
       "  .colab-df-quickchart {\n",
       "      --bg-color: #E8F0FE;\n",
       "      --fill-color: #1967D2;\n",
       "      --hover-bg-color: #E2EBFA;\n",
       "      --hover-fill-color: #174EA6;\n",
       "      --disabled-fill-color: #AAA;\n",
       "      --disabled-bg-color: #DDD;\n",
       "  }\n",
       "\n",
       "  [theme=dark] .colab-df-quickchart {\n",
       "      --bg-color: #3B4455;\n",
       "      --fill-color: #D2E3FC;\n",
       "      --hover-bg-color: #434B5C;\n",
       "      --hover-fill-color: #FFFFFF;\n",
       "      --disabled-bg-color: #3B4455;\n",
       "      --disabled-fill-color: #666;\n",
       "  }\n",
       "\n",
       "  .colab-df-quickchart {\n",
       "    background-color: var(--bg-color);\n",
       "    border: none;\n",
       "    border-radius: 50%;\n",
       "    cursor: pointer;\n",
       "    display: none;\n",
       "    fill: var(--fill-color);\n",
       "    height: 32px;\n",
       "    padding: 0;\n",
       "    width: 32px;\n",
       "  }\n",
       "\n",
       "  .colab-df-quickchart:hover {\n",
       "    background-color: var(--hover-bg-color);\n",
       "    box-shadow: 0 1px 2px rgba(60, 64, 67, 0.3), 0 1px 3px 1px rgba(60, 64, 67, 0.15);\n",
       "    fill: var(--button-hover-fill-color);\n",
       "  }\n",
       "\n",
       "  .colab-df-quickchart-complete:disabled,\n",
       "  .colab-df-quickchart-complete:disabled:hover {\n",
       "    background-color: var(--disabled-bg-color);\n",
       "    fill: var(--disabled-fill-color);\n",
       "    box-shadow: none;\n",
       "  }\n",
       "\n",
       "  .colab-df-spinner {\n",
       "    border: 2px solid var(--fill-color);\n",
       "    border-color: transparent;\n",
       "    border-bottom-color: var(--fill-color);\n",
       "    animation:\n",
       "      spin 1s steps(1) infinite;\n",
       "  }\n",
       "\n",
       "  @keyframes spin {\n",
       "    0% {\n",
       "      border-color: transparent;\n",
       "      border-bottom-color: var(--fill-color);\n",
       "      border-left-color: var(--fill-color);\n",
       "    }\n",
       "    20% {\n",
       "      border-color: transparent;\n",
       "      border-left-color: var(--fill-color);\n",
       "      border-top-color: var(--fill-color);\n",
       "    }\n",
       "    30% {\n",
       "      border-color: transparent;\n",
       "      border-left-color: var(--fill-color);\n",
       "      border-top-color: var(--fill-color);\n",
       "      border-right-color: var(--fill-color);\n",
       "    }\n",
       "    40% {\n",
       "      border-color: transparent;\n",
       "      border-right-color: var(--fill-color);\n",
       "      border-top-color: var(--fill-color);\n",
       "    }\n",
       "    60% {\n",
       "      border-color: transparent;\n",
       "      border-right-color: var(--fill-color);\n",
       "    }\n",
       "    80% {\n",
       "      border-color: transparent;\n",
       "      border-right-color: var(--fill-color);\n",
       "      border-bottom-color: var(--fill-color);\n",
       "    }\n",
       "    90% {\n",
       "      border-color: transparent;\n",
       "      border-bottom-color: var(--fill-color);\n",
       "    }\n",
       "  }\n",
       "</style>\n",
       "\n",
       "      <script>\n",
       "        async function quickchart(key) {\n",
       "          const quickchartButtonEl =\n",
       "            document.querySelector('#' + key + ' button');\n",
       "          quickchartButtonEl.disabled = true;  // To prevent multiple clicks.\n",
       "          quickchartButtonEl.classList.add('colab-df-spinner');\n",
       "          try {\n",
       "            const charts = await google.colab.kernel.invokeFunction(\n",
       "                'suggestCharts', [key], {});\n",
       "          } catch (error) {\n",
       "            console.error('Error during call to suggestCharts:', error);\n",
       "          }\n",
       "          quickchartButtonEl.classList.remove('colab-df-spinner');\n",
       "          quickchartButtonEl.classList.add('colab-df-quickchart-complete');\n",
       "        }\n",
       "        (() => {\n",
       "          let quickchartButtonEl =\n",
       "            document.querySelector('#df-3160c082-6369-4779-bb95-7851717fa200 button');\n",
       "          quickchartButtonEl.style.display =\n",
       "            google.colab.kernel.accessAllowed ? 'block' : 'none';\n",
       "        })();\n",
       "      </script>\n",
       "    </div>\n",
       "\n",
       "    </div>\n",
       "  </div>\n"
      ],
      "text/plain": [
       "  column_name column_type null   key default extra\n",
       "0  podcast_id     VARCHAR  YES  None    None  None\n",
       "1       title     VARCHAR  YES  None    None  None\n",
       "2     content     VARCHAR  YES  None    None  None\n",
       "3      rating      BIGINT  YES  None    None  None\n",
       "4   author_id     VARCHAR  YES  None    None  None\n",
       "5  created_at     VARCHAR  YES  None    None  None"
      ]
     },
     "execution_count": 3,
     "metadata": {},
     "output_type": "execute_result"
    }
   ],
   "source": [
    "# Describe data set\n",
    "conn.execute(f\"\"\"\n",
    "    DESCRIBE SELECT * FROM read_json_auto('{Config.DATA_DIR}')\n",
    "\"\"\"\n",
    ").df()\n"
   ]
  },
  {
   "cell_type": "code",
   "execution_count": null,
   "metadata": {
    "colab": {
     "base_uri": "https://localhost:8080/",
     "height": 136,
     "referenced_widgets": [
      "6aa75a5f5bf246bb8478ea8ac3dc5b92",
      "44bcdb3fa9634f4389c3448c129133c7",
      "3d3f8912b96a4f4db35bd0f1eab11523"
     ]
    },
    "id": "xXbwg-FusX2t",
    "outputId": "af93f7c2-9feb-4f6d-cf68-a28c65c307f5"
   },
   "outputs": [
    {
     "data": {
      "application/vnd.jupyter.widget-view+json": {
       "model_id": "6aa75a5f5bf246bb8478ea8ac3dc5b92",
       "version_major": 2,
       "version_minor": 0
      },
      "text/plain": [
       "FloatProgress(value=0.0, layout=Layout(width='auto'), style=ProgressStyle(bar_color='black'))"
      ]
     },
     "metadata": {},
     "output_type": "display_data"
    },
    {
     "name": "stdout",
     "output_type": "stream",
     "text": [
      "Total reviews (with text): 5,607,021\n",
      "Total users: 3,256,501\n",
      "Total podcasts: 303,911\n",
      "Average rating: 4.65\n",
      "Average content length: 227.07 characters\n"
     ]
    }
   ],
   "source": [
    "# General statistics\n",
    "query = f\"\"\"\n",
    "SELECT\n",
    "    COUNT(*) as total_reviews,\n",
    "    COUNT(DISTINCT author_id) as total_users,\n",
    "    COUNT(DISTINCT podcast_id) as total_podcasts,\n",
    "    AVG(rating) as avg_rating,\n",
    "    AVG(LENGTH(content)) as avg_content_length -- Added average content length\n",
    "FROM read_json_auto('{Config.DATA_DIR}')\n",
    "WHERE rating IS NOT NULL AND content IS NOT NULL\n",
    "\"\"\"\n",
    "\n",
    "ans = conn.execute(query).df()\n",
    "\n",
    "print(f\"Total reviews (with text): {ans['total_reviews'].iloc[0]:,}\")\n",
    "print(f\"Total users: {ans['total_users'].iloc[0]:,}\")\n",
    "print(f\"Total podcasts: {ans['total_podcasts'].iloc[0]:,}\")\n",
    "print(f\"Average rating: {ans['avg_rating'].iloc[0]:.2f}\")\n",
    "print(f\"Average content length: {ans['avg_content_length'].iloc[0]:.2f} characters\") # Display average content length"
   ]
  },
  {
   "cell_type": "markdown",
   "metadata": {
    "id": "M3_49RO8Gf6B"
   },
   "source": [
    "### Checking for Null Values\n",
    "We verify data completeness by checking for null entries across all columns."
   ]
  },
  {
   "cell_type": "code",
   "execution_count": null,
   "metadata": {
    "colab": {
     "base_uri": "https://localhost:8080/",
     "height": 101
    },
    "id": "217BwqffE1-U",
    "outputId": "0e458b9e-054c-4c70-d825-a5c71c46b4dc"
   },
   "outputs": [
    {
     "data": {
      "application/vnd.google.colaboratory.intrinsic+json": {
       "summary": "{\n  \"name\": \"conn\",\n  \"rows\": 1,\n  \"fields\": [\n    {\n      \"column\": \"null_podcast_id\",\n      \"properties\": {\n        \"dtype\": \"number\",\n        \"std\": null,\n        \"min\": 0,\n        \"max\": 0,\n        \"num_unique_values\": 1,\n        \"samples\": [\n          0\n        ],\n        \"semantic_type\": \"\",\n        \"description\": \"\"\n      }\n    },\n    {\n      \"column\": \"null_title\",\n      \"properties\": {\n        \"dtype\": \"number\",\n        \"std\": null,\n        \"min\": 0,\n        \"max\": 0,\n        \"num_unique_values\": 1,\n        \"samples\": [\n          0\n        ],\n        \"semantic_type\": \"\",\n        \"description\": \"\"\n      }\n    },\n    {\n      \"column\": \"null_content\",\n      \"properties\": {\n        \"dtype\": \"number\",\n        \"std\": null,\n        \"min\": 0,\n        \"max\": 0,\n        \"num_unique_values\": 1,\n        \"samples\": [\n          0\n        ],\n        \"semantic_type\": \"\",\n        \"description\": \"\"\n      }\n    },\n    {\n      \"column\": \"null_rating\",\n      \"properties\": {\n        \"dtype\": \"number\",\n        \"std\": null,\n        \"min\": 0,\n        \"max\": 0,\n        \"num_unique_values\": 1,\n        \"samples\": [\n          0\n        ],\n        \"semantic_type\": \"\",\n        \"description\": \"\"\n      }\n    },\n    {\n      \"column\": \"null_author_id\",\n      \"properties\": {\n        \"dtype\": \"number\",\n        \"std\": null,\n        \"min\": 0,\n        \"max\": 0,\n        \"num_unique_values\": 1,\n        \"samples\": [\n          0\n        ],\n        \"semantic_type\": \"\",\n        \"description\": \"\"\n      }\n    },\n    {\n      \"column\": \"null_created_at\",\n      \"properties\": {\n        \"dtype\": \"number\",\n        \"std\": null,\n        \"min\": 0,\n        \"max\": 0,\n        \"num_unique_values\": 1,\n        \"samples\": [\n          0\n        ],\n        \"semantic_type\": \"\",\n        \"description\": \"\"\n      }\n    },\n    {\n      \"column\": \"total_rows\",\n      \"properties\": {\n        \"dtype\": \"number\",\n        \"std\": null,\n        \"min\": 5607021,\n        \"max\": 5607021,\n        \"num_unique_values\": 1,\n        \"samples\": [\n          5607021\n        ],\n        \"semantic_type\": \"\",\n        \"description\": \"\"\n      }\n    }\n  ]\n}",
       "type": "dataframe"
      },
      "text/html": [
       "\n",
       "  <div id=\"df-7de05886-a0f1-4bf9-b998-c33040e8de45\" class=\"colab-df-container\">\n",
       "    <div>\n",
       "<style scoped>\n",
       "    .dataframe tbody tr th:only-of-type {\n",
       "        vertical-align: middle;\n",
       "    }\n",
       "\n",
       "    .dataframe tbody tr th {\n",
       "        vertical-align: top;\n",
       "    }\n",
       "\n",
       "    .dataframe thead th {\n",
       "        text-align: right;\n",
       "    }\n",
       "</style>\n",
       "<table border=\"1\" class=\"dataframe\">\n",
       "  <thead>\n",
       "    <tr style=\"text-align: right;\">\n",
       "      <th></th>\n",
       "      <th>null_podcast_id</th>\n",
       "      <th>null_title</th>\n",
       "      <th>null_content</th>\n",
       "      <th>null_rating</th>\n",
       "      <th>null_author_id</th>\n",
       "      <th>null_created_at</th>\n",
       "      <th>total_rows</th>\n",
       "    </tr>\n",
       "  </thead>\n",
       "  <tbody>\n",
       "    <tr>\n",
       "      <th>0</th>\n",
       "      <td>0</td>\n",
       "      <td>0</td>\n",
       "      <td>0</td>\n",
       "      <td>0</td>\n",
       "      <td>0</td>\n",
       "      <td>0</td>\n",
       "      <td>5607021</td>\n",
       "    </tr>\n",
       "  </tbody>\n",
       "</table>\n",
       "</div>\n",
       "    <div class=\"colab-df-buttons\">\n",
       "\n",
       "  <div class=\"colab-df-container\">\n",
       "    <button class=\"colab-df-convert\" onclick=\"convertToInteractive('df-7de05886-a0f1-4bf9-b998-c33040e8de45')\"\n",
       "            title=\"Convert this dataframe to an interactive table.\"\n",
       "            style=\"display:none;\">\n",
       "\n",
       "  <svg xmlns=\"http://www.w3.org/2000/svg\" height=\"24px\" viewBox=\"0 -960 960 960\">\n",
       "    <path d=\"M120-120v-720h720v720H120Zm60-500h600v-160H180v160Zm220 220h160v-160H400v160Zm0 220h160v-160H400v160ZM180-400h160v-160H180v160Zm440 0h160v-160H620v160ZM180-180h160v-160H180v160Zm440 0h160v-160H620v160Z\"/>\n",
       "  </svg>\n",
       "    </button>\n",
       "\n",
       "  <style>\n",
       "    .colab-df-container {\n",
       "      display:flex;\n",
       "      gap: 12px;\n",
       "    }\n",
       "\n",
       "    .colab-df-convert {\n",
       "      background-color: #E8F0FE;\n",
       "      border: none;\n",
       "      border-radius: 50%;\n",
       "      cursor: pointer;\n",
       "      display: none;\n",
       "      fill: #1967D2;\n",
       "      height: 32px;\n",
       "      padding: 0 0 0 0;\n",
       "      width: 32px;\n",
       "    }\n",
       "\n",
       "    .colab-df-convert:hover {\n",
       "      background-color: #E2EBFA;\n",
       "      box-shadow: 0px 1px 2px rgba(60, 64, 67, 0.3), 0px 1px 3px 1px rgba(60, 64, 67, 0.15);\n",
       "      fill: #174EA6;\n",
       "    }\n",
       "\n",
       "    .colab-df-buttons div {\n",
       "      margin-bottom: 4px;\n",
       "    }\n",
       "\n",
       "    [theme=dark] .colab-df-convert {\n",
       "      background-color: #3B4455;\n",
       "      fill: #D2E3FC;\n",
       "    }\n",
       "\n",
       "    [theme=dark] .colab-df-convert:hover {\n",
       "      background-color: #434B5C;\n",
       "      box-shadow: 0px 1px 3px 1px rgba(0, 0, 0, 0.15);\n",
       "      filter: drop-shadow(0px 1px 2px rgba(0, 0, 0, 0.3));\n",
       "      fill: #FFFFFF;\n",
       "    }\n",
       "  </style>\n",
       "\n",
       "    <script>\n",
       "      const buttonEl =\n",
       "        document.querySelector('#df-7de05886-a0f1-4bf9-b998-c33040e8de45 button.colab-df-convert');\n",
       "      buttonEl.style.display =\n",
       "        google.colab.kernel.accessAllowed ? 'block' : 'none';\n",
       "\n",
       "      async function convertToInteractive(key) {\n",
       "        const element = document.querySelector('#df-7de05886-a0f1-4bf9-b998-c33040e8de45');\n",
       "        const dataTable =\n",
       "          await google.colab.kernel.invokeFunction('convertToInteractive',\n",
       "                                                    [key], {});\n",
       "        if (!dataTable) return;\n",
       "\n",
       "        const docLinkHtml = 'Like what you see? Visit the ' +\n",
       "          '<a target=\"_blank\" href=https://colab.research.google.com/notebooks/data_table.ipynb>data table notebook</a>'\n",
       "          + ' to learn more about interactive tables.';\n",
       "        element.innerHTML = '';\n",
       "        dataTable['output_type'] = 'display_data';\n",
       "        await google.colab.output.renderOutput(dataTable, element);\n",
       "        const docLink = document.createElement('div');\n",
       "        docLink.innerHTML = docLinkHtml;\n",
       "        element.appendChild(docLink);\n",
       "      }\n",
       "    </script>\n",
       "  </div>\n",
       "\n",
       "\n",
       "    </div>\n",
       "  </div>\n"
      ],
      "text/plain": [
       "   null_podcast_id  null_title  null_content  null_rating  null_author_id  \\\n",
       "0                0           0             0            0               0   \n",
       "\n",
       "   null_created_at  total_rows  \n",
       "0                0     5607021  "
      ]
     },
     "execution_count": 5,
     "metadata": {},
     "output_type": "execute_result"
    }
   ],
   "source": [
    "# Find null entries\n",
    "query = f\"\"\"\n",
    "SELECT\n",
    "    COUNT(*) - COUNT(podcast_id) as null_podcast_id,\n",
    "    COUNT(*) - COUNT(title) as null_title,\n",
    "    COUNT(*) - COUNT(content) as null_content,\n",
    "    COUNT(*) - COUNT(rating) as null_rating,\n",
    "    COUNT(*) - COUNT(author_id) as null_author_id,\n",
    "    COUNT(*) - COUNT(created_at) as null_created_at,\n",
    "    COUNT(*) as total_rows\n",
    "FROM read_json_auto('{Config.DATA_DIR}')\n",
    "\"\"\"\n",
    "\n",
    "conn.execute(query).df()"
   ]
  },
  {
   "cell_type": "markdown",
   "metadata": {
    "id": "va5KIfhRhvyT"
   },
   "source": [
    "### Checking for Empty Strings and Whitespace\n",
    "\n",
    "Beyond null values, we check for empty strings or whitespace-only entries that could affect data quality.\n"
   ]
  },
  {
   "cell_type": "code",
   "execution_count": null,
   "metadata": {
    "colab": {
     "base_uri": "https://localhost:8080/",
     "height": 133,
     "referenced_widgets": [
      "d1cd533230c04319b529d89512c2fabe",
      "a197adcd107f455bb2863a6f260f0537",
      "5cb154c80e6e4bb8b0de338d741abfb5"
     ]
    },
    "id": "8VMjzWDeHTer",
    "outputId": "46fb99aa-5386-4b88-b1d9-165cce9430df"
   },
   "outputs": [
    {
     "data": {
      "application/vnd.jupyter.widget-view+json": {
       "model_id": "d1cd533230c04319b529d89512c2fabe",
       "version_major": 2,
       "version_minor": 0
      },
      "text/plain": [
       "FloatProgress(value=0.0, layout=Layout(width='auto'), style=ProgressStyle(bar_color='black'))"
      ]
     },
     "metadata": {},
     "output_type": "display_data"
    },
    {
     "data": {
      "application/vnd.google.colaboratory.intrinsic+json": {
       "summary": "{\n  \"name\": \"conn\",\n  \"rows\": 1,\n  \"fields\": [\n    {\n      \"column\": \"empty_podcast_id\",\n      \"properties\": {\n        \"dtype\": \"number\",\n        \"std\": null,\n        \"min\": 0.0,\n        \"max\": 0.0,\n        \"num_unique_values\": 1,\n        \"samples\": [\n          0.0\n        ],\n        \"semantic_type\": \"\",\n        \"description\": \"\"\n      }\n    },\n    {\n      \"column\": \"empty_author_id\",\n      \"properties\": {\n        \"dtype\": \"number\",\n        \"std\": null,\n        \"min\": 0.0,\n        \"max\": 0.0,\n        \"num_unique_values\": 1,\n        \"samples\": [\n          0.0\n        ],\n        \"semantic_type\": \"\",\n        \"description\": \"\"\n      }\n    },\n    {\n      \"column\": \"whitespace_content\",\n      \"properties\": {\n        \"dtype\": \"number\",\n        \"std\": null,\n        \"min\": 6.0,\n        \"max\": 6.0,\n        \"num_unique_values\": 1,\n        \"samples\": [\n          6.0\n        ],\n        \"semantic_type\": \"\",\n        \"description\": \"\"\n      }\n    },\n    {\n      \"column\": \"whitespace_title\",\n      \"properties\": {\n        \"dtype\": \"number\",\n        \"std\": null,\n        \"min\": 27.0,\n        \"max\": 27.0,\n        \"num_unique_values\": 1,\n        \"samples\": [\n          27.0\n        ],\n        \"semantic_type\": \"\",\n        \"description\": \"\"\n      }\n    },\n    {\n      \"column\": \"white_title_and_content\",\n      \"properties\": {\n        \"dtype\": \"number\",\n        \"std\": null,\n        \"min\": 2.0,\n        \"max\": 2.0,\n        \"num_unique_values\": 1,\n        \"samples\": [\n          2.0\n        ],\n        \"semantic_type\": \"\",\n        \"description\": \"\"\n      }\n    }\n  ]\n}",
       "type": "dataframe"
      },
      "text/html": [
       "\n",
       "  <div id=\"df-7ba79476-bd04-419b-95ef-c578aa042968\" class=\"colab-df-container\">\n",
       "    <div>\n",
       "<style scoped>\n",
       "    .dataframe tbody tr th:only-of-type {\n",
       "        vertical-align: middle;\n",
       "    }\n",
       "\n",
       "    .dataframe tbody tr th {\n",
       "        vertical-align: top;\n",
       "    }\n",
       "\n",
       "    .dataframe thead th {\n",
       "        text-align: right;\n",
       "    }\n",
       "</style>\n",
       "<table border=\"1\" class=\"dataframe\">\n",
       "  <thead>\n",
       "    <tr style=\"text-align: right;\">\n",
       "      <th></th>\n",
       "      <th>empty_podcast_id</th>\n",
       "      <th>empty_author_id</th>\n",
       "      <th>whitespace_content</th>\n",
       "      <th>whitespace_title</th>\n",
       "      <th>white_title_and_content</th>\n",
       "    </tr>\n",
       "  </thead>\n",
       "  <tbody>\n",
       "    <tr>\n",
       "      <th>0</th>\n",
       "      <td>0.0</td>\n",
       "      <td>0.0</td>\n",
       "      <td>6.0</td>\n",
       "      <td>27.0</td>\n",
       "      <td>2.0</td>\n",
       "    </tr>\n",
       "  </tbody>\n",
       "</table>\n",
       "</div>\n",
       "    <div class=\"colab-df-buttons\">\n",
       "\n",
       "  <div class=\"colab-df-container\">\n",
       "    <button class=\"colab-df-convert\" onclick=\"convertToInteractive('df-7ba79476-bd04-419b-95ef-c578aa042968')\"\n",
       "            title=\"Convert this dataframe to an interactive table.\"\n",
       "            style=\"display:none;\">\n",
       "\n",
       "  <svg xmlns=\"http://www.w3.org/2000/svg\" height=\"24px\" viewBox=\"0 -960 960 960\">\n",
       "    <path d=\"M120-120v-720h720v720H120Zm60-500h600v-160H180v160Zm220 220h160v-160H400v160Zm0 220h160v-160H400v160ZM180-400h160v-160H180v160Zm440 0h160v-160H620v160ZM180-180h160v-160H180v160Zm440 0h160v-160H620v160Z\"/>\n",
       "  </svg>\n",
       "    </button>\n",
       "\n",
       "  <style>\n",
       "    .colab-df-container {\n",
       "      display:flex;\n",
       "      gap: 12px;\n",
       "    }\n",
       "\n",
       "    .colab-df-convert {\n",
       "      background-color: #E8F0FE;\n",
       "      border: none;\n",
       "      border-radius: 50%;\n",
       "      cursor: pointer;\n",
       "      display: none;\n",
       "      fill: #1967D2;\n",
       "      height: 32px;\n",
       "      padding: 0 0 0 0;\n",
       "      width: 32px;\n",
       "    }\n",
       "\n",
       "    .colab-df-convert:hover {\n",
       "      background-color: #E2EBFA;\n",
       "      box-shadow: 0px 1px 2px rgba(60, 64, 67, 0.3), 0px 1px 3px 1px rgba(60, 64, 67, 0.15);\n",
       "      fill: #174EA6;\n",
       "    }\n",
       "\n",
       "    .colab-df-buttons div {\n",
       "      margin-bottom: 4px;\n",
       "    }\n",
       "\n",
       "    [theme=dark] .colab-df-convert {\n",
       "      background-color: #3B4455;\n",
       "      fill: #D2E3FC;\n",
       "    }\n",
       "\n",
       "    [theme=dark] .colab-df-convert:hover {\n",
       "      background-color: #434B5C;\n",
       "      box-shadow: 0px 1px 3px 1px rgba(0, 0, 0, 0.15);\n",
       "      filter: drop-shadow(0px 1px 2px rgba(0, 0, 0, 0.3));\n",
       "      fill: #FFFFFF;\n",
       "    }\n",
       "  </style>\n",
       "\n",
       "    <script>\n",
       "      const buttonEl =\n",
       "        document.querySelector('#df-7ba79476-bd04-419b-95ef-c578aa042968 button.colab-df-convert');\n",
       "      buttonEl.style.display =\n",
       "        google.colab.kernel.accessAllowed ? 'block' : 'none';\n",
       "\n",
       "      async function convertToInteractive(key) {\n",
       "        const element = document.querySelector('#df-7ba79476-bd04-419b-95ef-c578aa042968');\n",
       "        const dataTable =\n",
       "          await google.colab.kernel.invokeFunction('convertToInteractive',\n",
       "                                                    [key], {});\n",
       "        if (!dataTable) return;\n",
       "\n",
       "        const docLinkHtml = 'Like what you see? Visit the ' +\n",
       "          '<a target=\"_blank\" href=https://colab.research.google.com/notebooks/data_table.ipynb>data table notebook</a>'\n",
       "          + ' to learn more about interactive tables.';\n",
       "        element.innerHTML = '';\n",
       "        dataTable['output_type'] = 'display_data';\n",
       "        await google.colab.output.renderOutput(dataTable, element);\n",
       "        const docLink = document.createElement('div');\n",
       "        docLink.innerHTML = docLinkHtml;\n",
       "        element.appendChild(docLink);\n",
       "      }\n",
       "    </script>\n",
       "  </div>\n",
       "\n",
       "\n",
       "    </div>\n",
       "  </div>\n"
      ],
      "text/plain": [
       "   empty_podcast_id  empty_author_id  whitespace_content  whitespace_title  \\\n",
       "0               0.0              0.0                 6.0              27.0   \n",
       "\n",
       "   white_title_and_content  \n",
       "0                      2.0  "
      ]
     },
     "execution_count": 6,
     "metadata": {},
     "output_type": "execute_result"
    }
   ],
   "source": [
    "# Find empty string and whitespace-only entries\n",
    "query = f\"\"\"\n",
    "SELECT\n",
    "    SUM(CASE WHEN TRIM(podcast_id) = '' THEN 1 ELSE 0 END) as empty_podcast_id,\n",
    "    SUM(CASE WHEN TRIM(author_id) = '' THEN 1 ELSE 0 END) as empty_author_id,\n",
    "    SUM(CASE WHEN TRIM(content) = '' THEN 1 ELSE 0 END) as whitespace_content,\n",
    "    SUM(CASE WHEN TRIM(title) = '' THEN 1 ELSE 0 END) as whitespace_title,\n",
    "    SUM(CASE WHEN TRIM(content) = '' AND TRIM(title) = '' THEN 1 ELSE 0 END) as white_title_and_content\n",
    "FROM read_json_auto('{Config.DATA_DIR}')\n",
    "\"\"\"\n",
    "\n",
    "conn.execute(query).df()"
   ]
  },
  {
   "cell_type": "markdown",
   "metadata": {
    "id": "hUH6NWM_mPTh"
   },
   "source": [
    "### Data Quality Decisions\n",
    "\n",
    "We identified 2 reviews with both empty title and content. These will be excluded from the training set, which is acceptable given we have over 5 million valid reviews available.\n",
    "\n",
    "Below is an example of a review entry:"
   ]
  },
  {
   "cell_type": "code",
   "execution_count": null,
   "metadata": {
    "colab": {
     "base_uri": "https://localhost:8080/",
     "height": 118
    },
    "id": "l3GOWYlXsX2u",
    "outputId": "8ad08374-9b1d-48b2-e356-d9d7623858bf"
   },
   "outputs": [
    {
     "data": {
      "application/vnd.google.colaboratory.intrinsic+json": {
       "summary": "{\n  \"name\": \"conn\",\n  \"rows\": 1,\n  \"fields\": [\n    {\n      \"column\": \"podcast_id\",\n      \"properties\": {\n        \"dtype\": \"string\",\n        \"num_unique_values\": 1,\n        \"samples\": [\n          \"a423a3390e4eb3d4c5367221e21196a3\"\n        ],\n        \"semantic_type\": \"\",\n        \"description\": \"\"\n      }\n    },\n    {\n      \"column\": \"title\",\n      \"properties\": {\n        \"dtype\": \"string\",\n        \"num_unique_values\": 1,\n        \"samples\": [\n          \"Obsessed\"\n        ],\n        \"semantic_type\": \"\",\n        \"description\": \"\"\n      }\n    },\n    {\n      \"column\": \"content\",\n      \"properties\": {\n        \"dtype\": \"string\",\n        \"num_unique_values\": 1,\n        \"samples\": [\n          \"So good!\"\n        ],\n        \"semantic_type\": \"\",\n        \"description\": \"\"\n      }\n    },\n    {\n      \"column\": \"rating\",\n      \"properties\": {\n        \"dtype\": \"number\",\n        \"std\": null,\n        \"min\": 5,\n        \"max\": 5,\n        \"num_unique_values\": 1,\n        \"samples\": [\n          5\n        ],\n        \"semantic_type\": \"\",\n        \"description\": \"\"\n      }\n    },\n    {\n      \"column\": \"author_id\",\n      \"properties\": {\n        \"dtype\": \"string\",\n        \"num_unique_values\": 1,\n        \"samples\": [\n          \"e03980676dd370e\"\n        ],\n        \"semantic_type\": \"\",\n        \"description\": \"\"\n      }\n    },\n    {\n      \"column\": \"created_at\",\n      \"properties\": {\n        \"dtype\": \"object\",\n        \"num_unique_values\": 1,\n        \"samples\": [\n          \"2016-02-20 02:08:41+00\"\n        ],\n        \"semantic_type\": \"\",\n        \"description\": \"\"\n      }\n    }\n  ]\n}",
       "type": "dataframe"
      },
      "text/html": [
       "\n",
       "  <div id=\"df-41cbff80-7c94-4a80-9c33-6d466d9d6ff3\" class=\"colab-df-container\">\n",
       "    <div>\n",
       "<style scoped>\n",
       "    .dataframe tbody tr th:only-of-type {\n",
       "        vertical-align: middle;\n",
       "    }\n",
       "\n",
       "    .dataframe tbody tr th {\n",
       "        vertical-align: top;\n",
       "    }\n",
       "\n",
       "    .dataframe thead th {\n",
       "        text-align: right;\n",
       "    }\n",
       "</style>\n",
       "<table border=\"1\" class=\"dataframe\">\n",
       "  <thead>\n",
       "    <tr style=\"text-align: right;\">\n",
       "      <th></th>\n",
       "      <th>podcast_id</th>\n",
       "      <th>title</th>\n",
       "      <th>content</th>\n",
       "      <th>rating</th>\n",
       "      <th>author_id</th>\n",
       "      <th>created_at</th>\n",
       "    </tr>\n",
       "  </thead>\n",
       "  <tbody>\n",
       "    <tr>\n",
       "      <th>0</th>\n",
       "      <td>a423a3390e4eb3d4c5367221e21196a3</td>\n",
       "      <td>Obsessed</td>\n",
       "      <td>So good!</td>\n",
       "      <td>5</td>\n",
       "      <td>e03980676dd370e</td>\n",
       "      <td>2016-02-20 02:08:41+00</td>\n",
       "    </tr>\n",
       "  </tbody>\n",
       "</table>\n",
       "</div>\n",
       "    <div class=\"colab-df-buttons\">\n",
       "\n",
       "  <div class=\"colab-df-container\">\n",
       "    <button class=\"colab-df-convert\" onclick=\"convertToInteractive('df-41cbff80-7c94-4a80-9c33-6d466d9d6ff3')\"\n",
       "            title=\"Convert this dataframe to an interactive table.\"\n",
       "            style=\"display:none;\">\n",
       "\n",
       "  <svg xmlns=\"http://www.w3.org/2000/svg\" height=\"24px\" viewBox=\"0 -960 960 960\">\n",
       "    <path d=\"M120-120v-720h720v720H120Zm60-500h600v-160H180v160Zm220 220h160v-160H400v160Zm0 220h160v-160H400v160ZM180-400h160v-160H180v160Zm440 0h160v-160H620v160ZM180-180h160v-160H180v160Zm440 0h160v-160H620v160Z\"/>\n",
       "  </svg>\n",
       "    </button>\n",
       "\n",
       "  <style>\n",
       "    .colab-df-container {\n",
       "      display:flex;\n",
       "      gap: 12px;\n",
       "    }\n",
       "\n",
       "    .colab-df-convert {\n",
       "      background-color: #E8F0FE;\n",
       "      border: none;\n",
       "      border-radius: 50%;\n",
       "      cursor: pointer;\n",
       "      display: none;\n",
       "      fill: #1967D2;\n",
       "      height: 32px;\n",
       "      padding: 0 0 0 0;\n",
       "      width: 32px;\n",
       "    }\n",
       "\n",
       "    .colab-df-convert:hover {\n",
       "      background-color: #E2EBFA;\n",
       "      box-shadow: 0px 1px 2px rgba(60, 64, 67, 0.3), 0px 1px 3px 1px rgba(60, 64, 67, 0.15);\n",
       "      fill: #174EA6;\n",
       "    }\n",
       "\n",
       "    .colab-df-buttons div {\n",
       "      margin-bottom: 4px;\n",
       "    }\n",
       "\n",
       "    [theme=dark] .colab-df-convert {\n",
       "      background-color: #3B4455;\n",
       "      fill: #D2E3FC;\n",
       "    }\n",
       "\n",
       "    [theme=dark] .colab-df-convert:hover {\n",
       "      background-color: #434B5C;\n",
       "      box-shadow: 0px 1px 3px 1px rgba(0, 0, 0, 0.15);\n",
       "      filter: drop-shadow(0px 1px 2px rgba(0, 0, 0, 0.3));\n",
       "      fill: #FFFFFF;\n",
       "    }\n",
       "  </style>\n",
       "\n",
       "    <script>\n",
       "      const buttonEl =\n",
       "        document.querySelector('#df-41cbff80-7c94-4a80-9c33-6d466d9d6ff3 button.colab-df-convert');\n",
       "      buttonEl.style.display =\n",
       "        google.colab.kernel.accessAllowed ? 'block' : 'none';\n",
       "\n",
       "      async function convertToInteractive(key) {\n",
       "        const element = document.querySelector('#df-41cbff80-7c94-4a80-9c33-6d466d9d6ff3');\n",
       "        const dataTable =\n",
       "          await google.colab.kernel.invokeFunction('convertToInteractive',\n",
       "                                                    [key], {});\n",
       "        if (!dataTable) return;\n",
       "\n",
       "        const docLinkHtml = 'Like what you see? Visit the ' +\n",
       "          '<a target=\"_blank\" href=https://colab.research.google.com/notebooks/data_table.ipynb>data table notebook</a>'\n",
       "          + ' to learn more about interactive tables.';\n",
       "        element.innerHTML = '';\n",
       "        dataTable['output_type'] = 'display_data';\n",
       "        await google.colab.output.renderOutput(dataTable, element);\n",
       "        const docLink = document.createElement('div');\n",
       "        docLink.innerHTML = docLinkHtml;\n",
       "        element.appendChild(docLink);\n",
       "      }\n",
       "    </script>\n",
       "  </div>\n",
       "\n",
       "\n",
       "    </div>\n",
       "  </div>\n"
      ],
      "text/plain": [
       "                         podcast_id     title   content  rating  \\\n",
       "0  a423a3390e4eb3d4c5367221e21196a3  Obsessed  So good!       5   \n",
       "\n",
       "         author_id              created_at  \n",
       "0  e03980676dd370e  2016-02-20 02:08:41+00  "
      ]
     },
     "execution_count": 7,
     "metadata": {},
     "output_type": "execute_result"
    }
   ],
   "source": [
    "# Let us see an example.\n",
    "query = f\"\"\"\n",
    "SELECT *\n",
    "FROM read_json_auto('{Config.DATA_DIR}')\n",
    "WHERE title IS NOT NULL AND content IS NOT NULL\n",
    "USING SAMPLE 1 ROWS\n",
    "\"\"\"\n",
    "\n",
    "# Set display option to show full content\n",
    "pd.options.display.max_colwidth = None\n",
    "conn.execute(query).df()\n"
   ]
  },
  {
   "cell_type": "markdown",
   "metadata": {
    "id": "fjQCev-Q2_Ye"
   },
   "source": [
    "### User Activity Distribution\n",
    "\n",
    "We analyze how many reviews each user has written to understand user engagement levels and identify active users.\n"
   ]
  },
  {
   "cell_type": "code",
   "execution_count": null,
   "metadata": {
    "colab": {
     "base_uri": "https://localhost:8080/",
     "height": 732
    },
    "id": "EBTbWCkSLSxD",
    "outputId": "5d759bf2-4512-44f8-81cf-b29f210b0b22"
   },
   "outputs": [
    {
     "name": "stdout",
     "output_type": "stream",
     "text": [
      "\n",
      "Reviews per User Distribution:\n"
     ]
    },
    {
     "data": {
      "application/vnd.google.colaboratory.intrinsic+json": {
       "summary": "{\n  \"name\": \"ans['reviews_per_user']\",\n  \"rows\": 5,\n  \"fields\": [\n    {\n      \"column\": \"reviews_per_user\",\n      \"properties\": {\n        \"dtype\": \"number\",\n        \"std\": 1,\n        \"min\": 1,\n        \"max\": 5,\n        \"num_unique_values\": 5,\n        \"samples\": [\n          2,\n          5,\n          3\n        ],\n        \"semantic_type\": \"\",\n        \"description\": \"\"\n      }\n    },\n    {\n      \"column\": \"num_users\",\n      \"properties\": {\n        \"dtype\": \"number\",\n        \"std\": 1003224,\n        \"min\": 44877,\n        \"max\": 2400918,\n        \"num_unique_values\": 5,\n        \"samples\": [\n          457374,\n          44877,\n          166691\n        ],\n        \"semantic_type\": \"\",\n        \"description\": \"\"\n      }\n    }\n  ]\n}",
       "type": "dataframe"
      },
      "text/html": [
       "\n",
       "  <div id=\"df-efe74da1-ad36-43ef-8c1f-81b69af54991\" class=\"colab-df-container\">\n",
       "    <div>\n",
       "<style scoped>\n",
       "    .dataframe tbody tr th:only-of-type {\n",
       "        vertical-align: middle;\n",
       "    }\n",
       "\n",
       "    .dataframe tbody tr th {\n",
       "        vertical-align: top;\n",
       "    }\n",
       "\n",
       "    .dataframe thead th {\n",
       "        text-align: right;\n",
       "    }\n",
       "</style>\n",
       "<table border=\"1\" class=\"dataframe\">\n",
       "  <thead>\n",
       "    <tr style=\"text-align: right;\">\n",
       "      <th></th>\n",
       "      <th>reviews_per_user</th>\n",
       "      <th>num_users</th>\n",
       "    </tr>\n",
       "  </thead>\n",
       "  <tbody>\n",
       "    <tr>\n",
       "      <th>0</th>\n",
       "      <td>1</td>\n",
       "      <td>2400918</td>\n",
       "    </tr>\n",
       "    <tr>\n",
       "      <th>1</th>\n",
       "      <td>2</td>\n",
       "      <td>457374</td>\n",
       "    </tr>\n",
       "    <tr>\n",
       "      <th>2</th>\n",
       "      <td>3</td>\n",
       "      <td>166691</td>\n",
       "    </tr>\n",
       "    <tr>\n",
       "      <th>3</th>\n",
       "      <td>4</td>\n",
       "      <td>79668</td>\n",
       "    </tr>\n",
       "    <tr>\n",
       "      <th>4</th>\n",
       "      <td>5</td>\n",
       "      <td>44877</td>\n",
       "    </tr>\n",
       "  </tbody>\n",
       "</table>\n",
       "</div>\n",
       "    <div class=\"colab-df-buttons\">\n",
       "\n",
       "  <div class=\"colab-df-container\">\n",
       "    <button class=\"colab-df-convert\" onclick=\"convertToInteractive('df-efe74da1-ad36-43ef-8c1f-81b69af54991')\"\n",
       "            title=\"Convert this dataframe to an interactive table.\"\n",
       "            style=\"display:none;\">\n",
       "\n",
       "  <svg xmlns=\"http://www.w3.org/2000/svg\" height=\"24px\" viewBox=\"0 -960 960 960\">\n",
       "    <path d=\"M120-120v-720h720v720H120Zm60-500h600v-160H180v160Zm220 220h160v-160H400v160Zm0 220h160v-160H400v160ZM180-400h160v-160H180v160Zm440 0h160v-160H620v160ZM180-180h160v-160H180v160Zm440 0h160v-160H620v160Z\"/>\n",
       "  </svg>\n",
       "    </button>\n",
       "\n",
       "  <style>\n",
       "    .colab-df-container {\n",
       "      display:flex;\n",
       "      gap: 12px;\n",
       "    }\n",
       "\n",
       "    .colab-df-convert {\n",
       "      background-color: #E8F0FE;\n",
       "      border: none;\n",
       "      border-radius: 50%;\n",
       "      cursor: pointer;\n",
       "      display: none;\n",
       "      fill: #1967D2;\n",
       "      height: 32px;\n",
       "      padding: 0 0 0 0;\n",
       "      width: 32px;\n",
       "    }\n",
       "\n",
       "    .colab-df-convert:hover {\n",
       "      background-color: #E2EBFA;\n",
       "      box-shadow: 0px 1px 2px rgba(60, 64, 67, 0.3), 0px 1px 3px 1px rgba(60, 64, 67, 0.15);\n",
       "      fill: #174EA6;\n",
       "    }\n",
       "\n",
       "    .colab-df-buttons div {\n",
       "      margin-bottom: 4px;\n",
       "    }\n",
       "\n",
       "    [theme=dark] .colab-df-convert {\n",
       "      background-color: #3B4455;\n",
       "      fill: #D2E3FC;\n",
       "    }\n",
       "\n",
       "    [theme=dark] .colab-df-convert:hover {\n",
       "      background-color: #434B5C;\n",
       "      box-shadow: 0px 1px 3px 1px rgba(0, 0, 0, 0.15);\n",
       "      filter: drop-shadow(0px 1px 2px rgba(0, 0, 0, 0.3));\n",
       "      fill: #FFFFFF;\n",
       "    }\n",
       "  </style>\n",
       "\n",
       "    <script>\n",
       "      const buttonEl =\n",
       "        document.querySelector('#df-efe74da1-ad36-43ef-8c1f-81b69af54991 button.colab-df-convert');\n",
       "      buttonEl.style.display =\n",
       "        google.colab.kernel.accessAllowed ? 'block' : 'none';\n",
       "\n",
       "      async function convertToInteractive(key) {\n",
       "        const element = document.querySelector('#df-efe74da1-ad36-43ef-8c1f-81b69af54991');\n",
       "        const dataTable =\n",
       "          await google.colab.kernel.invokeFunction('convertToInteractive',\n",
       "                                                    [key], {});\n",
       "        if (!dataTable) return;\n",
       "\n",
       "        const docLinkHtml = 'Like what you see? Visit the ' +\n",
       "          '<a target=\"_blank\" href=https://colab.research.google.com/notebooks/data_table.ipynb>data table notebook</a>'\n",
       "          + ' to learn more about interactive tables.';\n",
       "        element.innerHTML = '';\n",
       "        dataTable['output_type'] = 'display_data';\n",
       "        await google.colab.output.renderOutput(dataTable, element);\n",
       "        const docLink = document.createElement('div');\n",
       "        docLink.innerHTML = docLinkHtml;\n",
       "        element.appendChild(docLink);\n",
       "      }\n",
       "    </script>\n",
       "  </div>\n",
       "\n",
       "\n",
       "    <div id=\"df-72754308-f5f1-4859-b6ec-6d1a01b5761b\">\n",
       "      <button class=\"colab-df-quickchart\" onclick=\"quickchart('df-72754308-f5f1-4859-b6ec-6d1a01b5761b')\"\n",
       "                title=\"Suggest charts\"\n",
       "                style=\"display:none;\">\n",
       "\n",
       "<svg xmlns=\"http://www.w3.org/2000/svg\" height=\"24px\"viewBox=\"0 0 24 24\"\n",
       "     width=\"24px\">\n",
       "    <g>\n",
       "        <path d=\"M19 3H5c-1.1 0-2 .9-2 2v14c0 1.1.9 2 2 2h14c1.1 0 2-.9 2-2V5c0-1.1-.9-2-2-2zM9 17H7v-7h2v7zm4 0h-2V7h2v10zm4 0h-2v-4h2v4z\"/>\n",
       "    </g>\n",
       "</svg>\n",
       "      </button>\n",
       "\n",
       "<style>\n",
       "  .colab-df-quickchart {\n",
       "      --bg-color: #E8F0FE;\n",
       "      --fill-color: #1967D2;\n",
       "      --hover-bg-color: #E2EBFA;\n",
       "      --hover-fill-color: #174EA6;\n",
       "      --disabled-fill-color: #AAA;\n",
       "      --disabled-bg-color: #DDD;\n",
       "  }\n",
       "\n",
       "  [theme=dark] .colab-df-quickchart {\n",
       "      --bg-color: #3B4455;\n",
       "      --fill-color: #D2E3FC;\n",
       "      --hover-bg-color: #434B5C;\n",
       "      --hover-fill-color: #FFFFFF;\n",
       "      --disabled-bg-color: #3B4455;\n",
       "      --disabled-fill-color: #666;\n",
       "  }\n",
       "\n",
       "  .colab-df-quickchart {\n",
       "    background-color: var(--bg-color);\n",
       "    border: none;\n",
       "    border-radius: 50%;\n",
       "    cursor: pointer;\n",
       "    display: none;\n",
       "    fill: var(--fill-color);\n",
       "    height: 32px;\n",
       "    padding: 0;\n",
       "    width: 32px;\n",
       "  }\n",
       "\n",
       "  .colab-df-quickchart:hover {\n",
       "    background-color: var(--hover-bg-color);\n",
       "    box-shadow: 0 1px 2px rgba(60, 64, 67, 0.3), 0 1px 3px 1px rgba(60, 64, 67, 0.15);\n",
       "    fill: var(--button-hover-fill-color);\n",
       "  }\n",
       "\n",
       "  .colab-df-quickchart-complete:disabled,\n",
       "  .colab-df-quickchart-complete:disabled:hover {\n",
       "    background-color: var(--disabled-bg-color);\n",
       "    fill: var(--disabled-fill-color);\n",
       "    box-shadow: none;\n",
       "  }\n",
       "\n",
       "  .colab-df-spinner {\n",
       "    border: 2px solid var(--fill-color);\n",
       "    border-color: transparent;\n",
       "    border-bottom-color: var(--fill-color);\n",
       "    animation:\n",
       "      spin 1s steps(1) infinite;\n",
       "  }\n",
       "\n",
       "  @keyframes spin {\n",
       "    0% {\n",
       "      border-color: transparent;\n",
       "      border-bottom-color: var(--fill-color);\n",
       "      border-left-color: var(--fill-color);\n",
       "    }\n",
       "    20% {\n",
       "      border-color: transparent;\n",
       "      border-left-color: var(--fill-color);\n",
       "      border-top-color: var(--fill-color);\n",
       "    }\n",
       "    30% {\n",
       "      border-color: transparent;\n",
       "      border-left-color: var(--fill-color);\n",
       "      border-top-color: var(--fill-color);\n",
       "      border-right-color: var(--fill-color);\n",
       "    }\n",
       "    40% {\n",
       "      border-color: transparent;\n",
       "      border-right-color: var(--fill-color);\n",
       "      border-top-color: var(--fill-color);\n",
       "    }\n",
       "    60% {\n",
       "      border-color: transparent;\n",
       "      border-right-color: var(--fill-color);\n",
       "    }\n",
       "    80% {\n",
       "      border-color: transparent;\n",
       "      border-right-color: var(--fill-color);\n",
       "      border-bottom-color: var(--fill-color);\n",
       "    }\n",
       "    90% {\n",
       "      border-color: transparent;\n",
       "      border-bottom-color: var(--fill-color);\n",
       "    }\n",
       "  }\n",
       "</style>\n",
       "\n",
       "      <script>\n",
       "        async function quickchart(key) {\n",
       "          const quickchartButtonEl =\n",
       "            document.querySelector('#' + key + ' button');\n",
       "          quickchartButtonEl.disabled = true;  // To prevent multiple clicks.\n",
       "          quickchartButtonEl.classList.add('colab-df-spinner');\n",
       "          try {\n",
       "            const charts = await google.colab.kernel.invokeFunction(\n",
       "                'suggestCharts', [key], {});\n",
       "          } catch (error) {\n",
       "            console.error('Error during call to suggestCharts:', error);\n",
       "          }\n",
       "          quickchartButtonEl.classList.remove('colab-df-spinner');\n",
       "          quickchartButtonEl.classList.add('colab-df-quickchart-complete');\n",
       "        }\n",
       "        (() => {\n",
       "          let quickchartButtonEl =\n",
       "            document.querySelector('#df-72754308-f5f1-4859-b6ec-6d1a01b5761b button');\n",
       "          quickchartButtonEl.style.display =\n",
       "            google.colab.kernel.accessAllowed ? 'block' : 'none';\n",
       "        })();\n",
       "      </script>\n",
       "    </div>\n",
       "\n",
       "    </div>\n",
       "  </div>\n"
      ],
      "text/plain": [
       "   reviews_per_user  num_users\n",
       "0                 1    2400918\n",
       "1                 2     457374\n",
       "2                 3     166691\n",
       "3                 4      79668\n",
       "4                 5      44877"
      ]
     },
     "metadata": {},
     "output_type": "display_data"
    },
    {
     "name": "stdout",
     "output_type": "stream",
     "text": [
      "\n",
      "\n",
      "Users with 3+ reviews: 398,209\n",
      "\n",
      "Users with 10+ reviews: 32,737\n",
      "\n",
      "Total Users: 3,256,501\n",
      "\n",
      "\n",
      "Summary Statistics:\n"
     ]
    },
    {
     "data": {
      "text/html": [
       "<div>\n",
       "<style scoped>\n",
       "    .dataframe tbody tr th:only-of-type {\n",
       "        vertical-align: middle;\n",
       "    }\n",
       "\n",
       "    .dataframe tbody tr th {\n",
       "        vertical-align: top;\n",
       "    }\n",
       "\n",
       "    .dataframe thead th {\n",
       "        text-align: right;\n",
       "    }\n",
       "</style>\n",
       "<table border=\"1\" class=\"dataframe\">\n",
       "  <thead>\n",
       "    <tr style=\"text-align: right;\">\n",
       "      <th></th>\n",
       "      <th>reviews_per_user</th>\n",
       "    </tr>\n",
       "  </thead>\n",
       "  <tbody>\n",
       "    <tr>\n",
       "      <th>count</th>\n",
       "      <td>270</td>\n",
       "    </tr>\n",
       "    <tr>\n",
       "      <th>mean</th>\n",
       "      <td>195</td>\n",
       "    </tr>\n",
       "    <tr>\n",
       "      <th>std</th>\n",
       "      <td>233</td>\n",
       "    </tr>\n",
       "    <tr>\n",
       "      <th>min</th>\n",
       "      <td>1</td>\n",
       "    </tr>\n",
       "    <tr>\n",
       "      <th>25%</th>\n",
       "      <td>68</td>\n",
       "    </tr>\n",
       "    <tr>\n",
       "      <th>50%</th>\n",
       "      <td>136</td>\n",
       "    </tr>\n",
       "    <tr>\n",
       "      <th>75%</th>\n",
       "      <td>224</td>\n",
       "    </tr>\n",
       "    <tr>\n",
       "      <th>max</th>\n",
       "      <td>1,681</td>\n",
       "    </tr>\n",
       "  </tbody>\n",
       "</table>\n",
       "</div><br><label><b>dtype:</b> float64</label>"
      ],
      "text/plain": [
       "count     270\n",
       "mean      195\n",
       "std       233\n",
       "min         1\n",
       "25%        68\n",
       "50%       136\n",
       "75%       224\n",
       "max     1,681\n",
       "Name: reviews_per_user, dtype: float64"
      ]
     },
     "execution_count": 8,
     "metadata": {},
     "output_type": "execute_result"
    }
   ],
   "source": [
    "# Explore the distribution of reviews per user\n",
    "query = f\"\"\"\n",
    "SELECT\n",
    "    reviews_per_user,\n",
    "    COUNT(*) as num_users\n",
    "FROM (\n",
    "    SELECT\n",
    "        author_id,\n",
    "        COUNT(*) as reviews_per_user\n",
    "    FROM read_json_auto('{Config.DATA_DIR}')\n",
    "    WHERE title IS NOT NULL AND content IS NOT NULL\n",
    "    GROUP BY author_id\n",
    ")\n",
    "GROUP BY reviews_per_user\n",
    "ORDER BY reviews_per_user\n",
    "\"\"\"\n",
    "\n",
    "ans = conn.execute(query).df()\n",
    "print(\"\\nReviews per User Distribution:\")\n",
    "# Set display option to suppress scientific notation\n",
    "pd.options.display.float_format = '{:,.0f}'.format\n",
    "display(ans.head(5))\n",
    "print(f\"\\n\\nUsers with 3+ reviews: {ans[ans['reviews_per_user']>=3]['num_users'].sum():,}\")\n",
    "print(f\"\\nUsers with 10+ reviews: {ans[ans['reviews_per_user']>10]['num_users'].sum():,}\")\n",
    "print(f\"\\nTotal Users: {ans[ans['reviews_per_user']>=1]['num_users'].sum():,}\\n\")\n",
    "print(\"\\nSummary Statistics:\")\n",
    "ans['reviews_per_user'].describe()"
   ]
  },
  {
   "cell_type": "markdown",
   "metadata": {
    "id": "qjTfNYoLxh7D"
   },
   "source": [
    "### Active User Insights\n",
    "\n",
    "Out of 3.2 million total users, approximately 400,000 (12%) have written 3 or more reviews. While this represents a small fraction of users, these active users contribute roughly 41% of all reviews, making them valuable for building a collaborative filtering model."
   ]
  },
  {
   "cell_type": "code",
   "execution_count": null,
   "metadata": {
    "colab": {
     "base_uri": "https://localhost:8080/"
    },
    "id": "aM98JsR4Oe8Y",
    "outputId": "67e6be2e-e217-4d00-8131-0f77ef606c23"
   },
   "outputs": [
    {
     "name": "stdout",
     "output_type": "stream",
     "text": [
      "\n",
      "Review Coverage:\n",
      "Users with 3+ reviews: 12% of users\n",
      "But they contribute: 40.9% of all reviews!\n"
     ]
    }
   ],
   "source": [
    "# Calculate percentage of reviews given by active (3+ reviews) users\n",
    "query = f\"\"\"\n",
    "SELECT\n",
    "    SUM(CASE WHEN review_count >= 3 THEN review_count ELSE 0 END) * 100.0 / SUM(review_count) as pct_reviews\n",
    "FROM (\n",
    "    SELECT author_id, COUNT(*) as review_count\n",
    "    FROM read_json_auto('{Config.DATA_DIR}')\n",
    "    WHERE title IS NOT NULL AND content IS NOT NULL\n",
    "    GROUP BY author_id\n",
    ")\n",
    "\"\"\"\n",
    "\n",
    "ans = conn.execute(query).df()\n",
    "print(\"\\nReview Coverage:\")\n",
    "print(f\"Users with 3+ reviews: 12% of users\")\n",
    "print(f\"But they contribute: {ans['pct_reviews'].iloc[0]:.1f}% of all reviews!\")\n"
   ]
  },
  {
   "cell_type": "markdown",
   "metadata": {
    "id": "Oa2q26as8bEQ"
   },
   "source": [
    "### Visualizing Review Distribution by User Activity\n",
    "\n",
    "The following pie chart illustrates the proportion of reviews contributed by active users (3+ reviews) versus non-active users (fewer than 3 reviews).\n"
   ]
  },
  {
   "cell_type": "code",
   "execution_count": null,
   "metadata": {
    "colab": {
     "base_uri": "https://localhost:8080/",
     "height": 494
    },
    "id": "919526ce",
    "outputId": "5bd74d0b-28c2-4f38-e4bb-de1ee2649554"
   },
   "outputs": [
    {
     "data": {
      "application/vnd.google.colaboratory.intrinsic+json": {
       "summary": "{\n  \"name\": \"ans\",\n  \"rows\": 2,\n  \"fields\": [\n    {\n      \"column\": \"user_type\",\n      \"properties\": {\n        \"dtype\": \"string\",\n        \"num_unique_values\": 2,\n        \"samples\": [\n          \"Active Users (3+ Reviews)\",\n          \"Non-Active Users (< 3 Reviews)\"\n        ],\n        \"semantic_type\": \"\",\n        \"description\": \"\"\n      }\n    },\n    {\n      \"column\": \"num_users\",\n      \"properties\": {\n        \"dtype\": \"number\",\n        \"std\": 1739541,\n        \"min\": 398209,\n        \"max\": 2858292,\n        \"num_unique_values\": 2,\n        \"samples\": [\n          398209,\n          2858292\n        ],\n        \"semantic_type\": \"\",\n        \"description\": \"\"\n      }\n    },\n    {\n      \"column\": \"total_reviews\",\n      \"properties\": {\n        \"dtype\": \"number\",\n        \"std\": 724297.2541439737,\n        \"min\": 2291355.0,\n        \"max\": 3315666.0,\n        \"num_unique_values\": 2,\n        \"samples\": [\n          2291355.0,\n          3315666.0\n        ],\n        \"semantic_type\": \"\",\n        \"description\": \"\"\n      }\n    }\n  ]\n}",
       "type": "dataframe",
       "variable_name": "ans"
      },
      "text/html": [
       "\n",
       "  <div id=\"df-5dbd7920-013e-4045-a3c3-ae201f383d26\" class=\"colab-df-container\">\n",
       "    <div>\n",
       "<style scoped>\n",
       "    .dataframe tbody tr th:only-of-type {\n",
       "        vertical-align: middle;\n",
       "    }\n",
       "\n",
       "    .dataframe tbody tr th {\n",
       "        vertical-align: top;\n",
       "    }\n",
       "\n",
       "    .dataframe thead th {\n",
       "        text-align: right;\n",
       "    }\n",
       "</style>\n",
       "<table border=\"1\" class=\"dataframe\">\n",
       "  <thead>\n",
       "    <tr style=\"text-align: right;\">\n",
       "      <th></th>\n",
       "      <th>user_type</th>\n",
       "      <th>num_users</th>\n",
       "      <th>total_reviews</th>\n",
       "    </tr>\n",
       "  </thead>\n",
       "  <tbody>\n",
       "    <tr>\n",
       "      <th>0</th>\n",
       "      <td>Non-Active Users (&lt; 3 Reviews)</td>\n",
       "      <td>2858292</td>\n",
       "      <td>3,315,666</td>\n",
       "    </tr>\n",
       "    <tr>\n",
       "      <th>1</th>\n",
       "      <td>Active Users (3+ Reviews)</td>\n",
       "      <td>398209</td>\n",
       "      <td>2,291,355</td>\n",
       "    </tr>\n",
       "  </tbody>\n",
       "</table>\n",
       "</div>\n",
       "    <div class=\"colab-df-buttons\">\n",
       "\n",
       "  <div class=\"colab-df-container\">\n",
       "    <button class=\"colab-df-convert\" onclick=\"convertToInteractive('df-5dbd7920-013e-4045-a3c3-ae201f383d26')\"\n",
       "            title=\"Convert this dataframe to an interactive table.\"\n",
       "            style=\"display:none;\">\n",
       "\n",
       "  <svg xmlns=\"http://www.w3.org/2000/svg\" height=\"24px\" viewBox=\"0 -960 960 960\">\n",
       "    <path d=\"M120-120v-720h720v720H120Zm60-500h600v-160H180v160Zm220 220h160v-160H400v160Zm0 220h160v-160H400v160ZM180-400h160v-160H180v160Zm440 0h160v-160H620v160ZM180-180h160v-160H180v160Zm440 0h160v-160H620v160Z\"/>\n",
       "  </svg>\n",
       "    </button>\n",
       "\n",
       "  <style>\n",
       "    .colab-df-container {\n",
       "      display:flex;\n",
       "      gap: 12px;\n",
       "    }\n",
       "\n",
       "    .colab-df-convert {\n",
       "      background-color: #E8F0FE;\n",
       "      border: none;\n",
       "      border-radius: 50%;\n",
       "      cursor: pointer;\n",
       "      display: none;\n",
       "      fill: #1967D2;\n",
       "      height: 32px;\n",
       "      padding: 0 0 0 0;\n",
       "      width: 32px;\n",
       "    }\n",
       "\n",
       "    .colab-df-convert:hover {\n",
       "      background-color: #E2EBFA;\n",
       "      box-shadow: 0px 1px 2px rgba(60, 64, 67, 0.3), 0px 1px 3px 1px rgba(60, 64, 67, 0.15);\n",
       "      fill: #174EA6;\n",
       "    }\n",
       "\n",
       "    .colab-df-buttons div {\n",
       "      margin-bottom: 4px;\n",
       "    }\n",
       "\n",
       "    [theme=dark] .colab-df-convert {\n",
       "      background-color: #3B4455;\n",
       "      fill: #D2E3FC;\n",
       "    }\n",
       "\n",
       "    [theme=dark] .colab-df-convert:hover {\n",
       "      background-color: #434B5C;\n",
       "      box-shadow: 0px 1px 3px 1px rgba(0, 0, 0, 0.15);\n",
       "      filter: drop-shadow(0px 1px 2px rgba(0, 0, 0, 0.3));\n",
       "      fill: #FFFFFF;\n",
       "    }\n",
       "  </style>\n",
       "\n",
       "    <script>\n",
       "      const buttonEl =\n",
       "        document.querySelector('#df-5dbd7920-013e-4045-a3c3-ae201f383d26 button.colab-df-convert');\n",
       "      buttonEl.style.display =\n",
       "        google.colab.kernel.accessAllowed ? 'block' : 'none';\n",
       "\n",
       "      async function convertToInteractive(key) {\n",
       "        const element = document.querySelector('#df-5dbd7920-013e-4045-a3c3-ae201f383d26');\n",
       "        const dataTable =\n",
       "          await google.colab.kernel.invokeFunction('convertToInteractive',\n",
       "                                                    [key], {});\n",
       "        if (!dataTable) return;\n",
       "\n",
       "        const docLinkHtml = 'Like what you see? Visit the ' +\n",
       "          '<a target=\"_blank\" href=https://colab.research.google.com/notebooks/data_table.ipynb>data table notebook</a>'\n",
       "          + ' to learn more about interactive tables.';\n",
       "        element.innerHTML = '';\n",
       "        dataTable['output_type'] = 'display_data';\n",
       "        await google.colab.output.renderOutput(dataTable, element);\n",
       "        const docLink = document.createElement('div');\n",
       "        docLink.innerHTML = docLinkHtml;\n",
       "        element.appendChild(docLink);\n",
       "      }\n",
       "    </script>\n",
       "  </div>\n",
       "\n",
       "\n",
       "    <div id=\"df-e22cfc83-2417-4f2c-b9fe-a8e6fb14be2a\">\n",
       "      <button class=\"colab-df-quickchart\" onclick=\"quickchart('df-e22cfc83-2417-4f2c-b9fe-a8e6fb14be2a')\"\n",
       "                title=\"Suggest charts\"\n",
       "                style=\"display:none;\">\n",
       "\n",
       "<svg xmlns=\"http://www.w3.org/2000/svg\" height=\"24px\"viewBox=\"0 0 24 24\"\n",
       "     width=\"24px\">\n",
       "    <g>\n",
       "        <path d=\"M19 3H5c-1.1 0-2 .9-2 2v14c0 1.1.9 2 2 2h14c1.1 0 2-.9 2-2V5c0-1.1-.9-2-2-2zM9 17H7v-7h2v7zm4 0h-2V7h2v10zm4 0h-2v-4h2v4z\"/>\n",
       "    </g>\n",
       "</svg>\n",
       "      </button>\n",
       "\n",
       "<style>\n",
       "  .colab-df-quickchart {\n",
       "      --bg-color: #E8F0FE;\n",
       "      --fill-color: #1967D2;\n",
       "      --hover-bg-color: #E2EBFA;\n",
       "      --hover-fill-color: #174EA6;\n",
       "      --disabled-fill-color: #AAA;\n",
       "      --disabled-bg-color: #DDD;\n",
       "  }\n",
       "\n",
       "  [theme=dark] .colab-df-quickchart {\n",
       "      --bg-color: #3B4455;\n",
       "      --fill-color: #D2E3FC;\n",
       "      --hover-bg-color: #434B5C;\n",
       "      --hover-fill-color: #FFFFFF;\n",
       "      --disabled-bg-color: #3B4455;\n",
       "      --disabled-fill-color: #666;\n",
       "  }\n",
       "\n",
       "  .colab-df-quickchart {\n",
       "    background-color: var(--bg-color);\n",
       "    border: none;\n",
       "    border-radius: 50%;\n",
       "    cursor: pointer;\n",
       "    display: none;\n",
       "    fill: var(--fill-color);\n",
       "    height: 32px;\n",
       "    padding: 0;\n",
       "    width: 32px;\n",
       "  }\n",
       "\n",
       "  .colab-df-quickchart:hover {\n",
       "    background-color: var(--hover-bg-color);\n",
       "    box-shadow: 0 1px 2px rgba(60, 64, 67, 0.3), 0 1px 3px 1px rgba(60, 64, 67, 0.15);\n",
       "    fill: var(--button-hover-fill-color);\n",
       "  }\n",
       "\n",
       "  .colab-df-quickchart-complete:disabled,\n",
       "  .colab-df-quickchart-complete:disabled:hover {\n",
       "    background-color: var(--disabled-bg-color);\n",
       "    fill: var(--disabled-fill-color);\n",
       "    box-shadow: none;\n",
       "  }\n",
       "\n",
       "  .colab-df-spinner {\n",
       "    border: 2px solid var(--fill-color);\n",
       "    border-color: transparent;\n",
       "    border-bottom-color: var(--fill-color);\n",
       "    animation:\n",
       "      spin 1s steps(1) infinite;\n",
       "  }\n",
       "\n",
       "  @keyframes spin {\n",
       "    0% {\n",
       "      border-color: transparent;\n",
       "      border-bottom-color: var(--fill-color);\n",
       "      border-left-color: var(--fill-color);\n",
       "    }\n",
       "    20% {\n",
       "      border-color: transparent;\n",
       "      border-left-color: var(--fill-color);\n",
       "      border-top-color: var(--fill-color);\n",
       "    }\n",
       "    30% {\n",
       "      border-color: transparent;\n",
       "      border-left-color: var(--fill-color);\n",
       "      border-top-color: var(--fill-color);\n",
       "      border-right-color: var(--fill-color);\n",
       "    }\n",
       "    40% {\n",
       "      border-color: transparent;\n",
       "      border-right-color: var(--fill-color);\n",
       "      border-top-color: var(--fill-color);\n",
       "    }\n",
       "    60% {\n",
       "      border-color: transparent;\n",
       "      border-right-color: var(--fill-color);\n",
       "    }\n",
       "    80% {\n",
       "      border-color: transparent;\n",
       "      border-right-color: var(--fill-color);\n",
       "      border-bottom-color: var(--fill-color);\n",
       "    }\n",
       "    90% {\n",
       "      border-color: transparent;\n",
       "      border-bottom-color: var(--fill-color);\n",
       "    }\n",
       "  }\n",
       "</style>\n",
       "\n",
       "      <script>\n",
       "        async function quickchart(key) {\n",
       "          const quickchartButtonEl =\n",
       "            document.querySelector('#' + key + ' button');\n",
       "          quickchartButtonEl.disabled = true;  // To prevent multiple clicks.\n",
       "          quickchartButtonEl.classList.add('colab-df-spinner');\n",
       "          try {\n",
       "            const charts = await google.colab.kernel.invokeFunction(\n",
       "                'suggestCharts', [key], {});\n",
       "          } catch (error) {\n",
       "            console.error('Error during call to suggestCharts:', error);\n",
       "          }\n",
       "          quickchartButtonEl.classList.remove('colab-df-spinner');\n",
       "          quickchartButtonEl.classList.add('colab-df-quickchart-complete');\n",
       "        }\n",
       "        (() => {\n",
       "          let quickchartButtonEl =\n",
       "            document.querySelector('#df-e22cfc83-2417-4f2c-b9fe-a8e6fb14be2a button');\n",
       "          quickchartButtonEl.style.display =\n",
       "            google.colab.kernel.accessAllowed ? 'block' : 'none';\n",
       "        })();\n",
       "      </script>\n",
       "    </div>\n",
       "\n",
       "  <div id=\"id_166f0a9a-d0cc-4ba4-9ac8-38a877fa120d\">\n",
       "    <style>\n",
       "      .colab-df-generate {\n",
       "        background-color: #E8F0FE;\n",
       "        border: none;\n",
       "        border-radius: 50%;\n",
       "        cursor: pointer;\n",
       "        display: none;\n",
       "        fill: #1967D2;\n",
       "        height: 32px;\n",
       "        padding: 0 0 0 0;\n",
       "        width: 32px;\n",
       "      }\n",
       "\n",
       "      .colab-df-generate:hover {\n",
       "        background-color: #E2EBFA;\n",
       "        box-shadow: 0px 1px 2px rgba(60, 64, 67, 0.3), 0px 1px 3px 1px rgba(60, 64, 67, 0.15);\n",
       "        fill: #174EA6;\n",
       "      }\n",
       "\n",
       "      [theme=dark] .colab-df-generate {\n",
       "        background-color: #3B4455;\n",
       "        fill: #D2E3FC;\n",
       "      }\n",
       "\n",
       "      [theme=dark] .colab-df-generate:hover {\n",
       "        background-color: #434B5C;\n",
       "        box-shadow: 0px 1px 3px 1px rgba(0, 0, 0, 0.15);\n",
       "        filter: drop-shadow(0px 1px 2px rgba(0, 0, 0, 0.3));\n",
       "        fill: #FFFFFF;\n",
       "      }\n",
       "    </style>\n",
       "    <button class=\"colab-df-generate\" onclick=\"generateWithVariable('ans')\"\n",
       "            title=\"Generate code using this dataframe.\"\n",
       "            style=\"display:none;\">\n",
       "\n",
       "  <svg xmlns=\"http://www.w3.org/2000/svg\" height=\"24px\"viewBox=\"0 0 24 24\"\n",
       "       width=\"24px\">\n",
       "    <path d=\"M7,19H8.4L18.45,9,17,7.55,7,17.6ZM5,21V16.75L18.45,3.32a2,2,0,0,1,2.83,0l1.4,1.43a1.91,1.91,0,0,1,.58,1.4,1.91,1.91,0,0,1-.58,1.4L9.25,21ZM18.45,9,17,7.55Zm-12,3A5.31,5.31,0,0,0,4.9,8.1,5.31,5.31,0,0,0,1,6.5,5.31,5.31,0,0,0,4.9,4.9,5.31,5.31,0,0,0,6.5,1,5.31,5.31,0,0,0,8.1,4.9,5.31,5.31,0,0,0,12,6.5,5.46,5.46,0,0,0,6.5,12Z\"/>\n",
       "  </svg>\n",
       "    </button>\n",
       "    <script>\n",
       "      (() => {\n",
       "      const buttonEl =\n",
       "        document.querySelector('#id_166f0a9a-d0cc-4ba4-9ac8-38a877fa120d button.colab-df-generate');\n",
       "      buttonEl.style.display =\n",
       "        google.colab.kernel.accessAllowed ? 'block' : 'none';\n",
       "\n",
       "      buttonEl.onclick = () => {\n",
       "        google.colab.notebook.generateWithVariable('ans');\n",
       "      }\n",
       "      })();\n",
       "    </script>\n",
       "  </div>\n",
       "\n",
       "    </div>\n",
       "  </div>\n"
      ],
      "text/plain": [
       "                        user_type  num_users  total_reviews\n",
       "0  Non-Active Users (< 3 Reviews)    2858292      3,315,666\n",
       "1       Active Users (3+ Reviews)     398209      2,291,355"
      ]
     },
     "metadata": {},
     "output_type": "display_data"
    },
    {
     "data": {
      "image/png": "[encoded data removed]",
      "text/plain": [
       "<Figure size 500x500 with 1 Axes>"
      ]
     },
     "metadata": {},
     "output_type": "display_data"
    }
   ],
   "source": [
    "# Calculate total reviews for active (>=3 reviews) and non-active (<=2 reviews) users\n",
    "query = f\"\"\"\n",
    "WITH user_review_counts AS (\n",
    "    SELECT\n",
    "        author_id,\n",
    "        COUNT(*) as reviews_per_user\n",
    "    FROM read_json_auto('{Config.DATA_DIR}')\n",
    "    WHERE title IS NOT NULL AND content IS NOT NULL\n",
    "    GROUP BY author_id\n",
    ")\n",
    "SELECT\n",
    "    CASE\n",
    "        WHEN reviews_per_user >= 3 THEN 'Active Users (3+ Reviews)'\n",
    "        ELSE 'Non-Active Users (< 3 Reviews)'\n",
    "    END as user_type,\n",
    "    COUNT(*) as num_users,\n",
    "    SUM(reviews_per_user) as total_reviews\n",
    "FROM user_review_counts\n",
    "GROUP BY user_type\n",
    "\"\"\"\n",
    "\n",
    "ans = conn.execute(query).df()\n",
    "display(ans)\n",
    "\n",
    "# Prepare data for pie chart\n",
    "labels = ans['user_type']\n",
    "sizes = ans['total_reviews']\n",
    "colors = ['#66b3ff','#ff9999']\n",
    "# Create pie chart\n",
    "plt.figure(figsize=(5, 5))\n",
    "plt.pie(sizes, labels=labels, colors=colors, autopct='%1.1f%%', startangle=90, explode=(0.05, 0))\n",
    "plt.title('Percentage of Reviews by User Activity Level', fontsize=16, fontweight='bold')\n",
    "plt.show()"
   ]
  },
  {
   "cell_type": "markdown",
   "metadata": {
    "id": "it3QelaHsX2u"
   },
   "source": [
    "## 2. Data Preprocessing and Feature Engineering\n",
    "\n",
    "In this section, we filter the dataset to include only active users (3+ reviews), encode categorical variables, and generate semantic embeddings from review text using a BERT-based model. We leverage DuckDB throughout the pipeline to minimize memory usage."
   ]
  },
  {
   "cell_type": "code",
   "execution_count": null,
   "metadata": {
    "colab": {
     "base_uri": "https://localhost:8080/",
     "height": 136,
     "referenced_widgets": [
      "33901381492a4ec591d9af3c796c897d",
      "feb70f14f42e4f25bfb3c4077b769a1c",
      "e534f8b417254f6db06490fae2bc8cbf"
     ]
    },
    "id": "4enhQFvzG0oW",
    "outputId": "b3489857-dcba-47e8-b10f-b7f2e47b06d3"
   },
   "outputs": [
    {
     "data": {
      "application/vnd.jupyter.widget-view+json": {
       "model_id": "33901381492a4ec591d9af3c796c897d",
       "version_major": 2,
       "version_minor": 0
      },
      "text/plain": [
       "FloatProgress(value=0.0, layout=Layout(width='auto'), style=ProgressStyle(bar_color='black'))"
      ]
     },
     "metadata": {},
     "output_type": "display_data"
    },
    {
     "name": "stdout",
     "output_type": "stream",
     "text": [
      "\n",
      "Filtered dataset loaded into memory.\n",
      "Total reviews: 2,291,355\n",
      "Active users (3+ reviews): 398,209\n",
      "Podcasts: 182,005\n"
     ]
    }
   ],
   "source": [
    "# Filter active users (3+ reviews) directly in DuckDB and save to Parquet\n",
    "# This avoids loading the full dataset into memory\n",
    "\n",
    "query = f\"\"\"\n",
    "WITH user_review_counts AS (\n",
    "    SELECT\n",
    "        author_id,\n",
    "        COUNT(*) as review_count\n",
    "    FROM read_json_auto('{Config.DATA_DIR}')\n",
    "    GROUP BY author_id\n",
    "),\n",
    "active_users AS (\n",
    "    SELECT author_id\n",
    "    FROM user_review_counts\n",
    "    WHERE review_count >= 3\n",
    ")\n",
    "SELECT r.*\n",
    "FROM read_json_auto('{Config.DATA_DIR}') r\n",
    "INNER JOIN active_users au ON r.author_id = au.author_id\n",
    "\"\"\"\n",
    "\n",
    "# Load filtered dataset\n",
    "reviews_df = conn.execute(query).df()\n",
    "total_count = len(reviews_df)\n",
    "\n",
    "# Get statistics\n",
    "print(f\"\\nFiltered dataset loaded into memory.\")\n",
    "print(f\"Total reviews: {total_count:,}\")\n",
    "print(f\"Active users (3+ reviews): {reviews_df['author_id'].nunique():,}\")\n",
    "print(f\"Podcasts: {reviews_df['podcast_id'].nunique():,}\")"
   ]
  },
  {
   "cell_type": "markdown",
   "metadata": {
    "id": "V3i8SRT3Q-gi"
   },
   "source": [
    "### Encoding Categorical Variables\n",
    "\n",
    "We encode `author_id` and `podcast_id` as integers using label encoding. This converts the string identifiers into numeric format suitable for machine learning models.\n"
   ]
  },
  {
   "cell_type": "code",
   "execution_count": null,
   "metadata": {
    "colab": {
     "base_uri": "https://localhost:8080/",
     "height": 274
    },
    "id": "dwmXbg1YsX2v",
    "outputId": "6811c27c-b7e3-47ea-fa74-8b224fe8640d"
   },
   "outputs": [
    {
     "data": {
      "application/vnd.google.colaboratory.intrinsic+json": {
       "type": "dataframe",
       "variable_name": "reviews_df"
      },
      "text/html": [
       "\n",
       "  <div id=\"df-c22ebe53-70f2-4c6d-8d7d-6bc3dafdfed8\" class=\"colab-df-container\">\n",
       "    <div>\n",
       "<style scoped>\n",
       "    .dataframe tbody tr th:only-of-type {\n",
       "        vertical-align: middle;\n",
       "    }\n",
       "\n",
       "    .dataframe tbody tr th {\n",
       "        vertical-align: top;\n",
       "    }\n",
       "\n",
       "    .dataframe thead th {\n",
       "        text-align: right;\n",
       "    }\n",
       "</style>\n",
       "<table border=\"1\" class=\"dataframe\">\n",
       "  <thead>\n",
       "    <tr style=\"text-align: right;\">\n",
       "      <th></th>\n",
       "      <th>podcast_id</th>\n",
       "      <th>title</th>\n",
       "      <th>content</th>\n",
       "      <th>rating</th>\n",
       "      <th>author_id</th>\n",
       "      <th>created_at</th>\n",
       "      <th>auth_id_encoded</th>\n",
       "      <th>podcast_id_encoded</th>\n",
       "    </tr>\n",
       "  </thead>\n",
       "  <tbody>\n",
       "    <tr>\n",
       "      <th>0</th>\n",
       "      <td>52e3d2c4fab4e80a8bb75ad144671d96</td>\n",
       "      <td>Argh</td>\n",
       "      <td>What the heck is this show? And why can\u2019t I delete it from my feed. It just won\u2019t die!</td>\n",
       "      <td>1</td>\n",
       "      <td>a23655ce5565f32</td>\n",
       "      <td>2019-05-01 01:24:01+00</td>\n",
       "      <td>252026</td>\n",
       "      <td>58639</td>\n",
       "    </tr>\n",
       "  </tbody>\n",
       "</table>\n",
       "</div>\n",
       "    <div class=\"colab-df-buttons\">\n",
       "\n",
       "  <div class=\"colab-df-container\">\n",
       "    <button class=\"colab-df-convert\" onclick=\"convertToInteractive('df-c22ebe53-70f2-4c6d-8d7d-6bc3dafdfed8')\"\n",
       "            title=\"Convert this dataframe to an interactive table.\"\n",
       "            style=\"display:none;\">\n",
       "\n",
       "  <svg xmlns=\"http://www.w3.org/2000/svg\" height=\"24px\" viewBox=\"0 -960 960 960\">\n",
       "    <path d=\"M120-120v-720h720v720H120Zm60-500h600v-160H180v160Zm220 220h160v-160H400v160Zm0 220h160v-160H400v160ZM180-400h160v-160H180v160Zm440 0h160v-160H620v160ZM180-180h160v-160H180v160Zm440 0h160v-160H620v160Z\"/>\n",
       "  </svg>\n",
       "    </button>\n",
       "\n",
       "  <style>\n",
       "    .colab-df-container {\n",
       "      display:flex;\n",
       "      gap: 12px;\n",
       "    }\n",
       "\n",
       "    .colab-df-convert {\n",
       "      background-color: #E8F0FE;\n",
       "      border: none;\n",
       "      border-radius: 50%;\n",
       "      cursor: pointer;\n",
       "      display: none;\n",
       "      fill: #1967D2;\n",
       "      height: 32px;\n",
       "      padding: 0 0 0 0;\n",
       "      width: 32px;\n",
       "    }\n",
       "\n",
       "    .colab-df-convert:hover {\n",
       "      background-color: #E2EBFA;\n",
       "      box-shadow: 0px 1px 2px rgba(60, 64, 67, 0.3), 0px 1px 3px 1px rgba(60, 64, 67, 0.15);\n",
       "      fill: #174EA6;\n",
       "    }\n",
       "\n",
       "    .colab-df-buttons div {\n",
       "      margin-bottom: 4px;\n",
       "    }\n",
       "\n",
       "    [theme=dark] .colab-df-convert {\n",
       "      background-color: #3B4455;\n",
       "      fill: #D2E3FC;\n",
       "    }\n",
       "\n",
       "    [theme=dark] .colab-df-convert:hover {\n",
       "      background-color: #434B5C;\n",
       "      box-shadow: 0px 1px 3px 1px rgba(0, 0, 0, 0.15);\n",
       "      filter: drop-shadow(0px 1px 2px rgba(0, 0, 0, 0.3));\n",
       "      fill: #FFFFFF;\n",
       "    }\n",
       "  </style>\n",
       "\n",
       "    <script>\n",
       "      const buttonEl =\n",
       "        document.querySelector('#df-c22ebe53-70f2-4c6d-8d7d-6bc3dafdfed8 button.colab-df-convert');\n",
       "      buttonEl.style.display =\n",
       "        google.colab.kernel.accessAllowed ? 'block' : 'none';\n",
       "\n",
       "      async function convertToInteractive(key) {\n",
       "        const element = document.querySelector('#df-c22ebe53-70f2-4c6d-8d7d-6bc3dafdfed8');\n",
       "        const dataTable =\n",
       "          await google.colab.kernel.invokeFunction('convertToInteractive',\n",
       "                                                    [key], {});\n",
       "        if (!dataTable) return;\n",
       "\n",
       "        const docLinkHtml = 'Like what you see? Visit the ' +\n",
       "          '<a target=\"_blank\" href=https://colab.research.google.com/notebooks/data_table.ipynb>data table notebook</a>'\n",
       "          + ' to learn more about interactive tables.';\n",
       "        element.innerHTML = '';\n",
       "        dataTable['output_type'] = 'display_data';\n",
       "        await google.colab.output.renderOutput(dataTable, element);\n",
       "        const docLink = document.createElement('div');\n",
       "        docLink.innerHTML = docLinkHtml;\n",
       "        element.appendChild(docLink);\n",
       "      }\n",
       "    </script>\n",
       "  </div>\n",
       "\n",
       "\n",
       "    </div>\n",
       "  </div>\n"
      ],
      "text/plain": [
       "                         podcast_id title  \\\n",
       "0  52e3d2c4fab4e80a8bb75ad144671d96  Argh   \n",
       "\n",
       "                                                                                  content  \\\n",
       "0  What the heck is this show? And why can\u2019t I delete it from my feed. It just won\u2019t die!   \n",
       "\n",
       "   rating        author_id              created_at  auth_id_encoded  \\\n",
       "0       1  a23655ce5565f32  2019-05-01 01:24:01+00           252026   \n",
       "\n",
       "   podcast_id_encoded  \n",
       "0               58639  "
      ]
     },
     "execution_count": 12,
     "metadata": {},
     "output_type": "execute_result"
    }
   ],
   "source": [
    "# Fit encoders on unique values (memory efficient)\n",
    "unique_users = reviews_df['author_id'].unique()\n",
    "unique_podcasts = reviews_df['podcast_id'].unique()\n",
    "\n",
    "user_encoder = LabelEncoder()\n",
    "podcast_encoder = LabelEncoder()\n",
    "\n",
    "user_encoder.fit(unique_users)\n",
    "podcast_encoder.fit(unique_podcasts)\n",
    "\n",
    "del unique_users, unique_podcasts\n",
    "gc.collect()\n",
    "\n",
    "# Add encoded columns\n",
    "reviews_df['auth_id_encoded'] = user_encoder.transform(reviews_df['author_id'])\n",
    "reviews_df['podcast_id_encoded'] = podcast_encoder.transform(reviews_df['podcast_id'])\n",
    "\n",
    "reviews_df.head(1)"
   ]
  },
  {
   "cell_type": "markdown",
   "metadata": {
    "id": "pXiGtPbHsX2v"
   },
   "source": [
    "### Generating BERT Embeddings\n",
    "\n",
    "We generate text embeddings using the **all-MiniLM-L6-v2** model from Sentence Transformers. This lightweight BERT-based model is fast enough for local experimentation while providing good quality semantic representations of review text.\n"
   ]
  },
  {
   "cell_type": "code",
   "execution_count": null,
   "metadata": {
    "colab": {
     "base_uri": "https://localhost:8080/",
     "height": 404,
     "referenced_widgets": [
      "c187ffeaf5c048588124adb94e5703e6",
      "778e1cce51404eda8d615ad8d23379c0",
      "be493e448a2f49aeb24f68094b9ee34b",
      "63973c2f61114eaab998b4f7fc651241",
      "f0b14e06949547759d4564c17cc2dbc4",
      "b45325ed8a8f4a4c8402f0a20d1ca54d",
      "823d417996554009be7cd40b2a753c30",
      "3d6b199fa0764e50b91dd04e5c02c70d",
      "63680b5706854e94a486294cdc9b31e1",
      "56d730d85d434b8fb93f42896c5c030e",
      "92dd426168c9407bbe9580715c693a82",
      "97c9cfe2da694f0b8813f0277451abde",
      "8ef43d162a0d496db116d41602b0a81a",
      "a93e7d2469ed49cebe3128ad62ea64af",
      "8d6a42a34da64f98883ca2876931ca43",
      "519b79e51ab849db9a77a559fce301f2",
      "20dcc2a3c26c42f6b011c8e44c15a536",
      "f0ef8034eb214e1d87e7a915dd772f9f",
      "92ac33869e2f44b590bc4d0dc785ab5a",
      "9fb2bfdbdfb64fc59accc0bf7d560e66",
      "8485c1ba4d684071b13e6e1a6a99a071",
      "c06c714dc5ee4de0a3ff6620d3e52fa3",
      "868da855f7b942ac9d677b62e2f1e0fa",
      "b0b0e52a55a2470db79ad82b95513a5b",
      "31c21ad06cc648fd9b2127abdbbfbf26",
      "5b52f6d8c34f4609a0eb822bf2c07f05",
      "fdc85eb375a14ff09d163327d9e47879",
      "d317c1f309e6408ea6760af7270aa346",
      "67b9306461c84508bb53dc2bf2e44413",
      "2d8a08a3fea94ec68014ec55d090ada6",
      "57f3bb06b96d4c9d93c7853f05633945",
      "084026f342fb42dd8076e7d7950bfab0",
      "f0a849fa69db4db894b006703f02ae10",
      "9b319e70234741439bdff381ce8ec738",
      "8b841569944b44aeb74174c582839dc2",
      "c9b08c2f28714fb4a66bcb52ed517512",
      "0157d112cedb4240945444177cf5b154",
      "d23a0d7cd51242d4917651f000a562a5",
      "c4222f4ac6694fc480f484fd47dd3fc3",
      "c80c9886602545beb0ac2b9760994b0e",
      "cc4dbe1013164aeb91fdd951c5943dbf",
      "2efe0b58941c41439064b1050b686938",
      "71d56cf8c58843a7955e32a407c0b338",
      "0bd0c2a7dffb4e849405908051a36812",
      "0a53213a85b4482c8fe63e53af87ead1",
      "08fd69145aaf4ce18b94a0a35716c29e",
      "be23569bd77a48a6888fccf555fe80cb",
      "ccfe30f477d143e2a96aaba98f958993",
      "2bb4eb5ee6434ca0aca358470a554722",
      "95f424d6679248848d47c50aa587b554",
      "2dad6ee76352464ba5b6c2d6a335bc63",
      "43cbb94ead4945b894f346939c144954",
      "8195c80a81dd4dc89f3752d18a116e9a",
      "e02b1c61853f44528687a31540ba336d",
      "0a431a4749274da0b754a08807841b7e",
      "329af4c438aa4e31bb1616be4c48a4b5",
      "21d139d5340044b4bdcffdfc88b6239d",
      "17f85fb797f84259b7ef2224dabba9d9",
      "7327b55de7cc41fcbf809ef253e0828c",
      "6fbf571c3db9486ba5d0f376cb77e72f",
      "efda7826c94d439da7962c5c66ae6672",
      "731c49ac4aaf4e299508325ef9231604",
      "dbb10a4a97404e8a9b9665353bd047dc",
      "79fa7bf9738e451989831dc775ba09ed",
      "2cb1919e4de14a5baae74fe8d183bcf2",
      "6174b96ef0a14200b6ef44cd6288675c",
      "65cd3626a7b74c4f9e7d6ad366868767",
      "d6e5e620738f447d98a4c61cde92323b",
      "b1887847aee945c4b25c55582c5c6354",
      "7eb479c56ef8479e922fb589a63b3540",
      "28917a33ac4c446782c24cf7841170d3",
      "07bd18dfd9c54d38a666d10aced35f70",
      "00eaccdd54cf4805a75f8dbd7824f756",
      "415e2f999d6247deb8894eb147b26c34",
      "86d4d30a1e8d43fd8a707833268b9fbf",
      "76b328366f3140ea988c69ca5b3baade",
      "1914e0a06a474b2d8b115d485c83d1b9",
      "00ba4ea259e1482bbd38e414ee352aa0",
      "98f341e5654243048120f660c7520e1c",
      "70cd1f7284ec4adea6f2c15901729809",
      "0ad0661d28b44250ba67716ba444746d",
      "0c9cf25321354d808248109b84518a97",
      "ad632a9874f24ee4a870eed792e47958",
      "352c3d1c960d40faa8de0a2cf73078db",
      "e89a041b7ddf4a508fd6047a847ea2cc",
      "7fde9a19a39141d99ef97d452dac9b4a",
      "4f4b809d0e2346d4bd1d17dce8c3355f",
      "de5877994a95422987490d36722e9c85",
      "9162368833544df8bf75118b827c575c",
      "286da8c7959f4c37a238867514381025",
      "0bd7a09875724e66b3cc2f3e002d8e96",
      "ba78194290ac4276b7acb19eb81b80ed",
      "bc384e8e3a5c4a59a677d41cec7c40f2",
      "769284fd26b1424eb5760bd065b61f3c",
      "b25a2f2114b749cf8553dc5a8aa5887e",
      "508fd1fe01334a4b973a419c37b86a9c",
      "6d5841925de8474d8db4ab4f2c09db41",
      "d818b7c54fb84587b9b131f14224cdfe",
      "bc94011329ae4f8c80c8a28a1d856126",
      "bc95f9f7fa7c44818d187c6042d5f612",
      "9d290cdf41bb4789adc9ac7d05ec0198",
      "ec9f6dc3263e46279af508c439e39acd",
      "1c5fa2728c45404fbc93fc90c54a8020",
      "0fe9ccf048824287ab85a23e0f76af2a",
      "c8889d744e3343528af694fc1b4ac436",
      "6c13fd764c9744639f80d7fd5dbefc0d",
      "76fe5a9925ea4676a205d1d7c652be4a",
      "d144e5d08d5f44598a49fe67c10ec82d",
      "8015206dbcae440f9ca835d27972d337",
      "cc8e31b06c584677b905651b5743a74a",
      "6acb592c6d114eac98e783e20a3aac07",
      "03f88b1635364e8b9346cc8bf5f7426c",
      "50eb4057427c45d5a233467c38c33850",
      "c695c9cfa6bc4b62bb449ed631311084",
      "71a35012ec464f9aa8d550ff8777f0ad",
      "041fa2f8cf73461380490c8dc58b35c4",
      "9ac22fbfcdbd4b01b3e83c5732d0484f",
      "a6334695ee7e46cb90eb3d9592d080b6",
      "7de9860d373245a4b30229d233ea29ab",
      "7196dce6f601409180b934820a386408",
      "fd5d0b2f8c884fbeb62c4d0e8d883bd0"
     ]
    },
    "id": "w5V3QlqlsX2w",
    "outputId": "35d2ccb3-d800-40f7-9d42-f65bea8d3275"
   },
   "outputs": [
    {
     "data": {
      "application/vnd.jupyter.widget-view+json": {
       "model_id": "c187ffeaf5c048588124adb94e5703e6",
       "version_major": 2,
       "version_minor": 0
      },
      "text/plain": [
       "modules.json:   0%|          | 0.00/349 [00:00<?, ?B/s]"
      ]
     },
     "metadata": {},
     "output_type": "display_data"
    },
    {
     "data": {
      "application/vnd.jupyter.widget-view+json": {
       "model_id": "97c9cfe2da694f0b8813f0277451abde",
       "version_major": 2,
       "version_minor": 0
      },
      "text/plain": [
       "config_sentence_transformers.json:   0%|          | 0.00/116 [00:00<?, ?B/s]"
      ]
     },
     "metadata": {},
     "output_type": "display_data"
    },
    {
     "data": {
      "application/vnd.jupyter.widget-view+json": {
       "model_id": "868da855f7b942ac9d677b62e2f1e0fa",
       "version_major": 2,
       "version_minor": 0
      },
      "text/plain": [
       "README.md: 0.00B [00:00, ?B/s]"
      ]
     },
     "metadata": {},
     "output_type": "display_data"
    },
    {
     "data": {
      "application/vnd.jupyter.widget-view+json": {
       "model_id": "9b319e70234741439bdff381ce8ec738",
       "version_major": 2,
       "version_minor": 0
      },
      "text/plain": [
       "sentence_bert_config.json:   0%|          | 0.00/53.0 [00:00<?, ?B/s]"
      ]
     },
     "metadata": {},
     "output_type": "display_data"
    },
    {
     "data": {
      "application/vnd.jupyter.widget-view+json": {
       "model_id": "0a53213a85b4482c8fe63e53af87ead1",
       "version_major": 2,
       "version_minor": 0
      },
      "text/plain": [
       "config.json:   0%|          | 0.00/612 [00:00<?, ?B/s]"
      ]
     },
     "metadata": {},
     "output_type": "display_data"
    },
    {
     "data": {
      "application/vnd.jupyter.widget-view+json": {
       "model_id": "329af4c438aa4e31bb1616be4c48a4b5",
       "version_major": 2,
       "version_minor": 0
      },
      "text/plain": [
       "model.safetensors:   0%|          | 0.00/90.9M [00:00<?, ?B/s]"
      ]
     },
     "metadata": {},
     "output_type": "display_data"
    },
    {
     "data": {
      "application/vnd.jupyter.widget-view+json": {
       "model_id": "65cd3626a7b74c4f9e7d6ad366868767",
       "version_major": 2,
       "version_minor": 0
      },
      "text/plain": [
       "tokenizer_config.json:   0%|          | 0.00/350 [00:00<?, ?B/s]"
      ]
     },
     "metadata": {},
     "output_type": "display_data"
    },
    {
     "data": {
      "application/vnd.jupyter.widget-view+json": {
       "model_id": "00ba4ea259e1482bbd38e414ee352aa0",
       "version_major": 2,
       "version_minor": 0
      },
      "text/plain": [
       "vocab.txt: 0.00B [00:00, ?B/s]"
      ]
     },
     "metadata": {},
     "output_type": "display_data"
    },
    {
     "data": {
      "application/vnd.jupyter.widget-view+json": {
       "model_id": "9162368833544df8bf75118b827c575c",
       "version_major": 2,
       "version_minor": 0
      },
      "text/plain": [
       "tokenizer.json: 0.00B [00:00, ?B/s]"
      ]
     },
     "metadata": {},
     "output_type": "display_data"
    },
    {
     "data": {
      "application/vnd.jupyter.widget-view+json": {
       "model_id": "bc95f9f7fa7c44818d187c6042d5f612",
       "version_major": 2,
       "version_minor": 0
      },
      "text/plain": [
       "special_tokens_map.json:   0%|          | 0.00/112 [00:00<?, ?B/s]"
      ]
     },
     "metadata": {},
     "output_type": "display_data"
    },
    {
     "data": {
      "application/vnd.jupyter.widget-view+json": {
       "model_id": "6acb592c6d114eac98e783e20a3aac07",
       "version_major": 2,
       "version_minor": 0
      },
      "text/plain": [
       "config.json:   0%|          | 0.00/190 [00:00<?, ?B/s]"
      ]
     },
     "metadata": {},
     "output_type": "display_data"
    },
    {
     "name": "stdout",
     "output_type": "stream",
     "text": [
      "Loaded model: all-MiniLM-L6-v2\n",
      "Embedding dimension: 384\n"
     ]
    }
   ],
   "source": [
    "# Login with token\n",
    "login(token=Config.HF_TOKEN)\n",
    "# Load BERT model\n",
    "bert_model = SentenceTransformer('all-MiniLM-L6-v2')\n",
    "print(f\"Loaded model: all-MiniLM-L6-v2\")\n",
    "print(f\"Embedding dimension: {bert_model.get_sentence_embedding_dimension()}\")"
   ]
  },
  {
   "cell_type": "markdown",
   "metadata": {
    "id": "K29okit3iASB"
   },
   "source": [
    "### Combining Text Fields\n",
    "\n",
    "We combine the review title and content into a single text field to capture richer context before generating embeddings."
   ]
  },
  {
   "cell_type": "code",
   "execution_count": null,
   "metadata": {
    "colab": {
     "base_uri": "https://localhost:8080/",
     "height": 274
    },
    "id": "am9N3eqcsX2w",
    "outputId": "ef7538ad-9ab7-4cc2-ea0c-5e78e829f8a4"
   },
   "outputs": [
    {
     "data": {
      "application/vnd.google.colaboratory.intrinsic+json": {
       "summary": "{\n  \"name\": \"display(reviews_df\",\n  \"rows\": 1,\n  \"fields\": [\n    {\n      \"column\": \"podcast_id\",\n      \"properties\": {\n        \"dtype\": \"string\",\n        \"num_unique_values\": 1,\n        \"samples\": [\n          \"52e3d2c4fab4e80a8bb75ad144671d96\"\n        ],\n        \"semantic_type\": \"\",\n        \"description\": \"\"\n      }\n    },\n    {\n      \"column\": \"title\",\n      \"properties\": {\n        \"dtype\": \"string\",\n        \"num_unique_values\": 1,\n        \"samples\": [\n          \"Argh\"\n        ],\n        \"semantic_type\": \"\",\n        \"description\": \"\"\n      }\n    },\n    {\n      \"column\": \"content\",\n      \"properties\": {\n        \"dtype\": \"string\",\n        \"num_unique_values\": 1,\n        \"samples\": [\n          \"What the heck is this show? And why can\\u2019t I delete it from my feed. It just won\\u2019t die!\"\n        ],\n        \"semantic_type\": \"\",\n        \"description\": \"\"\n      }\n    },\n    {\n      \"column\": \"rating\",\n      \"properties\": {\n        \"dtype\": \"number\",\n        \"std\": null,\n        \"min\": 1,\n        \"max\": 1,\n        \"num_unique_values\": 1,\n        \"samples\": [\n          1\n        ],\n        \"semantic_type\": \"\",\n        \"description\": \"\"\n      }\n    },\n    {\n      \"column\": \"author_id\",\n      \"properties\": {\n        \"dtype\": \"string\",\n        \"num_unique_values\": 1,\n        \"samples\": [\n          \"a23655ce5565f32\"\n        ],\n        \"semantic_type\": \"\",\n        \"description\": \"\"\n      }\n    },\n    {\n      \"column\": \"created_at\",\n      \"properties\": {\n        \"dtype\": \"object\",\n        \"num_unique_values\": 1,\n        \"samples\": [\n          \"2019-05-01 01:24:01+00\"\n        ],\n        \"semantic_type\": \"\",\n        \"description\": \"\"\n      }\n    },\n    {\n      \"column\": \"auth_id_encoded\",\n      \"properties\": {\n        \"dtype\": \"number\",\n        \"std\": null,\n        \"min\": 252026,\n        \"max\": 252026,\n        \"num_unique_values\": 1,\n        \"samples\": [\n          252026\n        ],\n        \"semantic_type\": \"\",\n        \"description\": \"\"\n      }\n    },\n    {\n      \"column\": \"podcast_id_encoded\",\n      \"properties\": {\n        \"dtype\": \"number\",\n        \"std\": null,\n        \"min\": 58639,\n        \"max\": 58639,\n        \"num_unique_values\": 1,\n        \"samples\": [\n          58639\n        ],\n        \"semantic_type\": \"\",\n        \"description\": \"\"\n      }\n    },\n    {\n      \"column\": \"review_text\",\n      \"properties\": {\n        \"dtype\": \"string\",\n        \"num_unique_values\": 1,\n        \"samples\": [\n          \"Argh. What the heck is this show? And why can\\u2019t I delete it from my feed. It just won\\u2019t die!\"\n        ],\n        \"semantic_type\": \"\",\n        \"description\": \"\"\n      }\n    }\n  ]\n}",
       "type": "dataframe"
      },
      "text/html": [
       "\n",
       "  <div id=\"df-83ddf6a5-36f6-4360-a0c4-bf9ff89d7a37\" class=\"colab-df-container\">\n",
       "    <div>\n",
       "<style scoped>\n",
       "    .dataframe tbody tr th:only-of-type {\n",
       "        vertical-align: middle;\n",
       "    }\n",
       "\n",
       "    .dataframe tbody tr th {\n",
       "        vertical-align: top;\n",
       "    }\n",
       "\n",
       "    .dataframe thead th {\n",
       "        text-align: right;\n",
       "    }\n",
       "</style>\n",
       "<table border=\"1\" class=\"dataframe\">\n",
       "  <thead>\n",
       "    <tr style=\"text-align: right;\">\n",
       "      <th></th>\n",
       "      <th>podcast_id</th>\n",
       "      <th>title</th>\n",
       "      <th>content</th>\n",
       "      <th>rating</th>\n",
       "      <th>author_id</th>\n",
       "      <th>created_at</th>\n",
       "      <th>auth_id_encoded</th>\n",
       "      <th>podcast_id_encoded</th>\n",
       "      <th>review_text</th>\n",
       "    </tr>\n",
       "  </thead>\n",
       "  <tbody>\n",
       "    <tr>\n",
       "      <th>0</th>\n",
       "      <td>52e3d2c4fab4e80a8bb75ad144671d96</td>\n",
       "      <td>Argh</td>\n",
       "      <td>What the heck is this show? And why can\u2019t I delete it from my feed. It just won\u2019t die!</td>\n",
       "      <td>1</td>\n",
       "      <td>a23655ce5565f32</td>\n",
       "      <td>2019-05-01 01:24:01+00</td>\n",
       "      <td>252026</td>\n",
       "      <td>58639</td>\n",
       "      <td>Argh. What the heck is this show? And why can\u2019t I delete it from my feed. It just won\u2019t die!</td>\n",
       "    </tr>\n",
       "  </tbody>\n",
       "</table>\n",
       "</div>\n",
       "    <div class=\"colab-df-buttons\">\n",
       "\n",
       "  <div class=\"colab-df-container\">\n",
       "    <button class=\"colab-df-convert\" onclick=\"convertToInteractive('df-83ddf6a5-36f6-4360-a0c4-bf9ff89d7a37')\"\n",
       "            title=\"Convert this dataframe to an interactive table.\"\n",
       "            style=\"display:none;\">\n",
       "\n",
       "  <svg xmlns=\"http://www.w3.org/2000/svg\" height=\"24px\" viewBox=\"0 -960 960 960\">\n",
       "    <path d=\"M120-120v-720h720v720H120Zm60-500h600v-160H180v160Zm220 220h160v-160H400v160Zm0 220h160v-160H400v160ZM180-400h160v-160H180v160Zm440 0h160v-160H620v160ZM180-180h160v-160H180v160Zm440 0h160v-160H620v160Z\"/>\n",
       "  </svg>\n",
       "    </button>\n",
       "\n",
       "  <style>\n",
       "    .colab-df-container {\n",
       "      display:flex;\n",
       "      gap: 12px;\n",
       "    }\n",
       "\n",
       "    .colab-df-convert {\n",
       "      background-color: #E8F0FE;\n",
       "      border: none;\n",
       "      border-radius: 50%;\n",
       "      cursor: pointer;\n",
       "      display: none;\n",
       "      fill: #1967D2;\n",
       "      height: 32px;\n",
       "      padding: 0 0 0 0;\n",
       "      width: 32px;\n",
       "    }\n",
       "\n",
       "    .colab-df-convert:hover {\n",
       "      background-color: #E2EBFA;\n",
       "      box-shadow: 0px 1px 2px rgba(60, 64, 67, 0.3), 0px 1px 3px 1px rgba(60, 64, 67, 0.15);\n",
       "      fill: #174EA6;\n",
       "    }\n",
       "\n",
       "    .colab-df-buttons div {\n",
       "      margin-bottom: 4px;\n",
       "    }\n",
       "\n",
       "    [theme=dark] .colab-df-convert {\n",
       "      background-color: #3B4455;\n",
       "      fill: #D2E3FC;\n",
       "    }\n",
       "\n",
       "    [theme=dark] .colab-df-convert:hover {\n",
       "      background-color: #434B5C;\n",
       "      box-shadow: 0px 1px 3px 1px rgba(0, 0, 0, 0.15);\n",
       "      filter: drop-shadow(0px 1px 2px rgba(0, 0, 0, 0.3));\n",
       "      fill: #FFFFFF;\n",
       "    }\n",
       "  </style>\n",
       "\n",
       "    <script>\n",
       "      const buttonEl =\n",
       "        document.querySelector('#df-83ddf6a5-36f6-4360-a0c4-bf9ff89d7a37 button.colab-df-convert');\n",
       "      buttonEl.style.display =\n",
       "        google.colab.kernel.accessAllowed ? 'block' : 'none';\n",
       "\n",
       "      async function convertToInteractive(key) {\n",
       "        const element = document.querySelector('#df-83ddf6a5-36f6-4360-a0c4-bf9ff89d7a37');\n",
       "        const dataTable =\n",
       "          await google.colab.kernel.invokeFunction('convertToInteractive',\n",
       "                                                    [key], {});\n",
       "        if (!dataTable) return;\n",
       "\n",
       "        const docLinkHtml = 'Like what you see? Visit the ' +\n",
       "          '<a target=\"_blank\" href=https://colab.research.google.com/notebooks/data_table.ipynb>data table notebook</a>'\n",
       "          + ' to learn more about interactive tables.';\n",
       "        element.innerHTML = '';\n",
       "        dataTable['output_type'] = 'display_data';\n",
       "        await google.colab.output.renderOutput(dataTable, element);\n",
       "        const docLink = document.createElement('div');\n",
       "        docLink.innerHTML = docLinkHtml;\n",
       "        element.appendChild(docLink);\n",
       "      }\n",
       "    </script>\n",
       "  </div>\n",
       "\n",
       "\n",
       "    </div>\n",
       "  </div>\n"
      ],
      "text/plain": [
       "                         podcast_id title  \\\n",
       "0  52e3d2c4fab4e80a8bb75ad144671d96  Argh   \n",
       "\n",
       "                                                                                  content  \\\n",
       "0  What the heck is this show? And why can\u2019t I delete it from my feed. It just won\u2019t die!   \n",
       "\n",
       "   rating        author_id              created_at  auth_id_encoded  \\\n",
       "0       1  a23655ce5565f32  2019-05-01 01:24:01+00           252026   \n",
       "\n",
       "   podcast_id_encoded  \\\n",
       "0               58639   \n",
       "\n",
       "                                                                                    review_text  \n",
       "0  Argh. What the heck is this show? And why can\u2019t I delete it from my feed. It just won\u2019t die!  "
      ]
     },
     "metadata": {},
     "output_type": "display_data"
    }
   ],
   "source": [
    "# Combine title and content for richer context\n",
    "def create_review_text(row):\n",
    "    \"\"\"Combine title and content for encoding\"\"\"\n",
    "    parts = []\n",
    "    if pd.notna(row.get('title')) and str(row['title']).strip():\n",
    "        parts.append(str(row['title']))\n",
    "    if pd.notna(row.get('content')) and str(row['content']).strip():\n",
    "        parts.append(str(row['content']))\n",
    "    return \". \".join(parts) if parts else \"No content\"\n",
    "\n",
    "reviews_df['review_text'] = reviews_df.apply(create_review_text, axis=1)\n",
    "\n",
    "display(reviews_df.head(1))"
   ]
  },
  {
   "cell_type": "markdown",
   "metadata": {
    "id": "gyRa4mivifP-"
   },
   "source": [
    "### Processing Embeddings in Chunks\n",
    "\n",
    "Generating embeddings for over 2 million reviews is memory-intensive, so we process the data in chunks of 50,000 reviews at a time and save the results to Parquet format.\n"
   ]
  },
  {
   "cell_type": "code",
   "execution_count": null,
   "metadata": {
    "colab": {
     "base_uri": "https://localhost:8080/",
     "height": 1000,
     "referenced_widgets": [
      "5a8db4a07b514ce49d4afd0e977c0e9e",
      "38336d17e26d4e6d983bd1d17167b58f",
      "81d0e829084d4d0398d21c772d12419e",
      "08d9c55ab3784fe891e5c19440aba155",
      "d9e5af1d15424b0183db43add6a32e90",
      "5c16b0911db643d48da05224d2e049f7",
      "011ba7a7e6b64bfe950e4e7cd8338cb6",
      "1c995688280b4f38b107e0bcb4f020d8",
      "69895a5f4ac44a3195cb9d0c332bc787",
      "647807ca80194e6a8ad0c955ef09b07a",
      "6114395d941446b3b4e3bc43dc826e71",
      "08243560eedf4119a73c1047b9d6c313",
      "cf5ca9dc7f8b4e3e993ac81e388f1c4f",
      "de175af6d2f94892a30c6c6a8121e242",
      "5653010f12af47269291a3f2e852b5d5",
      "613c6c23730a4955aa7deafd628f7473",
      "20ac7e625274455a98a1551cedac5f9b",
      "86dfb353d277456281b7e8b8eb786062",
      "ccbdd7110e6648129acd215a3fc40050",
      "40f3505d0f8b4972b8c9ab86a14fb461",
      "b16839c04719455d920356a92f7b44bd",
      "3f237e0b56c64255bc669f9aa19c8ee2",
      "d23993b5683a45498a329952e1c11a35",
      "69f22c57875d4ccbbf66f9e7cca684ed",
      "77a5c3fe519a4b0382a931d91c5754a6",
      "985e0d429fb14019a51503714d700c29",
      "35888d46ed794cc78e92a572e1699e9d",
      "25a30f73fd6e4baab46940911a298191",
      "ae5f2303af254d9ea95547af7c2a5fa5",
      "8b489cbf9fcb4afcbbe95cd54237e823",
      "c6a74889ef8241daaa9280c29aee15a2",
      "84ab0b72af3a4bef8bb3ea85e3731aab",
      "c4be3362d5084c138d1c81e8713fd6f4",
      "4a535be948f749f3ba162517e43e795b",
      "ae595e9e3553430b8c24b64521490cda",
      "900c5a52c5cb4366b7a85bf708036146",
      "0db9ce8c1c9b4e1882b7736a4828229b",
      "1e06d5376d3e40b68c8e9ac25999aa4f",
      "167b317240dc43dbaf31c2c98ab6a883",
      "35537bc48e8c4d09816441954e0ff7dd",
      "5f851606939a4d7d8ce6853aa0e7a9c5",
      "4f19f5ccb20e4d73b3c68b7c6542df37",
      "f3cc21f8279c4a65b153dae4040f5597",
      "b6bcc354663a4b02b012a2e545754b3c",
      "30894e7b11b44068b4c65eb40969e939",
      "9d4cf7c9e15e46dab7d6dfa704385f81",
      "e90ef99dd8bd42fab27457d2256172db",
      "96c059bd05134e89af4be04daac169a9",
      "3c3d4c2fc53b40a5bc47a90e5f6baccb",
      "175472d0b86940b0932feb445fa187a7",
      "95056aa38068437cb3a1749acc3a551e",
      "14e96816261c492dbcfbd565e1dc4c54",
      "f928a6902e2b4c439e4a83ebe8db05cc",
      "32f3158f9f49467f89e2cb1e55acdc72",
      "c08d5578cccb4cf6a0bc29f5e1dc16eb",
      "023dfaa73d024bb4b022d266f3f3f7ad",
      "932e1c11edbc4d7fb5187af9008e2a70",
      "7950ba38f3264592af04edcd95ad2602",
      "5d13c6f127914f8cad7cb6e8b4c2abb5",
      "c785cb481ae44b55939108b48f1b3184",
      "a917ba247c1b4adc94b8bcca64ba9c27",
      "57b4de4a591843cf9512cd8e1d4994f8",
      "c3348cc16df64ae4a2b418b4e0700e0e",
      "19d2bc2500fb48488118ec345bb0b4e4",
      "3449928dfc034bfda3729a3d4e15a3bb",
      "8891456c321c434cb2daa5604c1ec45d",
      "c88363a2cbb34a16a6bc0c29a79bbd9b",
      "3ae791abc0b0439299cb44c36b7b0743",
      "bac6814e50d44317b60e4417cf675015",
      "4bec354484ba44d999d7b28733d0063f",
      "02237fd0baab4893894dc6424a104932",
      "e159566cf72b4d29b20664591787fad7",
      "990f30c8666a46b2a89588c8b1bdb0fa",
      "5218822e29d247a182ae42b880f66e33",
      "b26159f36ad640939d01002962958fd9",
      "1f428c948de948fa9b18295dcc05235e",
      "b2b116d7ea09440b9e80951733de0e30",
      "bbd24b5de9324f64b872085297c46e2e",
      "ea1dc4f0a1a34b1d9d7af45d823a5ad0",
      "e1a248b988c748b4b8228ecf2d9380cb",
      "60058877f8a54dc0a9a3aa9931b21744",
      "dc65f22b51ed4899bf971e4eb89f3fb7",
      "15db7357bb9a469c8f5eb8147fbf4035",
      "08ca349e7ce6411ea7988719d8b9254b",
      "755195444f704673922447da63080933",
      "de655caa9df44d4c837491a90636976e",
      "edf0e6c4da134e21b0ed66735afd3ae0",
      "3e3d574b2073428ea6976a8e0f0930b0",
      "f3d97a5214e743be96ecc666c081fe81",
      "64009495ff6b41a0aa87509f38e0099c",
      "4b70c41274f048cf896e8df1a7782d05",
      "0d659e5e73ed42c7964a4100d7cfc8da",
      "276b22a2926a4949a92c29bee9b3e8a4",
      "cb0c32641f44490fa991ab0194d9a68c",
      "d685b46d97ae4082bdc1a0ae23a57cef",
      "8a79a30e7358491cbf073af73b10f5bc",
      "dc143e1911074314beaf7f4a7e65a20b",
      "484548595bbf460887924a20fbacbecb",
      "3b76908ca8de4f2fa2004e9e96f91ac5",
      "599812e9fb984baab500653d137f20a8",
      "be82431e276d489ab1e64bc86aba57c2",
      "0e732d528d03431a917c0bd68c951fb2",
      "5d16e2631ab642d68a3d4c8665933ece",
      "95aae8f31d0c4d9c8b73730d343e9459",
      "abc8d78cb39b4f929b8ba60b31512286",
      "9642095016a243ee8069ad57f8d0ec3a",
      "d25dd5a28f2141bf873c4774c241a2d7",
      "dcbbb34f84c548df8419c05421485bf9",
      "9025a06938aa412186b3275ba7c545a2",
      "dc842bdd46db4a618b39779aba462ad7",
      "41c867c9df9d4a66b11bc83c1d9399ac",
      "6c97d9b51b864af5a496f7de3eede748",
      "f404d7018a344742b1853b695cdcbbb3",
      "663978be9bfb46f7b8f9f6f2d7bf3b99",
      "e4d349e6b58f4b1c9af599112ce74be2",
      "d0736c09db7c432c9e513932f1c8af45",
      "b96daac49bbd4984a0c5b84c63caa8c3",
      "aedcb0c78dcb4b7195fb253dff850879",
      "1fa7bbe3f6954b6abd61d3d93780ae7d",
      "dabbe4c036a54f01bfaae4130d36c3b8",
      "bf203ae7d8a740b885330a98d25fbc48",
      "e767695edcc34cce99c5995d9f5749aa",
      "e7242c94c30344bb8ed1599d9119d908",
      "3949d5fe873c493ea6e107506d6c38ca",
      "2edd700fe76443baa18fc58516f6cd73",
      "8820472b46ad420d938a509cf8ed7ba5",
      "bf2bb1bd77b04c5aa3adbc2708f5d8fd",
      "e35e4a8f485b41a0baf8330d837b411c",
      "ae2e75c31d794527ad4a7e79a8b47114",
      "e92e90e2095c4f1185cf04263c30aa77",
      "bb5e24dd17a44a41b49a4a35465835f0",
      "65bf423a0677411a8a900a380304b47b",
      "d9f7f4010a4e4391b0c4fc14f7e458c7",
      "d40ab3a680534fb5b2ebe9374d16a162",
      "4e899480cffb4f46b5ba5660cee03faf",
      "006e53016fdf4b21a3c07d1ca6066cb1",
      "1c20a00848124bc38f3752e64fa77992",
      "93875fa61fe0414cb7d774dea1dd5b9a",
      "769d2fb8812942788db56d2166df6796",
      "75d43041fd6b48968bae0ce7f9eee8bb",
      "7375238d53764bfd8b3f086ce5690bd9",
      "ee886f2a157248fa8e21a5c7ea5b43c5",
      "5509cd7a045c4cf6bc8d3b48a392754d",
      "cfea270eb68c4f4a9925f046657dbb9f",
      "395652fb401d4411b7ea688ba580eb1f",
      "3087adfd00e04c7ca5613b5912027b4a",
      "7b199391d19945868ab35d399b59a138",
      "5adeca38bf474e1b8c094f867570a74e",
      "0ba79c4f5a5d46939596ca0e5d1bcc21",
      "6955626ee2d94f398d1046aaffef39b3",
      "e77fa690d68546aabc72b5eead01c458",
      "7f456f8208bb4ce2b452e6ada3b13041",
      "d010580400334b3f91fd6d3507154991",
      "ccdad3e3f4514041b9499ec54f910f27",
      "b2b11d09d75942ef97a1868fa424377b",
      "bc1a5b2cff404e88a078c832f231a9db",
      "46028ad16e3b460a84ba7434265de571",
      "5c196837979a49fe978566b97554dfa6",
      "0c4f0c19c0b145f7bff1d06c65b3a033",
      "4f0f4c5e3bef4df99627b475eb9b7efd",
      "0e5b907458ac4339815f4ccd1b46e188",
      "b80b69a847254770ba46f9546f7869e5",
      "987a784eac514a748a0cbacd6b04abb6",
      "dae4c8652ff94d84bce31e0d3f188bb7",
      "8b432cc4da5f474893f17cfd71601068",
      "4c4ecbda64c841699435b3382c59e84c",
      "ad593fc7f64e48609e07ab246eb78e2d",
      "56b9b6d455f143959790dbb06e81e9fa",
      "05447024ff99436f9a2dc281a2c2924b",
      "626d448e8a9b47d184910e71793bf1f1",
      "8d2829536f16479bbb8f93afc4f6c5c9",
      "43680441db4b4897adc508e5f54696cc",
      "8a25f65cea054760b50329685f31e87b",
      "4f06c110c2024e82a739dd2ee73fd8fd",
      "b922216ff9d24a44acd5c17ad9c490d4",
      "8d38a4aa40ca4069a4a09a571021aeab",
      "6d2b60f38e69459cbf60be7dd6aa42e9",
      "6364d17e27d5476993c04b76a8b5425e",
      "eb285e1d7c234957b4be928e0221b22e",
      "ec26cb10619243c39e02febdac7166fc",
      "bf0051f6bdef41aabfffa845a71e0d84",
      "f78bdc94d53a4c80ae2f218bc53f14b5",
      "1df71e0e7bb04e148c01c5c3810fa210",
      "8c6943a4b015485b91e241be8be3005e",
      "05d6e9a753dd4c379b4b780df267f13b",
      "1edb2774723345bea4922e47dd46707d",
      "270688404f1a408da7e2feac20c56781",
      "afb47e1d5e7544c9af15df96871f22de",
      "3de9955f22a14ceaa98e60df88f4a2db",
      "92701dcaad83423f9bb4c49afae0fa5b",
      "0addf43a90ca4b4599d3542625201979",
      "3254938aabbf437a8a524a219e30b92f",
      "c7ccd8656a2b4458a62a67a3faf4feca",
      "36d9871d2db74f5c8b6abc5d68b78274",
      "6c2dd99271164e559933f38b84621ff6",
      "d6032b68544e4be2961e9da84329740b",
      "0c4e6097d0a1488086c079dfe7137a81",
      "45d43cfc1bd64013bdbb6ff4391ae154",
      "62758d787eef44e19d1358cbe2b57b75",
      "bcb63f77b4794b29ba910c296d0300ed",
      "58df64377e40465db7da7cdfd6a07a55",
      "14bbeb61086045febb3b638480ef9efa",
      "394f347b5d1e46278fd1b6c328dc17f5",
      "63e5ac98df85422e82f381eb4bf40b31",
      "14648e89a725421092d1b98338d15a90",
      "2e7ab4ead92e4af39d9001481b4970b9",
      "fc3430aadb97481bac24b4a8b9b611db",
      "65375c3932e54bdba865ae5a84a720e2",
      "c843df5dc9c34a618ed532d2ec4e9cc9",
      "6062a2041e46479fa70b16530a9398d5",
      "87a7a279a67b4cf99f7cd1dc351ef1d8",
      "c157002316f442d198da11690178feb5",
      "c2c8f0fa62af49c6b6c7a044495183fc",
      "2692733b5adf410fb83bd845a1e5ada4",
      "74e4809916fa461f94f64c68c7e2f380",
      "11ae9d7e40254ec98e135af6be45d41e",
      "5c739d47283d43f3b3f5081683a12f12",
      "066127be44614c0bba3835a8d63ce25f",
      "ac9c7fa997764fdcbabdcf922e2ebf11",
      "27c467cf2c974c4692f3cc7df990b3c1",
      "d0aded7e796c4edf8b206e6501765429",
      "c0e7923bfbbd4362bc686176e7a0f574",
      "b2fbec2f10c8449da72e3d4e69075040",
      "7d53bb4c1ce843de8e7cb491346c45f7",
      "b5b52a96368d4f12aa2fd92350565b33",
      "c06f872343bf4ce3b73063bd2a6bbb93",
      "0e18b3b1127a4d4fabdbeadeee457fad",
      "6978b1cdd7014887a670971b5b8bf6d1",
      "58a1bfe9510e4b288c4fc4170e879acc",
      "7e2b72c5005d4c34a0546adb6de4be70",
      "da710870db664c23b7d9113a46e3c502",
      "2353fc843b054f87bf8a35ce052006b4",
      "d91685eb88f248d3939da8e1070c3631",
      "680de78b77f5414ab46005190f9d5d30",
      "d7a5b56e519a40ad89397f41cae8baab",
      "7642bbb4baa84bde99d4395b051eb06e",
      "5ec4dd3982d444839bef8759a3c53f73",
      "65d28c61a8f84e828c97a8a78c4d0a3d",
      "310c69f4c86f45f68081a1a4c77fa52e",
      "7f12002e9bbc4969960bc85bfb521931",
      "6a71b99b71b4451c80f3e7c8b6583b96",
      "b7b7ca6279ea4f69b8a4e4abdf8473d0",
      "431323712d724c4d871ccfa1a2a1b454",
      "f38b9438f0084108ba4dc2dbf6f17c19",
      "c7e73bd6eda348fba51ffec7a18d845a",
      "756b6326c65045c5b8397d56b71a4917",
      "8b10b44fd8204e6f9a8199910cc67329",
      "18d11899aec542deb531a615cc697582",
      "84e6c8b1d36f4e809e4966f01c239cf1",
      "a94bf6a7eea44ace86cb0408448fccb0",
      "0e191315d7794adfb3c79156e3cf0665",
      "c80461d1cedf4ccbb9cd7f455c6f39ab",
      "1e28e86e7b1842faa08a596d22c0f4bb",
      "b0a9abfb28394727afcca2a09259b9aa",
      "ea2f6a6adcd4484e96c6dd9117f99726",
      "9e3f27362e844fda9027636dadee857e",
      "bf6d284461824adb83532a7b51eeef66",
      "1049fdb5c03a43059d3897fac3ea97c2",
      "cd50167e11394c49916660418d5ebe40",
      "ebee098870864c66aec343a5662c8003",
      "c6379155e4da4747a7ef2fab4ea1dee4",
      "0fcece70952d45498d3439b8b44a4791",
      "6a4b8dfd18f04ac4a65992d8d81ead97",
      "904c41381ad44323a7ee9edd9656affd",
      "5f996df0b0e845e5aea286053695fb1c",
      "611a9621097246e9b011873b9c785b74",
      "9eae47dcb6374738a66433407c15f62a",
      "395698e74351459c950addb8d116f49b",
      "0b533c01083a41089cfcc4b38280f2db",
      "873ac0a8fa47489ea211a1b9a0f1c5ba",
      "b58922c1c4b3495ab29e69d85572765b",
      "1ccb5443c51a400f9ecee6035c6d5838",
      "64bdc1179339469d9f03779d130262e7",
      "d854c70083674aaca16863b2495809af",
      "da10191054ab40fe8f0103a79ff47f1a",
      "f899e72d35f741758e852a28763080b0",
      "c54093a8c8794e139c7a8ba63a68b579",
      "362955fe4d49402d8cc9a19cd2da12cf",
      "43c3e7b97a2b413e9f4739523ab81119",
      "c742a8e61798483b87d2f3a1b59ae369",
      "2df287447ecd47178469b6498f6e089b",
      "a85fbf35ab764b6a8e337680e59b4e2c",
      "9b4c6ffe0ea84563b8d6ccc658cd4cb0",
      "d05a8cf01b414652864ab7aafb3687c8",
      "ee95b326d2ca400dab4fb1b076adb092",
      "5275b520477c45b7a52150e906a3116e",
      "ba1e97f6aeb641c1b90307a6185b51f6",
      "88e9f7f1b2264816aaa996ba1f841198",
      "ecdbb1d9304a4e20beb31fc9b5e957ed",
      "c645a9e1ba12419faa3b583aaacd8022",
      "5d03dced5c37424bba6a802e5ef797d0",
      "7d23f4ffb4f9435ea2f1e0fe6b52fc0d",
      "c803612c85fc40ab95d0c254c2e67811",
      "679623ed6d414038be105b779cad76af",
      "ea393d1551c84cb68b30dd4d92a0090e",
      "7c4b263b4b4e4a74b1f72814a3d6a0ac",
      "1fe09f85d64347829128332f19501875",
      "dc6e1bd24f834c9c9308dc8401a5ce4b",
      "e0e42a0df4d84bf9922899b2ae18befc",
      "2e4e9329ec8544bea40fa03946dc256f",
      "156e5a416a4547b182d1caf38bec72e0",
      "a9554e6a31c04284b9b39bf6a083f855",
      "45e06d681d434fa184cda561e1a1cf2b",
      "cb53205ff8274cff8ee74fe71d01dc5e",
      "df6c42b3b29149f09ff9ab20677657ae",
      "0941a4dd317444579176bca62b9e36f3",
      "b115d34e5e4b438091c2698ae4fb162e",
      "07053065198b45e08070867caf9b1816",
      "7caa8ad9e20d41b3a4641507b92181c6",
      "4bc71091c1554c6bb95be17a2b88560f",
      "1a1f4c1b39394e55baffa5c28e5d891e",
      "3644586ca7dc4e608de65511dbe20f56",
      "d41b875d32ce4be499477dbd9cb82add",
      "051b037f56254f63bf318acb78de3719",
      "7c02f2d8c949458abd3b384260668263",
      "598350228c7a4eb480df554066e66d6f",
      "db8d26aa613c4f7b98dd266251dcad6d",
      "17ae7b69e1824b8584d8c3b6ce7f93df",
      "fa4f8b345f4c426e9193780b3c141653",
      "37fbb7d6e169494cbe2f0a232cb30399",
      "1dbb82eb582b498a98466638952a5781",
      "015b5658be3a400b917d6b7cafc4f8e7",
      "bb4b47583fb14f4f8feadff3451c63b2",
      "35ab33e366d74e8fbd1b1fc55c2a5488",
      "da6613c86e2640cb9230f8f9f94e70e0",
      "1f8dde6054d84e7ba64ad74fa6d965f2",
      "5ed30494a8b14c66ad8a96e07fb563ac",
      "5337ab372dd74234a960071c2bd12fe3",
      "5c1ae681f0084d46bec4cabd433dda82",
      "db12b49d3126455e948f7256d35283d7",
      "4554aa0bf5f549f3bbe9cf7f27ed7b00",
      "128c5aea574b413fa4e6c5f96cf37ee5",
      "ef0fda5ae6df478aa7a1f8602ac870ad",
      "9491c55ab273434a81eea6a3288650f4",
      "bb153ef238c146498762b082ee9d5979",
      "2dd19ec759504288a3fa0c57551e5444",
      "168d207fb3494b0b982844de0cf99e89",
      "d0a0de5eacf94386b6ff94a77c27c928",
      "379c0d6d423f44bfb85e787702c59a97",
      "b4da98df75054b1aa8da7467139c00a1",
      "41c1841ad4644595943d22db70934227",
      "249a3735c79e4d87a70e081393760c4f",
      "33f694f5dda042bca44d726dfc70f0ef",
      "213f9ff2a70c4ff089da6c07bbe66e9a",
      "d914d82c36cd4a3a80effaedb74957e8",
      "ddf2ae7b821742d8b278f10355f34603",
      "75dc70ac5e1140de9e16d0940d2923a9",
      "29fdbde76dca4a0a90736b3d75e03954",
      "368500f58a1e469f88d3564bace498e5",
      "ca34ac89cb47460795d479a89196ce11",
      "a18770b0b7734d8f8fac89aaae8cd89c",
      "20dae9bff268436db302fa44281e5515",
      "841b745bef4b4363b995e502eb3ed040",
      "566bbb8edf6f45cfa4b7b02c5202e848",
      "64433d21ce1f492b9be3363391b3127a",
      "277adc9032bc4a63a027d866e2d19aef",
      "89300e3c7aff49678f8a2589c93805d0",
      "c31b3d45b4614bbd86ab5e402dfe879f",
      "f1c53bf6446742f8b896de796788a97f",
      "31e514911fc540a2ba0768b23ee7bf02",
      "b3375660fbb043b18c2b0f115f3db46c",
      "951d55c24a914065a8a523d08223b183",
      "2d63f433398548848d60ad82f237eceb",
      "f7deaea9ff2049c8b67437cf773289b9",
      "eda0594ab01f42c5aa279cd71bd9a06b",
      "0ebd294ef599445891b155a0d9f57db7",
      "45dcc27e4ac44cb9b49ab595f00c4338",
      "cd9cd89f3c2d4c1d890fd076fe979d2a",
      "403e99d7557447c5b5520d6807cbc5d2",
      "15af33d2e21744d698bbda4239bc2158",
      "015e2fe3b348413fbc5f17ea5c04f6e2",
      "2852c00503bc4451a4abbfd800a5f7f0",
      "ca8bb637f4ea4c139b34e1ad708ad305",
      "890394b17aaa45bebf05b720bca30e36",
      "4d4cb834cc924c298fc82de5a43e5210",
      "a7b94809eec04c80ae3377ea25928527",
      "0bfb8502edd741aaa0ce3c1b8aec7a09",
      "82b918a6ad124bfc970337fe32e771aa",
      "8b4c5361310d4d00b83b1190256b0fb9",
      "c37301b5cbef4fc3b548284830337e1a",
      "64002d3679ac4ad0a9b37e02e2c763b2",
      "25e6931c420444a497f59e8823e93780",
      "e5d59142d10d432988dec445348751d4",
      "84640694577947c48af210914ca25cb7",
      "6e07f293dbcc4f3d98a19a58a4aab22a",
      "3378be676250489681377b2528868375",
      "d21d28f63dc447f4bc7442d06417b64b",
      "0082ba5b8b1d4c48a7adc59b9e429dbc",
      "e2b6288aa86748abafb53c3ad0d44439",
      "6e17128222204c1483551ec13d1133a7",
      "c975fd7077204bada569b2e380e0ab6f",
      "d0cf9d91babb48d789040014a94ef5c6",
      "b27c0d8d83d947dfb24f40e30999d5a6",
      "fbc0e3f39b6c42669c3e69d1b7d001d3",
      "b3a255d7c7a14c7a9453801028ace30f",
      "55024667d18a44fda54f80ed0e791793",
      "8df8414f88174402a912a1652ef477dc",
      "5cc2c69ac7564f7ba2b01ec99e986870",
      "1eb4ffaa40b84dacb9f34365e3aab81c",
      "0285e8f8180645b09f47db6cf07f98da",
      "019e550edc7b48ea9d98e123bd71fcd3",
      "b37422c9ce164251a5359a86cee995f1",
      "8fbbe991c920477d8538ddd51d55e336",
      "9adeda5ebc9f415cad2e75806678911b",
      "1f16cdcb11ae4223b3c53bf1dda0a94b",
      "be98841c8d81465fba47e0028e0e0645",
      "c0978e25021f42a891d184827d8e4659",
      "7b5d1576c15c46869b04dc2a0452bbef",
      "aad6b7b355dd421ba10dd4e2cd63af3d",
      "56f0fe63d7d14fb7a65b4b5daa1deda7",
      "adeecde77b67464dbc498cc0009d6d88",
      "9354662ba60b42308e4a73306534784d",
      "c205e1922d1a4e57bd15f361b2ed2485",
      "4cc331ef6db2402296b160aacb345d6f",
      "2bdc517133834d199973eb6ecbbe5fc7",
      "ee220350f2f74486b4f3e357c87b30fd",
      "ba24c8265c7d42a3982d533eb4244fec",
      "dc0061732c6e4eb4810319a181250603",
      "db791a0768e644aabb6e7a29a05840f6",
      "3306a2064aea42d5940a66f9ca73c7fa",
      "f95e7cb5461044a38584ee57a85df21b",
      "175b3983c57a4bb48b30b5e78237a3da",
      "c622fd85ce9741cbadf2543d01618c10",
      "a8e3e85c54d7422db7b04487580c35a0",
      "df7ae0df38294ac1a762fdef4eae5f19",
      "49b8ad502aee40a1936646e3e4fb784d",
      "848c1f3ffe36444f8072551640442c7c",
      "b3fe4ec743a5469cbc0199894ced830b",
      "defc513cf3624182aaa0befef1834395",
      "988dd44d972c453a9aac37325e0560e6",
      "1f2a7de2b9034fe4ae182eab12a10f56",
      "9ad2ef877d7a4d7baf2d17bac68d202b",
      "4f419159a0c9461b81dc892d39d86636",
      "82055b07098347c3adb4b286d0fa11cf",
      "39f1ef0d6b9c4840889bb29840f5314d",
      "929ae22e3e8349aaa7ec71a080a9e748",
      "7b1229c0c992467f9b9eff919ebeb92f",
      "6caf15c1bd0448f28353f97b3b4291ef",
      "17b4e6e185954fb8a13b4efe728ab3d0",
      "d544ae72e6cd40dd9a482a268858472b",
      "f9cea26d74ac4d0ca057d2161e013aa9",
      "fb9b735729124e3bb98a2e3b4760a4c1",
      "206b3cee8cc947a08d1ecef7bfdc69d3",
      "17fd98d18f27454e8f3f3dc1f19c8199",
      "ca44ac8770d345dfa51cf8582e0dafa3",
      "afcaf79e6a7341479cb6a772b55cb5c9",
      "89e8c43a48f54d46a8fba65e86ca69fb",
      "42a7c2fb3e37404b8caf20ec19d6e0b4",
      "50b814d264c14c889268a6d9e5f34257",
      "813b3a61ff204a1480021add7e073a97",
      "3dd7a14a875743979a1b1c81f0480063",
      "dca49224f2f344d28f525a3f03a7ac27",
      "d1a876cb354a4985a490d68dae84a8be",
      "3ef914b1e5184ca58f71fa3eac55417c",
      "833986a2b65b4d13a4b778f14bddfefa",
      "5b3eb628db324921bf6422eef41492dd",
      "85c64981a8d0442a96df8f5f99052938",
      "4de29b4081ae4b4d90b48eb984b04f31",
      "30c5a9813eb44331bc53d25426355be9",
      "94ea15f7d69740d0b3e0229cea1715e1",
      "67f47014de614b91bbdd32c2f6422afa",
      "e605a46bfd6a4f92a2348229d5d4911e",
      "f8c9d0ba8a9a461797a7b967de2f0bc9",
      "379513c19a964549a7e36b097503e9e5",
      "31c6d463b1494848ab1d273e2ac0fe5c",
      "57583198065546c0b62c63e2c48c7036",
      "5b539387bf24476e85dc1addc2653669",
      "ea43a16cc57f47ecb0dc02a153e032d0",
      "e4b27399484448d29ced5aecd87da72e",
      "f3ed6d49cf9b4669bac630d5fb1a33f4",
      "1b82c4ba9ca146a2869984bdc703353d",
      "5323b2c27f9042439724726d43197833",
      "6df988ed922048b2aa8a2afa57db5847",
      "cc555d8886404ce9a5136c4466de2607",
      "ebf4d0bae2094361a18ca977957e4602",
      "6941d3b8607a48c08d98ccca8b1c9fb3",
      "ffcf33e92ea14544b002efd5a14e85b6",
      "ab027e1dfca24c3a8158e1f13a01f9f6",
      "8e87c510d7dd4e7e8705bfe955f2deef",
      "51d2136b2cfe415ab49d591a4bac414f",
      "818b2b1aa0184fb2b8a83ea50407cee9",
      "a56dfc1b83fb4e5ab35ced3f751be7c6",
      "853e6fe8e69e42c8a8d4447a9343fde8",
      "d9bfc21bef854fb39d92cd1d4b19406c",
      "3b56843087b74990bc0eb05745677091",
      "cee2db925fc541fc83c5cfa829961157",
      "3f010b5e281d4b438d395d0295bf9675",
      "4f8820f26dc747a5a0125fdda89ffe5e",
      "03fb8d062a9649fa9168b51eba2210a9",
      "ee3f7bf9de124f18adae556bae7ef393",
      "d78f6075c9d643fe8e51bfbad9b002eb",
      "baac3a3d411f4f29bcc8f37bcae58755",
      "41ce2fa67bce496abb1020d5b1f0df72",
      "758782f3ec5744c3841a331fe4fff306",
      "6f9d07cce9b6470d9ec4b04ed000a1d7",
      "3f3c837cc84843ac98e772050d546ebc",
      "321377fc91fe4cc5a8aafa7e5779c66b",
      "479f29349deb4e80817edf3109029fd3",
      "a057380c81c741f6887df6b4b4b82074",
      "c4403765263f4114a72055cf2d28b912",
      "5444bf6bbbd547c89f259c6a51d74a45",
      "f32920e7f9df4cc39efe7a87149f19c1",
      "20236c209894429f96e79e953efb8bc1",
      "e30df9833f5040198ae857aaf05d0b1a",
      "e8e3bbb7a68545f0964851b5e23c36c2",
      "556f6b8f22854400ba3d5722138ac81c"
     ]
    },
    "id": "Vdux6rLWsX2w",
    "outputId": "b564f34a-cab6-4a4d-d1fd-84b3302ccb61"
   },
   "outputs": [
    {
     "name": "stdout",
     "output_type": "stream",
     "text": [
      "Processing 2,291,355 reviews in 46 chunks of 50,000\n",
      "Embedding dimension: 384\n",
      "--- Chunk 1/46 (rows 0-49,999) ---\n"
     ]
    },
    {
     "data": {
      "application/vnd.jupyter.widget-view+json": {
       "model_id": "5a8db4a07b514ce49d4afd0e977c0e9e",
       "version_major": 2,
       "version_minor": 0
      },
      "text/plain": [
       "Batches:   0%|          | 0/391 [00:00<?, ?it/s]"
      ]
     },
     "metadata": {},
     "output_type": "display_data"
    },
    {
     "name": "stdout",
     "output_type": "stream",
     "text": [
      "--- Chunk 2/46 (rows 50,000-99,999) ---\n"
     ]
    },
    {
     "data": {
      "application/vnd.jupyter.widget-view+json": {
       "model_id": "08243560eedf4119a73c1047b9d6c313",
       "version_major": 2,
       "version_minor": 0
      },
      "text/plain": [
       "Batches:   0%|          | 0/391 [00:00<?, ?it/s]"
      ]
     },
     "metadata": {},
     "output_type": "display_data"
    },
    {
     "name": "stdout",
     "output_type": "stream",
     "text": [
      "--- Chunk 3/46 (rows 100,000-149,999) ---\n"
     ]
    },
    {
     "data": {
      "application/vnd.jupyter.widget-view+json": {
       "model_id": "d23993b5683a45498a329952e1c11a35",
       "version_major": 2,
       "version_minor": 0
      },
      "text/plain": [
       "Batches:   0%|          | 0/391 [00:00<?, ?it/s]"
      ]
     },
     "metadata": {},
     "output_type": "display_data"
    },
    {
     "name": "stdout",
     "output_type": "stream",
     "text": [
      "--- Chunk 4/46 (rows 150,000-199,999) ---\n"
     ]
    },
    {
     "data": {
      "application/vnd.jupyter.widget-view+json": {
       "model_id": "4a535be948f749f3ba162517e43e795b",
       "version_major": 2,
       "version_minor": 0
      },
      "text/plain": [
       "Batches:   0%|          | 0/391 [00:00<?, ?it/s]"
      ]
     },
     "metadata": {},
     "output_type": "display_data"
    },
    {
     "name": "stdout",
     "output_type": "stream",
     "text": [
      "--- Chunk 5/46 (rows 200,000-249,999) ---\n"
     ]
    },
    {
     "data": {
      "application/vnd.jupyter.widget-view+json": {
       "model_id": "30894e7b11b44068b4c65eb40969e939",
       "version_major": 2,
       "version_minor": 0
      },
      "text/plain": [
       "Batches:   0%|          | 0/391 [00:00<?, ?it/s]"
      ]
     },
     "metadata": {},
     "output_type": "display_data"
    },
    {
     "name": "stdout",
     "output_type": "stream",
     "text": [
      "--- Chunk 6/46 (rows 250,000-299,999) ---\n"
     ]
    },
    {
     "data": {
      "application/vnd.jupyter.widget-view+json": {
       "model_id": "023dfaa73d024bb4b022d266f3f3f7ad",
       "version_major": 2,
       "version_minor": 0
      },
      "text/plain": [
       "Batches:   0%|          | 0/391 [00:00<?, ?it/s]"
      ]
     },
     "metadata": {},
     "output_type": "display_data"
    },
    {
     "name": "stdout",
     "output_type": "stream",
     "text": [
      "--- Chunk 7/46 (rows 300,000-349,999) ---\n"
     ]
    },
    {
     "data": {
      "application/vnd.jupyter.widget-view+json": {
       "model_id": "c88363a2cbb34a16a6bc0c29a79bbd9b",
       "version_major": 2,
       "version_minor": 0
      },
      "text/plain": [
       "Batches:   0%|          | 0/391 [00:00<?, ?it/s]"
      ]
     },
     "metadata": {},
     "output_type": "display_data"
    },
    {
     "name": "stdout",
     "output_type": "stream",
     "text": [
      "--- Chunk 8/46 (rows 350,000-399,999) ---\n"
     ]
    },
    {
     "data": {
      "application/vnd.jupyter.widget-view+json": {
       "model_id": "bbd24b5de9324f64b872085297c46e2e",
       "version_major": 2,
       "version_minor": 0
      },
      "text/plain": [
       "Batches:   0%|          | 0/391 [00:00<?, ?it/s]"
      ]
     },
     "metadata": {},
     "output_type": "display_data"
    },
    {
     "name": "stdout",
     "output_type": "stream",
     "text": [
      "--- Chunk 9/46 (rows 400,000-449,999) ---\n"
     ]
    },
    {
     "data": {
      "application/vnd.jupyter.widget-view+json": {
       "model_id": "f3d97a5214e743be96ecc666c081fe81",
       "version_major": 2,
       "version_minor": 0
      },
      "text/plain": [
       "Batches:   0%|          | 0/391 [00:00<?, ?it/s]"
      ]
     },
     "metadata": {},
     "output_type": "display_data"
    },
    {
     "name": "stdout",
     "output_type": "stream",
     "text": [
      "--- Chunk 10/46 (rows 450,000-499,999) ---\n"
     ]
    },
    {
     "data": {
      "application/vnd.jupyter.widget-view+json": {
       "model_id": "599812e9fb984baab500653d137f20a8",
       "version_major": 2,
       "version_minor": 0
      },
      "text/plain": [
       "Batches:   0%|          | 0/391 [00:00<?, ?it/s]"
      ]
     },
     "metadata": {},
     "output_type": "display_data"
    },
    {
     "name": "stdout",
     "output_type": "stream",
     "text": [
      "--- Chunk 11/46 (rows 500,000-549,999) ---\n"
     ]
    },
    {
     "data": {
      "application/vnd.jupyter.widget-view+json": {
       "model_id": "41c867c9df9d4a66b11bc83c1d9399ac",
       "version_major": 2,
       "version_minor": 0
      },
      "text/plain": [
       "Batches:   0%|          | 0/391 [00:00<?, ?it/s]"
      ]
     },
     "metadata": {},
     "output_type": "display_data"
    },
    {
     "name": "stdout",
     "output_type": "stream",
     "text": [
      "--- Chunk 12/46 (rows 550,000-599,999) ---\n"
     ]
    },
    {
     "data": {
      "application/vnd.jupyter.widget-view+json": {
       "model_id": "e767695edcc34cce99c5995d9f5749aa",
       "version_major": 2,
       "version_minor": 0
      },
      "text/plain": [
       "Batches:   0%|          | 0/391 [00:00<?, ?it/s]"
      ]
     },
     "metadata": {},
     "output_type": "display_data"
    },
    {
     "name": "stdout",
     "output_type": "stream",
     "text": [
      "--- Chunk 13/46 (rows 600,000-649,999) ---\n"
     ]
    },
    {
     "data": {
      "application/vnd.jupyter.widget-view+json": {
       "model_id": "d9f7f4010a4e4391b0c4fc14f7e458c7",
       "version_major": 2,
       "version_minor": 0
      },
      "text/plain": [
       "Batches:   0%|          | 0/391 [00:00<?, ?it/s]"
      ]
     },
     "metadata": {},
     "output_type": "display_data"
    },
    {
     "name": "stdout",
     "output_type": "stream",
     "text": [
      "--- Chunk 14/46 (rows 650,000-699,999) ---\n"
     ]
    },
    {
     "data": {
      "application/vnd.jupyter.widget-view+json": {
       "model_id": "cfea270eb68c4f4a9925f046657dbb9f",
       "version_major": 2,
       "version_minor": 0
      },
      "text/plain": [
       "Batches:   0%|          | 0/391 [00:00<?, ?it/s]"
      ]
     },
     "metadata": {},
     "output_type": "display_data"
    },
    {
     "name": "stdout",
     "output_type": "stream",
     "text": [
      "--- Chunk 15/46 (rows 700,000-749,999) ---\n"
     ]
    },
    {
     "data": {
      "application/vnd.jupyter.widget-view+json": {
       "model_id": "b2b11d09d75942ef97a1868fa424377b",
       "version_major": 2,
       "version_minor": 0
      },
      "text/plain": [
       "Batches:   0%|          | 0/391 [00:00<?, ?it/s]"
      ]
     },
     "metadata": {},
     "output_type": "display_data"
    },
    {
     "name": "stdout",
     "output_type": "stream",
     "text": [
      "--- Chunk 16/46 (rows 750,000-799,999) ---\n"
     ]
    },
    {
     "data": {
      "application/vnd.jupyter.widget-view+json": {
       "model_id": "4c4ecbda64c841699435b3382c59e84c",
       "version_major": 2,
       "version_minor": 0
      },
      "text/plain": [
       "Batches:   0%|          | 0/391 [00:00<?, ?it/s]"
      ]
     },
     "metadata": {},
     "output_type": "display_data"
    },
    {
     "name": "stdout",
     "output_type": "stream",
     "text": [
      "--- Chunk 17/46 (rows 800,000-849,999) ---\n"
     ]
    },
    {
     "data": {
      "application/vnd.jupyter.widget-view+json": {
       "model_id": "6d2b60f38e69459cbf60be7dd6aa42e9",
       "version_major": 2,
       "version_minor": 0
      },
      "text/plain": [
       "Batches:   0%|          | 0/391 [00:00<?, ?it/s]"
      ]
     },
     "metadata": {},
     "output_type": "display_data"
    },
    {
     "name": "stdout",
     "output_type": "stream",
     "text": [
      "--- Chunk 18/46 (rows 850,000-899,999) ---\n"
     ]
    },
    {
     "data": {
      "application/vnd.jupyter.widget-view+json": {
       "model_id": "afb47e1d5e7544c9af15df96871f22de",
       "version_major": 2,
       "version_minor": 0
      },
      "text/plain": [
       "Batches:   0%|          | 0/391 [00:00<?, ?it/s]"
      ]
     },
     "metadata": {},
     "output_type": "display_data"
    },
    {
     "name": "stdout",
     "output_type": "stream",
     "text": [
      "--- Chunk 19/46 (rows 900,000-949,999) ---\n"
     ]
    },
    {
     "data": {
      "application/vnd.jupyter.widget-view+json": {
       "model_id": "62758d787eef44e19d1358cbe2b57b75",
       "version_major": 2,
       "version_minor": 0
      },
      "text/plain": [
       "Batches:   0%|          | 0/391 [00:00<?, ?it/s]"
      ]
     },
     "metadata": {},
     "output_type": "display_data"
    },
    {
     "name": "stdout",
     "output_type": "stream",
     "text": [
      "--- Chunk 20/46 (rows 950,000-999,999) ---\n"
     ]
    },
    {
     "data": {
      "application/vnd.jupyter.widget-view+json": {
       "model_id": "6062a2041e46479fa70b16530a9398d5",
       "version_major": 2,
       "version_minor": 0
      },
      "text/plain": [
       "Batches:   0%|          | 0/391 [00:00<?, ?it/s]"
      ]
     },
     "metadata": {},
     "output_type": "display_data"
    },
    {
     "name": "stdout",
     "output_type": "stream",
     "text": [
      "--- Chunk 21/46 (rows 1,000,000-1,049,999) ---\n"
     ]
    },
    {
     "data": {
      "application/vnd.jupyter.widget-view+json": {
       "model_id": "d0aded7e796c4edf8b206e6501765429",
       "version_major": 2,
       "version_minor": 0
      },
      "text/plain": [
       "Batches:   0%|          | 0/391 [00:00<?, ?it/s]"
      ]
     },
     "metadata": {},
     "output_type": "display_data"
    },
    {
     "name": "stdout",
     "output_type": "stream",
     "text": [
      "--- Chunk 22/46 (rows 1,050,000-1,099,999) ---\n"
     ]
    },
    {
     "data": {
      "application/vnd.jupyter.widget-view+json": {
       "model_id": "2353fc843b054f87bf8a35ce052006b4",
       "version_major": 2,
       "version_minor": 0
      },
      "text/plain": [
       "Batches:   0%|          | 0/391 [00:00<?, ?it/s]"
      ]
     },
     "metadata": {},
     "output_type": "display_data"
    },
    {
     "name": "stdout",
     "output_type": "stream",
     "text": [
      "--- Chunk 23/46 (rows 1,100,000-1,149,999) ---\n"
     ]
    },
    {
     "data": {
      "application/vnd.jupyter.widget-view+json": {
       "model_id": "431323712d724c4d871ccfa1a2a1b454",
       "version_major": 2,
       "version_minor": 0
      },
      "text/plain": [
       "Batches:   0%|          | 0/391 [00:00<?, ?it/s]"
      ]
     },
     "metadata": {},
     "output_type": "display_data"
    },
    {
     "name": "stdout",
     "output_type": "stream",
     "text": [
      "--- Chunk 24/46 (rows 1,150,000-1,199,999) ---\n"
     ]
    },
    {
     "data": {
      "application/vnd.jupyter.widget-view+json": {
       "model_id": "b0a9abfb28394727afcca2a09259b9aa",
       "version_major": 2,
       "version_minor": 0
      },
      "text/plain": [
       "Batches:   0%|          | 0/391 [00:00<?, ?it/s]"
      ]
     },
     "metadata": {},
     "output_type": "display_data"
    },
    {
     "name": "stdout",
     "output_type": "stream",
     "text": [
      "--- Chunk 25/46 (rows 1,200,000-1,249,999) ---\n"
     ]
    },
    {
     "data": {
      "application/vnd.jupyter.widget-view+json": {
       "model_id": "5f996df0b0e845e5aea286053695fb1c",
       "version_major": 2,
       "version_minor": 0
      },
      "text/plain": [
       "Batches:   0%|          | 0/391 [00:00<?, ?it/s]"
      ]
     },
     "metadata": {},
     "output_type": "display_data"
    },
    {
     "name": "stdout",
     "output_type": "stream",
     "text": [
      "--- Chunk 26/46 (rows 1,250,000-1,299,999) ---\n"
     ]
    },
    {
     "data": {
      "application/vnd.jupyter.widget-view+json": {
       "model_id": "f899e72d35f741758e852a28763080b0",
       "version_major": 2,
       "version_minor": 0
      },
      "text/plain": [
       "Batches:   0%|          | 0/391 [00:00<?, ?it/s]"
      ]
     },
     "metadata": {},
     "output_type": "display_data"
    },
    {
     "name": "stdout",
     "output_type": "stream",
     "text": [
      "--- Chunk 27/46 (rows 1,300,000-1,349,999) ---\n"
     ]
    },
    {
     "data": {
      "application/vnd.jupyter.widget-view+json": {
       "model_id": "ba1e97f6aeb641c1b90307a6185b51f6",
       "version_major": 2,
       "version_minor": 0
      },
      "text/plain": [
       "Batches:   0%|          | 0/391 [00:00<?, ?it/s]"
      ]
     },
     "metadata": {},
     "output_type": "display_data"
    },
    {
     "name": "stdout",
     "output_type": "stream",
     "text": [
      "--- Chunk 28/46 (rows 1,350,000-1,399,999) ---\n"
     ]
    },
    {
     "data": {
      "application/vnd.jupyter.widget-view+json": {
       "model_id": "dc6e1bd24f834c9c9308dc8401a5ce4b",
       "version_major": 2,
       "version_minor": 0
      },
      "text/plain": [
       "Batches:   0%|          | 0/391 [00:00<?, ?it/s]"
      ]
     },
     "metadata": {},
     "output_type": "display_data"
    },
    {
     "name": "stdout",
     "output_type": "stream",
     "text": [
      "--- Chunk 29/46 (rows 1,400,000-1,449,999) ---\n"
     ]
    },
    {
     "data": {
      "application/vnd.jupyter.widget-view+json": {
       "model_id": "7caa8ad9e20d41b3a4641507b92181c6",
       "version_major": 2,
       "version_minor": 0
      },
      "text/plain": [
       "Batches:   0%|          | 0/391 [00:00<?, ?it/s]"
      ]
     },
     "metadata": {},
     "output_type": "display_data"
    },
    {
     "name": "stdout",
     "output_type": "stream",
     "text": [
      "--- Chunk 30/46 (rows 1,450,000-1,499,999) ---\n"
     ]
    },
    {
     "data": {
      "application/vnd.jupyter.widget-view+json": {
       "model_id": "37fbb7d6e169494cbe2f0a232cb30399",
       "version_major": 2,
       "version_minor": 0
      },
      "text/plain": [
       "Batches:   0%|          | 0/391 [00:00<?, ?it/s]"
      ]
     },
     "metadata": {},
     "output_type": "display_data"
    },
    {
     "name": "stdout",
     "output_type": "stream",
     "text": [
      "--- Chunk 31/46 (rows 1,500,000-1,549,999) ---\n"
     ]
    },
    {
     "data": {
      "application/vnd.jupyter.widget-view+json": {
       "model_id": "4554aa0bf5f549f3bbe9cf7f27ed7b00",
       "version_major": 2,
       "version_minor": 0
      },
      "text/plain": [
       "Batches:   0%|          | 0/391 [00:00<?, ?it/s]"
      ]
     },
     "metadata": {},
     "output_type": "display_data"
    },
    {
     "name": "stdout",
     "output_type": "stream",
     "text": [
      "--- Chunk 32/46 (rows 1,550,000-1,599,999) ---\n"
     ]
    },
    {
     "data": {
      "application/vnd.jupyter.widget-view+json": {
       "model_id": "249a3735c79e4d87a70e081393760c4f",
       "version_major": 2,
       "version_minor": 0
      },
      "text/plain": [
       "Batches:   0%|          | 0/391 [00:00<?, ?it/s]"
      ]
     },
     "metadata": {},
     "output_type": "display_data"
    },
    {
     "name": "stdout",
     "output_type": "stream",
     "text": [
      "--- Chunk 33/46 (rows 1,600,000-1,649,999) ---\n"
     ]
    },
    {
     "data": {
      "application/vnd.jupyter.widget-view+json": {
       "model_id": "841b745bef4b4363b995e502eb3ed040",
       "version_major": 2,
       "version_minor": 0
      },
      "text/plain": [
       "Batches:   0%|          | 0/391 [00:00<?, ?it/s]"
      ]
     },
     "metadata": {},
     "output_type": "display_data"
    },
    {
     "name": "stdout",
     "output_type": "stream",
     "text": [
      "--- Chunk 34/46 (rows 1,650,000-1,699,999) ---\n"
     ]
    },
    {
     "data": {
      "application/vnd.jupyter.widget-view+json": {
       "model_id": "f7deaea9ff2049c8b67437cf773289b9",
       "version_major": 2,
       "version_minor": 0
      },
      "text/plain": [
       "Batches:   0%|          | 0/391 [00:00<?, ?it/s]"
      ]
     },
     "metadata": {},
     "output_type": "display_data"
    },
    {
     "name": "stdout",
     "output_type": "stream",
     "text": [
      "--- Chunk 35/46 (rows 1,700,000-1,749,999) ---\n"
     ]
    },
    {
     "data": {
      "application/vnd.jupyter.widget-view+json": {
       "model_id": "4d4cb834cc924c298fc82de5a43e5210",
       "version_major": 2,
       "version_minor": 0
      },
      "text/plain": [
       "Batches:   0%|          | 0/391 [00:00<?, ?it/s]"
      ]
     },
     "metadata": {},
     "output_type": "display_data"
    },
    {
     "name": "stdout",
     "output_type": "stream",
     "text": [
      "--- Chunk 36/46 (rows 1,750,000-1,799,999) ---\n"
     ]
    },
    {
     "data": {
      "application/vnd.jupyter.widget-view+json": {
       "model_id": "3378be676250489681377b2528868375",
       "version_major": 2,
       "version_minor": 0
      },
      "text/plain": [
       "Batches:   0%|          | 0/391 [00:00<?, ?it/s]"
      ]
     },
     "metadata": {},
     "output_type": "display_data"
    },
    {
     "name": "stdout",
     "output_type": "stream",
     "text": [
      "--- Chunk 37/46 (rows 1,800,000-1,849,999) ---\n"
     ]
    },
    {
     "data": {
      "application/vnd.jupyter.widget-view+json": {
       "model_id": "8df8414f88174402a912a1652ef477dc",
       "version_major": 2,
       "version_minor": 0
      },
      "text/plain": [
       "Batches:   0%|          | 0/391 [00:00<?, ?it/s]"
      ]
     },
     "metadata": {},
     "output_type": "display_data"
    },
    {
     "name": "stdout",
     "output_type": "stream",
     "text": [
      "--- Chunk 38/46 (rows 1,850,000-1,899,999) ---\n"
     ]
    },
    {
     "data": {
      "application/vnd.jupyter.widget-view+json": {
       "model_id": "7b5d1576c15c46869b04dc2a0452bbef",
       "version_major": 2,
       "version_minor": 0
      },
      "text/plain": [
       "Batches:   0%|          | 0/391 [00:00<?, ?it/s]"
      ]
     },
     "metadata": {},
     "output_type": "display_data"
    },
    {
     "name": "stdout",
     "output_type": "stream",
     "text": [
      "--- Chunk 39/46 (rows 1,900,000-1,949,999) ---\n"
     ]
    },
    {
     "data": {
      "application/vnd.jupyter.widget-view+json": {
       "model_id": "db791a0768e644aabb6e7a29a05840f6",
       "version_major": 2,
       "version_minor": 0
      },
      "text/plain": [
       "Batches:   0%|          | 0/391 [00:00<?, ?it/s]"
      ]
     },
     "metadata": {},
     "output_type": "display_data"
    },
    {
     "name": "stdout",
     "output_type": "stream",
     "text": [
      "--- Chunk 40/46 (rows 1,950,000-1,999,999) ---\n"
     ]
    },
    {
     "data": {
      "application/vnd.jupyter.widget-view+json": {
       "model_id": "988dd44d972c453a9aac37325e0560e6",
       "version_major": 2,
       "version_minor": 0
      },
      "text/plain": [
       "Batches:   0%|          | 0/391 [00:00<?, ?it/s]"
      ]
     },
     "metadata": {},
     "output_type": "display_data"
    },
    {
     "name": "stdout",
     "output_type": "stream",
     "text": [
      "--- Chunk 41/46 (rows 2,000,000-2,049,999) ---\n"
     ]
    },
    {
     "data": {
      "application/vnd.jupyter.widget-view+json": {
       "model_id": "f9cea26d74ac4d0ca057d2161e013aa9",
       "version_major": 2,
       "version_minor": 0
      },
      "text/plain": [
       "Batches:   0%|          | 0/391 [00:00<?, ?it/s]"
      ]
     },
     "metadata": {},
     "output_type": "display_data"
    },
    {
     "name": "stdout",
     "output_type": "stream",
     "text": [
      "--- Chunk 42/46 (rows 2,050,000-2,099,999) ---\n"
     ]
    },
    {
     "data": {
      "application/vnd.jupyter.widget-view+json": {
       "model_id": "dca49224f2f344d28f525a3f03a7ac27",
       "version_major": 2,
       "version_minor": 0
      },
      "text/plain": [
       "Batches:   0%|          | 0/391 [00:00<?, ?it/s]"
      ]
     },
     "metadata": {},
     "output_type": "display_data"
    },
    {
     "name": "stdout",
     "output_type": "stream",
     "text": [
      "--- Chunk 43/46 (rows 2,100,000-2,149,999) ---\n"
     ]
    },
    {
     "data": {
      "application/vnd.jupyter.widget-view+json": {
       "model_id": "f8c9d0ba8a9a461797a7b967de2f0bc9",
       "version_major": 2,
       "version_minor": 0
      },
      "text/plain": [
       "Batches:   0%|          | 0/391 [00:00<?, ?it/s]"
      ]
     },
     "metadata": {},
     "output_type": "display_data"
    },
    {
     "name": "stdout",
     "output_type": "stream",
     "text": [
      "--- Chunk 44/46 (rows 2,150,000-2,199,999) ---\n"
     ]
    },
    {
     "data": {
      "application/vnd.jupyter.widget-view+json": {
       "model_id": "cc555d8886404ce9a5136c4466de2607",
       "version_major": 2,
       "version_minor": 0
      },
      "text/plain": [
       "Batches:   0%|          | 0/391 [00:00<?, ?it/s]"
      ]
     },
     "metadata": {},
     "output_type": "display_data"
    },
    {
     "name": "stdout",
     "output_type": "stream",
     "text": [
      "--- Chunk 45/46 (rows 2,200,000-2,249,999) ---\n"
     ]
    },
    {
     "data": {
      "application/vnd.jupyter.widget-view+json": {
       "model_id": "3b56843087b74990bc0eb05745677091",
       "version_major": 2,
       "version_minor": 0
      },
      "text/plain": [
       "Batches:   0%|          | 0/391 [00:00<?, ?it/s]"
      ]
     },
     "metadata": {},
     "output_type": "display_data"
    },
    {
     "name": "stdout",
     "output_type": "stream",
     "text": [
      "--- Chunk 46/46 (rows 2,250,000-2,291,354) ---\n"
     ]
    },
    {
     "data": {
      "application/vnd.jupyter.widget-view+json": {
       "model_id": "3f3c837cc84843ac98e772050d546ebc",
       "version_major": 2,
       "version_minor": 0
      },
      "text/plain": [
       "Batches:   0%|          | 0/324 [00:00<?, ?it/s]"
      ]
     },
     "metadata": {},
     "output_type": "display_data"
    },
    {
     "name": "stdout",
     "output_type": "stream",
     "text": [
      "All embeddings saved.\n",
      "File size: 4135.2 MB\n"
     ]
    }
   ],
   "source": [
    "chunk_size = 50000  # Process 50K reviews at a time to avoid memory issues\n",
    "num_rows = len(reviews_df)\n",
    "num_chunks = (num_rows + chunk_size - 1) // chunk_size\n",
    "embedding_dim = bert_model.get_sentence_embedding_dimension()\n",
    "\n",
    "print(f\"Processing {num_rows:,} reviews in {num_chunks} chunks of {chunk_size:,}\")\n",
    "print(f\"Embedding dimension: {embedding_dim}\")\n",
    "\n",
    "# Reset index for clean chunking, create temporary directory to store vectors\n",
    "reviews_df = reviews_df.reset_index(drop=True)\n",
    "temp_dir = Path('temp_bert_chunks')\n",
    "temp_dir.mkdir(exist_ok=True)\n",
    "\n",
    "# Process review texts in chunks\n",
    "for chunk_idx in range(num_chunks):\n",
    "    start_idx = chunk_idx * chunk_size\n",
    "    end_idx = min((chunk_idx + 1) * chunk_size, num_rows)\n",
    "\n",
    "    print(f\"--- Chunk {chunk_idx+1}/{num_chunks} (rows {start_idx:,}-{end_idx-1:,}) ---\")\n",
    "\n",
    "    # Get chunk data and encode with BERT, then add embeddings to chunk\n",
    "    chunk_df = reviews_df.iloc[start_idx:end_idx].copy()\n",
    "    texts = chunk_df['review_text'].tolist()\n",
    "\n",
    "    # Encode texts with Bert\n",
    "    embeddings = bert_model.encode(\n",
    "        texts,\n",
    "        batch_size=128,\n",
    "        show_progress_bar=True,\n",
    "        convert_to_numpy=True\n",
    "    )\n",
    "\n",
    "    # Add embeddings to chunk\n",
    "    chunk_df['bert_embedding_all-MiniLM-L6-v2'] = list(embeddings)\n",
    "\n",
    "    # Save chunk to Parquet and free memory\n",
    "    chunk_file = temp_dir / f'chunk_{chunk_idx:04d}.parquet'\n",
    "    chunk_df.to_parquet(chunk_file, index=False)\n",
    "    del chunk_df, texts, embeddings\n",
    "    gc.collect()\n",
    "\n",
    "# Combine all chunks into single Parquet file\n",
    "final_file = Path(Config.PROCESSED_DATA_DIR)\n",
    "chunk_files = sorted(temp_dir.glob('chunk_*.parquet'))\n",
    "tables = [pq.read_table(f) for f in chunk_files]\n",
    "combined_table = pa.concat_tables(tables)\n",
    "pq.write_table(combined_table, final_file)\n",
    "\n",
    "del tables, combined_table\n",
    "gc.collect()\n",
    "\n",
    "# Clean up temp directory\n",
    "shutil.rmtree(temp_dir)\n",
    "\n",
    "print(f\"All embeddings saved.\")\n",
    "print(f\"File size: {final_file.stat().st_size / 1024**2:.1f} MB\")"
   ]
  },
  {
   "cell_type": "markdown",
   "metadata": {
    "id": "8EjAf3s4sX2w"
   },
   "source": [
    "## 3. Creating Train/Test Split\n",
    "\n",
    "We split the data chronologically based on the `created_at` timestamp (80/20 split) using DuckDB. The train and test sets are saved as separate Parquet files, and the label encoders are saved for use during model training.\n"
   ]
  },
  {
   "cell_type": "code",
   "execution_count": null,
   "metadata": {
    "colab": {
     "base_uri": "https://localhost:8080/",
     "height": 148,
     "referenced_widgets": [
      "867dcbd4bedb41649fbed6222d1d41b3",
      "09b821346e154cd2a54b00c234555c56",
      "b26b2029bedc4c77a245b24b8924deb0",
      "11323cfb3ab24c539da1e63ce08f87d3",
      "b941494b2543439ba3c3c5f0b9a32b4b",
      "da4b3d0565fc4a4ebae222469f59e944"
     ]
    },
    "id": "STr-iLm1sX2x",
    "outputId": "6f431c10-849b-4e3d-b109-fa3a6e742a57"
   },
   "outputs": [
    {
     "name": "stdout",
     "output_type": "stream",
     "text": [
      "Split at row: 1,833,084\n",
      "Split timestamp: 2021-08-11 19:20:37+00\n"
     ]
    },
    {
     "data": {
      "application/vnd.jupyter.widget-view+json": {
       "model_id": "867dcbd4bedb41649fbed6222d1d41b3",
       "version_major": 2,
       "version_minor": 0
      },
      "text/plain": [
       "FloatProgress(value=0.0, layout=Layout(width='auto'), style=ProgressStyle(bar_color='black'))"
      ]
     },
     "metadata": {},
     "output_type": "display_data"
    },
    {
     "data": {
      "application/vnd.jupyter.widget-view+json": {
       "model_id": "11323cfb3ab24c539da1e63ce08f87d3",
       "version_major": 2,
       "version_minor": 0
      },
      "text/plain": [
       "FloatProgress(value=0.0, layout=Layout(width='auto'), style=ProgressStyle(bar_color='black'))"
      ]
     },
     "metadata": {},
     "output_type": "display_data"
    },
    {
     "name": "stdout",
     "output_type": "stream",
     "text": [
      "Train/test split completed!\n",
      "Encoders saved to encoders.pkl\n"
     ]
    }
   ],
   "source": [
    "# Calculate split offset in Python\n",
    "split_offset = int(total_count * 0.8)\n",
    "print(f\"Split at row: {split_offset:,}\")\n",
    "\n",
    "# Get the split timestamp\n",
    "split_timestamp = conn.execute(f\"\"\"\n",
    "    SELECT created_at\n",
    "    FROM read_parquet('{Config.PROCESSED_DATA_DIR}')\n",
    "    ORDER BY created_at\n",
    "    LIMIT 1 OFFSET {split_offset}\n",
    "\"\"\").fetchone()[0]\n",
    "\n",
    "print(f\"Split timestamp: {split_timestamp}\")\n",
    "\n",
    "# Create train and test splits directly to parquet files\n",
    "conn.execute(f\"\"\"\n",
    "    COPY (\n",
    "        SELECT * FROM read_parquet('{Config.PROCESSED_DATA_DIR}')\n",
    "        WHERE created_at < '{split_timestamp}'\n",
    "    ) TO '{Config.PROCESSED_DATA_DIR.parent / \"train.parquet\"}'\n",
    "\"\"\")\n",
    "\n",
    "conn.execute(f\"\"\"\n",
    "    COPY (\n",
    "        SELECT * FROM read_parquet('{Config.PROCESSED_DATA_DIR}')\n",
    "        WHERE created_at >= '{split_timestamp}'\n",
    "    ) TO '{Config.PROCESSED_DATA_DIR.parent / \"test.parquet\"}'\n",
    "\"\"\")\n",
    "\n",
    "conn.close()\n",
    "\n",
    "# Save the label encoders\n",
    "with open(Config.PROCESSED_DATA_DIR.parent /'encoders.pkl', 'wb') as f:\n",
    "    pickle.dump({\n",
    "        'user_encoder': user_encoder,\n",
    "        'podcast_encoder': podcast_encoder\n",
    "    }, f)\n",
    "\n",
    "# Delete the full active-user dataset to free up space\n",
    "os.remove(Config.PROCESSED_DATA_DIR)\n",
    "\n",
    "print(\"Train/test split completed!\")\n",
    "print(\"Encoders saved to encoders.pkl\")"
   ]
  }
 ],
 "metadata": {
  "accelerator": "GPU",
  "colab": {
   "gpuType": "T4",
   "machine_shape": "hm",
   "provenance": []
  },
  "kernelspec": {
   "display_name": "Python 3",
   "name": "python3"
  },
  "language_info": {
   "codemirror_mode": {
    "name": "ipython",
    "version": 3
   },
   "file_extension": ".py",
   "mimetype": "text/x-python",
   "name": "python",
   "nbconvert_exporter": "python",
   "pygments_lexer": "ipython3",
   "version": "3.8.0"
  }
 },
 "nbformat": 4,
 "nbformat_minor": 0
}